{
 "cells": [
  {
   "cell_type": "markdown",
   "id": "4cd9e9f2-f52e-4eeb-b6ef-f3b53ad4616b",
   "metadata": {},
   "source": [
    "<h1 style='font-size:40px'> Flight Prices Estimator</h1>\n",
    "<div> \n",
    "    <ul style='font-size:20px'> \n",
    "        <li> \n",
    "            This project is intended to build a flight price estimator using Python's Machine Learning resources.\n",
    "        </li>\n",
    "        <li> \n",
    "            The dataset includes features such as the Airline company responsible for the flight, the cities of departure and destination and the number of stops projected.\n",
    "        </li>\n",
    "        <li> \n",
    "            The data used was originally found on <a href='https://www.kaggle.com/datasets/shubhambathwal/flight-price-prediction'> Kaggle</a>.\n",
    "        </li>\n",
    "    </ul>\n",
    "</div>"
   ]
  },
  {
   "cell_type": "markdown",
   "id": "cc075026-18a6-4cb5-ba89-9c38571fdbe0",
   "metadata": {},
   "source": [
    "<h2 style='font-size:30px'> Data Import & Analysis</h2>\n",
    "<div> \n",
    "    <ul style='font-size:20px'> \n",
    "        <li> \n",
    "            Most of the data in our hands is categorical. Hence, we'll need to find out a way to treat these informations so our algorithms can use them.\n",
    "        </li>\n",
    "    </ul>\n",
    "</div>"
   ]
  },
  {
   "cell_type": "code",
   "execution_count": 3,
   "id": "a37af472-4c35-4ae4-87e2-1c3b6d22ec44",
   "metadata": {},
   "outputs": [
    {
     "data": {
      "text/html": [
       "<div>\n",
       "<style scoped>\n",
       "    .dataframe tbody tr th:only-of-type {\n",
       "        vertical-align: middle;\n",
       "    }\n",
       "\n",
       "    .dataframe tbody tr th {\n",
       "        vertical-align: top;\n",
       "    }\n",
       "\n",
       "    .dataframe thead th {\n",
       "        text-align: right;\n",
       "    }\n",
       "</style>\n",
       "<table border=\"1\" class=\"dataframe\">\n",
       "  <thead>\n",
       "    <tr style=\"text-align: right;\">\n",
       "      <th></th>\n",
       "      <th>airline</th>\n",
       "      <th>flight</th>\n",
       "      <th>source_city</th>\n",
       "      <th>departure_time</th>\n",
       "      <th>stops</th>\n",
       "      <th>arrival_time</th>\n",
       "      <th>destination_city</th>\n",
       "      <th>class</th>\n",
       "      <th>duration</th>\n",
       "      <th>days_left</th>\n",
       "      <th>price</th>\n",
       "    </tr>\n",
       "  </thead>\n",
       "  <tbody>\n",
       "    <tr>\n",
       "      <th>0</th>\n",
       "      <td>SpiceJet</td>\n",
       "      <td>SG-8709</td>\n",
       "      <td>Delhi</td>\n",
       "      <td>Evening</td>\n",
       "      <td>zero</td>\n",
       "      <td>Night</td>\n",
       "      <td>Mumbai</td>\n",
       "      <td>Economy</td>\n",
       "      <td>2.17</td>\n",
       "      <td>1</td>\n",
       "      <td>5953</td>\n",
       "    </tr>\n",
       "    <tr>\n",
       "      <th>1</th>\n",
       "      <td>SpiceJet</td>\n",
       "      <td>SG-8157</td>\n",
       "      <td>Delhi</td>\n",
       "      <td>Early_Morning</td>\n",
       "      <td>zero</td>\n",
       "      <td>Morning</td>\n",
       "      <td>Mumbai</td>\n",
       "      <td>Economy</td>\n",
       "      <td>2.33</td>\n",
       "      <td>1</td>\n",
       "      <td>5953</td>\n",
       "    </tr>\n",
       "    <tr>\n",
       "      <th>2</th>\n",
       "      <td>AirAsia</td>\n",
       "      <td>I5-764</td>\n",
       "      <td>Delhi</td>\n",
       "      <td>Early_Morning</td>\n",
       "      <td>zero</td>\n",
       "      <td>Early_Morning</td>\n",
       "      <td>Mumbai</td>\n",
       "      <td>Economy</td>\n",
       "      <td>2.17</td>\n",
       "      <td>1</td>\n",
       "      <td>5956</td>\n",
       "    </tr>\n",
       "    <tr>\n",
       "      <th>3</th>\n",
       "      <td>Vistara</td>\n",
       "      <td>UK-995</td>\n",
       "      <td>Delhi</td>\n",
       "      <td>Morning</td>\n",
       "      <td>zero</td>\n",
       "      <td>Afternoon</td>\n",
       "      <td>Mumbai</td>\n",
       "      <td>Economy</td>\n",
       "      <td>2.25</td>\n",
       "      <td>1</td>\n",
       "      <td>5955</td>\n",
       "    </tr>\n",
       "    <tr>\n",
       "      <th>4</th>\n",
       "      <td>Vistara</td>\n",
       "      <td>UK-963</td>\n",
       "      <td>Delhi</td>\n",
       "      <td>Morning</td>\n",
       "      <td>zero</td>\n",
       "      <td>Morning</td>\n",
       "      <td>Mumbai</td>\n",
       "      <td>Economy</td>\n",
       "      <td>2.33</td>\n",
       "      <td>1</td>\n",
       "      <td>5955</td>\n",
       "    </tr>\n",
       "  </tbody>\n",
       "</table>\n",
       "</div>"
      ],
      "text/plain": [
       "    airline   flight source_city departure_time stops   arrival_time  \\\n",
       "0  SpiceJet  SG-8709       Delhi        Evening  zero          Night   \n",
       "1  SpiceJet  SG-8157       Delhi  Early_Morning  zero        Morning   \n",
       "2   AirAsia   I5-764       Delhi  Early_Morning  zero  Early_Morning   \n",
       "3   Vistara   UK-995       Delhi        Morning  zero      Afternoon   \n",
       "4   Vistara   UK-963       Delhi        Morning  zero        Morning   \n",
       "\n",
       "  destination_city    class  duration  days_left  price  \n",
       "0           Mumbai  Economy      2.17          1   5953  \n",
       "1           Mumbai  Economy      2.33          1   5953  \n",
       "2           Mumbai  Economy      2.17          1   5956  \n",
       "3           Mumbai  Economy      2.25          1   5955  \n",
       "4           Mumbai  Economy      2.33          1   5955  "
      ]
     },
     "execution_count": 3,
     "metadata": {},
     "output_type": "execute_result"
    }
   ],
   "source": [
    "import pandas as pd\n",
    "import numpy as np\n",
    "\n",
    "df = pd.read_csv('Clean_Dataset.csv', usecols=[i for i in range(1,12)])\n",
    "df.head()"
   ]
  },
  {
   "cell_type": "markdown",
   "id": "bbcde61d-1784-4f9f-b329-d1cb2a10702b",
   "metadata": {},
   "source": [
    "<h2 style='font-size:30px'> Searching for NaN's</h2>\n",
    "<div> \n",
    "    <ul style='font-size:20px'> \n",
    "        <li> \n",
    "            Fortunately, all of our columns do not present null values. We do not need to find out a way to treat such kind defect.\n",
    "        </li>\n",
    "    </ul>\n",
    "</div>"
   ]
  },
  {
   "cell_type": "code",
   "execution_count": 4,
   "id": "b3b357a7-d749-4031-9ff7-58c662dce394",
   "metadata": {},
   "outputs": [
    {
     "name": "stdout",
     "output_type": "stream",
     "text": [
      "<class 'pandas.core.frame.DataFrame'>\n",
      "RangeIndex: 300153 entries, 0 to 300152\n",
      "Data columns (total 11 columns):\n",
      " #   Column            Non-Null Count   Dtype  \n",
      "---  ------            --------------   -----  \n",
      " 0   airline           300153 non-null  object \n",
      " 1   flight            300153 non-null  object \n",
      " 2   source_city       300153 non-null  object \n",
      " 3   departure_time    300153 non-null  object \n",
      " 4   stops             300153 non-null  object \n",
      " 5   arrival_time      300153 non-null  object \n",
      " 6   destination_city  300153 non-null  object \n",
      " 7   class             300153 non-null  object \n",
      " 8   duration          300153 non-null  float64\n",
      " 9   days_left         300153 non-null  int64  \n",
      " 10  price             300153 non-null  int64  \n",
      "dtypes: float64(1), int64(2), object(8)\n",
      "memory usage: 25.2+ MB\n"
     ]
    }
   ],
   "source": [
    "df.info()"
   ]
  },
  {
   "cell_type": "markdown",
   "id": "0a447f1c-c07e-459b-850b-ac260656bdb3",
   "metadata": {},
   "source": [
    "<h2 style='font-size:30px'> Correcting the <em> stops</em> column</h2>\n",
    "<div> \n",
    "    <ul style='font-size:20px'> \n",
    "        <li> \n",
    "            As <em> stops</em> refers to the quantity of stops programmed for the flights, it is reasonable to convert its values to numerical type.\n",
    "        </li>\n",
    "    </ul>\n",
    "</div>"
   ]
  },
  {
   "cell_type": "code",
   "execution_count": 5,
   "id": "4087ad80-b698-4ddb-b428-a1eaa887ecc2",
   "metadata": {},
   "outputs": [
    {
     "data": {
      "text/plain": [
       "array([0, 1, 2])"
      ]
     },
     "execution_count": 5,
     "metadata": {},
     "output_type": "execute_result"
    }
   ],
   "source": [
    "# 'two_or_more' is going to be converted as 2.\n",
    "df['stops'].replace({'zero':0, 'one':1, 'two_or_more':2}, inplace=True)\n",
    "df.stops.unique()"
   ]
  },
  {
   "cell_type": "markdown",
   "id": "f90a490e-e624-4249-8b45-afd2ca965d7f",
   "metadata": {},
   "source": [
    "<h2 style='font-size:30px'> Numerical Values Distribution</h2>\n",
    "<div> \n",
    "    <ul style='font-size:20px'> \n",
    "        <li> \n",
    "            Observing the histograms produced, it is visible that one-stop flights compose the majority of the dataset.\n",
    "        </li>\n",
    "        <li> \n",
    "            The <em> days_left</em> column has a well distributed data.\n",
    "        </li>\n",
    "        <li> \n",
    "            You can see the number of flights that have two or more stops programmed or a duration above 30 hours is proportionately low; the longest flight record cannot even be seen in the histogram! Maybe removing such cases as exceptions could enhance our models' performance.\n",
    "        </li>\n",
    "        <li> \n",
    "            From the DataFrame's description, the most expensive price list is above 100,000.00, which is disparate compared with the rest of the flight tickets.\n",
    "        </li>\n",
    "    </ul>\n",
    "</div>"
   ]
  },
  {
   "cell_type": "code",
   "execution_count": 6,
   "id": "80d0df39-1a22-47ee-a4d5-42f163ba9bdc",
   "metadata": {},
   "outputs": [
    {
     "data": {
      "text/html": [
       "<div>\n",
       "<style scoped>\n",
       "    .dataframe tbody tr th:only-of-type {\n",
       "        vertical-align: middle;\n",
       "    }\n",
       "\n",
       "    .dataframe tbody tr th {\n",
       "        vertical-align: top;\n",
       "    }\n",
       "\n",
       "    .dataframe thead th {\n",
       "        text-align: right;\n",
       "    }\n",
       "</style>\n",
       "<table border=\"1\" class=\"dataframe\">\n",
       "  <thead>\n",
       "    <tr style=\"text-align: right;\">\n",
       "      <th></th>\n",
       "      <th>stops</th>\n",
       "      <th>duration</th>\n",
       "      <th>days_left</th>\n",
       "      <th>price</th>\n",
       "    </tr>\n",
       "  </thead>\n",
       "  <tbody>\n",
       "    <tr>\n",
       "      <th>count</th>\n",
       "      <td>300153.000000</td>\n",
       "      <td>300153.000000</td>\n",
       "      <td>300153.000000</td>\n",
       "      <td>300153.000000</td>\n",
       "    </tr>\n",
       "    <tr>\n",
       "      <th>mean</th>\n",
       "      <td>0.924312</td>\n",
       "      <td>12.221021</td>\n",
       "      <td>26.004751</td>\n",
       "      <td>20889.660523</td>\n",
       "    </tr>\n",
       "    <tr>\n",
       "      <th>std</th>\n",
       "      <td>0.398106</td>\n",
       "      <td>7.191997</td>\n",
       "      <td>13.561004</td>\n",
       "      <td>22697.767366</td>\n",
       "    </tr>\n",
       "    <tr>\n",
       "      <th>min</th>\n",
       "      <td>0.000000</td>\n",
       "      <td>0.830000</td>\n",
       "      <td>1.000000</td>\n",
       "      <td>1105.000000</td>\n",
       "    </tr>\n",
       "    <tr>\n",
       "      <th>25%</th>\n",
       "      <td>1.000000</td>\n",
       "      <td>6.830000</td>\n",
       "      <td>15.000000</td>\n",
       "      <td>4783.000000</td>\n",
       "    </tr>\n",
       "    <tr>\n",
       "      <th>50%</th>\n",
       "      <td>1.000000</td>\n",
       "      <td>11.250000</td>\n",
       "      <td>26.000000</td>\n",
       "      <td>7425.000000</td>\n",
       "    </tr>\n",
       "    <tr>\n",
       "      <th>75%</th>\n",
       "      <td>1.000000</td>\n",
       "      <td>16.170000</td>\n",
       "      <td>38.000000</td>\n",
       "      <td>42521.000000</td>\n",
       "    </tr>\n",
       "    <tr>\n",
       "      <th>max</th>\n",
       "      <td>2.000000</td>\n",
       "      <td>49.830000</td>\n",
       "      <td>49.000000</td>\n",
       "      <td>123071.000000</td>\n",
       "    </tr>\n",
       "  </tbody>\n",
       "</table>\n",
       "</div>"
      ],
      "text/plain": [
       "               stops       duration      days_left          price\n",
       "count  300153.000000  300153.000000  300153.000000  300153.000000\n",
       "mean        0.924312      12.221021      26.004751   20889.660523\n",
       "std         0.398106       7.191997      13.561004   22697.767366\n",
       "min         0.000000       0.830000       1.000000    1105.000000\n",
       "25%         1.000000       6.830000      15.000000    4783.000000\n",
       "50%         1.000000      11.250000      26.000000    7425.000000\n",
       "75%         1.000000      16.170000      38.000000   42521.000000\n",
       "max         2.000000      49.830000      49.000000  123071.000000"
      ]
     },
     "metadata": {},
     "output_type": "display_data"
    },
    {
     "data": {
      "image/png": "[encoded data removed]",
      "text/plain": [
       "<Figure size 1080x360 with 4 Axes>"
      ]
     },
     "metadata": {
      "needs_background": "light"
     },
     "output_type": "display_data"
    }
   ],
   "source": [
    "display(df.describe())\n",
    "df.hist(figsize=(15,5), bins=50);"
   ]
  },
  {
   "cell_type": "markdown",
   "id": "2683c87e-169c-4124-80cf-b499eb205402",
   "metadata": {},
   "source": [
    "<h2 style='font-size:30px'> Engendering Train and Test Sets</h2>\n",
    "<div> \n",
    "    <ul style='font-size:20px'> \n",
    "        <li> \n",
    "            In our sampling, I've chosen to maintain the proportions of the airlines from the dataset.\n",
    "        </li>\n",
    "    </ul>\n",
    "</div>"
   ]
  },
  {
   "cell_type": "code",
   "execution_count": 7,
   "id": "baf9430b-e36c-49cd-a64a-5fd0f9f730fb",
   "metadata": {},
   "outputs": [],
   "source": [
    "from sklearn.model_selection import StratifiedShuffleSplit\n",
    "split = StratifiedShuffleSplit(n_splits=1, train_size=0.8, random_state=42)\n",
    "\n",
    "for train_index, test_index in split.split(df, df.airline):\n",
    "    train = df.loc[train_index]\n",
    "    test = df.loc[test_index]"
   ]
  },
  {
   "cell_type": "markdown",
   "id": "4dedf959-b72f-41f4-a8c2-576bd1da3316",
   "metadata": {},
   "source": [
    "<h2 style='font-size:30px'> Exploratory Analysis on the Training Data</h2>"
   ]
  },
  {
   "cell_type": "markdown",
   "id": "76692188-5cd8-4b6d-aa0a-0a377d0b8ee3",
   "metadata": {
    "tags": []
   },
   "source": [
    "<h3 style='font-size:30px;font-style:italic'> Prices per company</h3>\n",
    "<div> \n",
    "    <ul style='font-size:20px'> \n",
    "        <li> \n",
    "            Companies might charge different prices depending on their target public. Luxury airlines are inclined to have more expensive tickets, for instance.\n",
    "        </li>\n",
    "    </ul>\n",
    "</div>"
   ]
  },
  {
   "cell_type": "code",
   "execution_count": 8,
   "id": "fa3689ff-0b00-4fe3-a35a-aeeb649b0154",
   "metadata": {},
   "outputs": [
    {
     "data": {
      "text/plain": [
       "airline\n",
       "Vistara      30382.636317\n",
       "Air_India    23467.830284\n",
       "SpiceJet      6165.781107\n",
       "GO_FIRST      5654.717337\n",
       "Indigo        5313.265451\n",
       "AirAsia       4088.926075\n",
       "Name: price, dtype: float64"
      ]
     },
     "execution_count": 8,
     "metadata": {},
     "output_type": "execute_result"
    }
   ],
   "source": [
    "# By observing the 'groupby' output, Vistara and Air_India have the most expensive flights.\n",
    "train.groupby('airline')['price'].mean().sort_values(ascending=False)"
   ]
  },
  {
   "cell_type": "code",
   "execution_count": 9,
   "id": "e54561e7-3318-437f-a181-79045e2ff738",
   "metadata": {},
   "outputs": [
    {
     "data": {
      "text/plain": [
       "<seaborn.axisgrid.FacetGrid at 0x7f229d4db820>"
      ]
     },
     "execution_count": 9,
     "metadata": {},
     "output_type": "execute_result"
    },
    {
     "data": {
      "image/png": "[encoded data removed]",
      "text/plain": [
       "<Figure size 1296x216 with 6 Axes>"
      ]
     },
     "metadata": {
      "needs_background": "light"
     },
     "output_type": "display_data"
    }
   ],
   "source": [
    "# Vistara and Air India also have a broader variety of prices compared to the other companies.\n",
    "import seaborn as sns\n",
    "import matplotlib.pyplot as plt\n",
    "airline_fg = sns.FacetGrid(data=train, col='airline', xlim=[0, 100000])\n",
    "\n",
    "airline_fg.map(plt.hist, 'price', bins=50)"
   ]
  },
  {
   "cell_type": "markdown",
   "id": "59038c92-b312-478e-9867-94e95fbb8f1f",
   "metadata": {},
   "source": [
    "<h3 style='font-size:30px;font-style:italic'> Prices per airplane</h3>\n",
    "<div> \n",
    "    <ul style='font-size:20px'> \n",
    "        <li> \n",
    "            Since we've already analyzed the prices for every airline, it would also be convenient to verify whether different aircrafts tend to have higher or lower prices.\n",
    "        </li>\n",
    "    </ul>\n",
    "</div>"
   ]
  },
  {
   "cell_type": "code",
   "execution_count": 10,
   "id": "04059799-6798-417c-8a30-36bacdb86560",
   "metadata": {},
   "outputs": [
    {
     "data": {
      "text/plain": [
       "flight\n",
       "AI-433     44025.000000\n",
       "UK-820     40602.498191\n",
       "UK-930     40094.975684\n",
       "UK-970     39429.818452\n",
       "UK-996     39143.068898\n",
       "               ...     \n",
       "6E-7259     1105.000000\n",
       "6E-7252     1105.000000\n",
       "6E-7141     1105.000000\n",
       "6E-7127     1105.000000\n",
       "6E-557      1105.000000\n",
       "Name: price, Length: 1559, dtype: float64"
      ]
     },
     "execution_count": 10,
     "metadata": {},
     "output_type": "execute_result"
    }
   ],
   "source": [
    "# And the answer is yes! Prices vary considerably depending on the airplane used.\n",
    "train.groupby('flight')['price'].mean().sort_values(ascending=False)"
   ]
  },
  {
   "cell_type": "markdown",
   "id": "f8bd6a9f-73c9-4cae-9376-bd2f6aaad118",
   "metadata": {},
   "source": [
    "<h3 style='font-size:30px;font-style:italic'> Time impact on flight costs</h3>\n",
    "<div> \n",
    "    <ul style='font-size:20px'> \n",
    "        <li> \n",
    "            Let's turn our attention to the time's influence on ticket prices. If flights are scheduled to a part of the day with low demand, prices tend to be lower, for instance. \n",
    "        </li>\n",
    "    </ul>\n",
    "</div>"
   ]
  },
  {
   "cell_type": "code",
   "execution_count": 11,
   "id": "9810b55f-9606-4978-9c7e-ca707bdcba3d",
   "metadata": {},
   "outputs": [
    {
     "data": {
      "text/plain": [
       "<AxesSubplot:xlabel='arrival_time', ylabel='departure_time'>"
      ]
     },
     "execution_count": 11,
     "metadata": {},
     "output_type": "execute_result"
    },
    {
     "data": {
      "image/png": "[encoded data removed]",
      "text/plain": [
       "<Figure size 576x360 with 2 Axes>"
      ]
     },
     "metadata": {
      "needs_background": "light"
     },
     "output_type": "display_data"
    }
   ],
   "source": [
    "pivot_time = pd.pivot_table(data=train, index='departure_time', columns='arrival_time', values='price')\n",
    "plt.figure(figsize=(8,5))\n",
    "sns.heatmap(pivot_time, cmap='Blues', annot=True, fmt='.5g')"
   ]
  },
  {
   "cell_type": "markdown",
   "id": "01f09d98-b311-4c39-9432-88c0344ba25c",
   "metadata": {},
   "source": [
    "<h3 style='font-size:30px;font-style:italic'> Seat type influence on ticket value</h3>\n",
    "<div> \n",
    "    <ul style='font-size:20px'> \n",
    "        <li> \n",
    "            The status of the location of your seat is an obvious aspect to regard when investigating flight prices. \n",
    "        </li>\n",
    "    </ul>\n",
    "</div>"
   ]
  },
  {
   "cell_type": "code",
   "execution_count": 12,
   "id": "3362cc66-6eba-4dfc-957d-dc5719ac47cd",
   "metadata": {},
   "outputs": [
    {
     "data": {
      "text/plain": [
       "<AxesSubplot:xlabel='price', ylabel='Density'>"
      ]
     },
     "execution_count": 12,
     "metadata": {},
     "output_type": "execute_result"
    },
    {
     "data": {
      "image/png": "[encoded data removed]",
      "text/plain": [
       "<Figure size 576x216 with 1 Axes>"
      ]
     },
     "metadata": {
      "needs_background": "light"
     },
     "output_type": "display_data"
    }
   ],
   "source": [
    "# The economic class tend to have prices close to 10000, whereas the business seats are usually valued between 45000 and 60000.\n",
    "from seaborn import kdeplot\n",
    "plt.figure(figsize=(8,3))\n",
    "kdeplot(data=train, x='price', hue='class')"
   ]
  },
  {
   "cell_type": "code",
   "execution_count": 13,
   "id": "c37d74b1-016e-4be4-844b-ce140a6d3850",
   "metadata": {},
   "outputs": [
    {
     "data": {
      "text/html": [
       "<div>\n",
       "<style scoped>\n",
       "    .dataframe tbody tr th:only-of-type {\n",
       "        vertical-align: middle;\n",
       "    }\n",
       "\n",
       "    .dataframe tbody tr th {\n",
       "        vertical-align: top;\n",
       "    }\n",
       "\n",
       "    .dataframe thead th {\n",
       "        text-align: right;\n",
       "    }\n",
       "</style>\n",
       "<table border=\"1\" class=\"dataframe\">\n",
       "  <thead>\n",
       "    <tr style=\"text-align: right;\">\n",
       "      <th></th>\n",
       "      <th>airline</th>\n",
       "      <th>flight</th>\n",
       "      <th>source_city</th>\n",
       "      <th>departure_time</th>\n",
       "      <th>stops</th>\n",
       "      <th>arrival_time</th>\n",
       "      <th>destination_city</th>\n",
       "      <th>class</th>\n",
       "      <th>duration</th>\n",
       "      <th>days_left</th>\n",
       "      <th>price</th>\n",
       "    </tr>\n",
       "  </thead>\n",
       "  <tbody>\n",
       "    <tr>\n",
       "      <th>146864</th>\n",
       "      <td>Air_India</td>\n",
       "      <td>AI-773</td>\n",
       "      <td>Kolkata</td>\n",
       "      <td>Evening</td>\n",
       "      <td>1</td>\n",
       "      <td>Early_Morning</td>\n",
       "      <td>Hyderabad</td>\n",
       "      <td>Economy</td>\n",
       "      <td>14.00</td>\n",
       "      <td>39</td>\n",
       "      <td>5456</td>\n",
       "    </tr>\n",
       "    <tr>\n",
       "      <th>37061</th>\n",
       "      <td>Air_India</td>\n",
       "      <td>AI-678</td>\n",
       "      <td>Delhi</td>\n",
       "      <td>Morning</td>\n",
       "      <td>1</td>\n",
       "      <td>Morning</td>\n",
       "      <td>Chennai</td>\n",
       "      <td>Economy</td>\n",
       "      <td>25.92</td>\n",
       "      <td>14</td>\n",
       "      <td>8885</td>\n",
       "    </tr>\n",
       "    <tr>\n",
       "      <th>29586</th>\n",
       "      <td>Indigo</td>\n",
       "      <td>6E-2147</td>\n",
       "      <td>Delhi</td>\n",
       "      <td>Night</td>\n",
       "      <td>0</td>\n",
       "      <td>Night</td>\n",
       "      <td>Hyderabad</td>\n",
       "      <td>Economy</td>\n",
       "      <td>2.25</td>\n",
       "      <td>9</td>\n",
       "      <td>5955</td>\n",
       "    </tr>\n",
       "    <tr>\n",
       "      <th>44053</th>\n",
       "      <td>Vistara</td>\n",
       "      <td>UK-954</td>\n",
       "      <td>Mumbai</td>\n",
       "      <td>Early_Morning</td>\n",
       "      <td>0</td>\n",
       "      <td>Morning</td>\n",
       "      <td>Delhi</td>\n",
       "      <td>Economy</td>\n",
       "      <td>2.08</td>\n",
       "      <td>8</td>\n",
       "      <td>5943</td>\n",
       "    </tr>\n",
       "    <tr>\n",
       "      <th>127678</th>\n",
       "      <td>SpiceJet</td>\n",
       "      <td>SG-8264</td>\n",
       "      <td>Kolkata</td>\n",
       "      <td>Night</td>\n",
       "      <td>1</td>\n",
       "      <td>Night</td>\n",
       "      <td>Mumbai</td>\n",
       "      <td>Economy</td>\n",
       "      <td>23.17</td>\n",
       "      <td>3</td>\n",
       "      <td>7958</td>\n",
       "    </tr>\n",
       "    <tr>\n",
       "      <th>...</th>\n",
       "      <td>...</td>\n",
       "      <td>...</td>\n",
       "      <td>...</td>\n",
       "      <td>...</td>\n",
       "      <td>...</td>\n",
       "      <td>...</td>\n",
       "      <td>...</td>\n",
       "      <td>...</td>\n",
       "      <td>...</td>\n",
       "      <td>...</td>\n",
       "      <td>...</td>\n",
       "    </tr>\n",
       "    <tr>\n",
       "      <th>70855</th>\n",
       "      <td>GO_FIRST</td>\n",
       "      <td>G8-327</td>\n",
       "      <td>Mumbai</td>\n",
       "      <td>Early_Morning</td>\n",
       "      <td>1</td>\n",
       "      <td>Night</td>\n",
       "      <td>Hyderabad</td>\n",
       "      <td>Economy</td>\n",
       "      <td>14.67</td>\n",
       "      <td>6</td>\n",
       "      <td>4262</td>\n",
       "    </tr>\n",
       "    <tr>\n",
       "      <th>27409</th>\n",
       "      <td>Air_India</td>\n",
       "      <td>AI-415</td>\n",
       "      <td>Delhi</td>\n",
       "      <td>Evening</td>\n",
       "      <td>1</td>\n",
       "      <td>Afternoon</td>\n",
       "      <td>Kolkata</td>\n",
       "      <td>Economy</td>\n",
       "      <td>19.42</td>\n",
       "      <td>42</td>\n",
       "      <td>4426</td>\n",
       "    </tr>\n",
       "    <tr>\n",
       "      <th>176193</th>\n",
       "      <td>GO_FIRST</td>\n",
       "      <td>G8-505</td>\n",
       "      <td>Hyderabad</td>\n",
       "      <td>Afternoon</td>\n",
       "      <td>1</td>\n",
       "      <td>Morning</td>\n",
       "      <td>Kolkata</td>\n",
       "      <td>Economy</td>\n",
       "      <td>20.67</td>\n",
       "      <td>48</td>\n",
       "      <td>5699</td>\n",
       "    </tr>\n",
       "    <tr>\n",
       "      <th>60992</th>\n",
       "      <td>Air_India</td>\n",
       "      <td>AI-631</td>\n",
       "      <td>Mumbai</td>\n",
       "      <td>Evening</td>\n",
       "      <td>2</td>\n",
       "      <td>Night</td>\n",
       "      <td>Bangalore</td>\n",
       "      <td>Economy</td>\n",
       "      <td>24.67</td>\n",
       "      <td>46</td>\n",
       "      <td>8186</td>\n",
       "    </tr>\n",
       "    <tr>\n",
       "      <th>146592</th>\n",
       "      <td>Vistara</td>\n",
       "      <td>UK-720</td>\n",
       "      <td>Kolkata</td>\n",
       "      <td>Early_Morning</td>\n",
       "      <td>1</td>\n",
       "      <td>Evening</td>\n",
       "      <td>Hyderabad</td>\n",
       "      <td>Economy</td>\n",
       "      <td>12.75</td>\n",
       "      <td>37</td>\n",
       "      <td>5760</td>\n",
       "    </tr>\n",
       "  </tbody>\n",
       "</table>\n",
       "<p>165441 rows × 11 columns</p>\n",
       "</div>"
      ],
      "text/plain": [
       "          airline   flight source_city departure_time  stops   arrival_time  \\\n",
       "146864  Air_India   AI-773     Kolkata        Evening      1  Early_Morning   \n",
       "37061   Air_India   AI-678       Delhi        Morning      1        Morning   \n",
       "29586      Indigo  6E-2147       Delhi          Night      0          Night   \n",
       "44053     Vistara   UK-954      Mumbai  Early_Morning      0        Morning   \n",
       "127678   SpiceJet  SG-8264     Kolkata          Night      1          Night   \n",
       "...           ...      ...         ...            ...    ...            ...   \n",
       "70855    GO_FIRST   G8-327      Mumbai  Early_Morning      1          Night   \n",
       "27409   Air_India   AI-415       Delhi        Evening      1      Afternoon   \n",
       "176193   GO_FIRST   G8-505   Hyderabad      Afternoon      1        Morning   \n",
       "60992   Air_India   AI-631      Mumbai        Evening      2          Night   \n",
       "146592    Vistara   UK-720     Kolkata  Early_Morning      1        Evening   \n",
       "\n",
       "       destination_city    class  duration  days_left  price  \n",
       "146864        Hyderabad  Economy     14.00         39   5456  \n",
       "37061           Chennai  Economy     25.92         14   8885  \n",
       "29586         Hyderabad  Economy      2.25          9   5955  \n",
       "44053             Delhi  Economy      2.08          8   5943  \n",
       "127678           Mumbai  Economy     23.17          3   7958  \n",
       "...                 ...      ...       ...        ...    ...  \n",
       "70855         Hyderabad  Economy     14.67          6   4262  \n",
       "27409           Kolkata  Economy     19.42         42   4426  \n",
       "176193          Kolkata  Economy     20.67         48   5699  \n",
       "60992         Bangalore  Economy     24.67         46   8186  \n",
       "146592        Hyderabad  Economy     12.75         37   5760  \n",
       "\n",
       "[165441 rows x 11 columns]"
      ]
     },
     "execution_count": 13,
     "metadata": {},
     "output_type": "execute_result"
    }
   ],
   "source": [
    "train[train['class']=='Economy']"
   ]
  },
  {
   "cell_type": "code",
   "execution_count": 14,
   "id": "4f3b1a19-66fd-44a7-be55-ae20ddf77932",
   "metadata": {},
   "outputs": [
    {
     "data": {
      "text/plain": [
       "5.829886289710361"
      ]
     },
     "execution_count": 14,
     "metadata": {},
     "output_type": "execute_result"
    }
   ],
   "source": [
    "# Evaluating Cohen's d for measuring the discrepancy between ticket prices for economic and business seats.\n",
    "def cohensd(group1, group2):\n",
    "    diff = group1.mean() - group2.mean()\n",
    "    var1, var2 = group1.var(), group2.var()\n",
    "    n1, n2 = len(group1), len(group2)\n",
    "    \n",
    "    pooled_var = (n1*var1 + n2*var2) / (n1+n2)\n",
    "    d = diff/np.sqrt(pooled_var)\n",
    "    return d\n",
    "\n",
    "business = train[train['class']=='Business']['price']\n",
    "economic = train[train['class']=='Economy']['price']\n",
    "\n",
    "# The magnitude of the price difference between the Business and Economic classes is roughly 5.83 standard deviations.\n",
    "cohensd(business, economic)"
   ]
  },
  {
   "cell_type": "markdown",
   "id": "a0f134c4-9373-4be0-a7d7-caa43dce6f22",
   "metadata": {},
   "source": [
    "<h3 style='font-size:30px;font-style:italic'> Days lefting and Ticket Prices</h3>\n",
    "<div> \n",
    "    <ul style='font-size:20px'> \n",
    "        <li> \n",
    "            Seeing the seat prices behavior according to the amount of days to the travel.\n",
    "        </li>\n",
    "        <li> \n",
    "            When there are 15 days remaining, the values start going up. Additionally, a stronger increase usually happens in the last 5 days for the travels.\n",
    "        </li>\n",
    "    </ul>\n",
    "</div>"
   ]
  },
  {
   "cell_type": "code",
   "execution_count": 15,
   "id": "70e92da3-a2e6-4414-91a3-c17328b5384d",
   "metadata": {},
   "outputs": [
    {
     "data": {
      "text/plain": [
       "Text(0.5, 1.0, 'Variation of the Average Prices Per Days Remaining')"
      ]
     },
     "execution_count": 15,
     "metadata": {},
     "output_type": "execute_result"
    },
    {
     "data": {
      "image/png": "[encoded data removed]",
      "text/plain": [
       "<Figure size 864x288 with 2 Axes>"
      ]
     },
     "metadata": {
      "needs_background": "light"
     },
     "output_type": "display_data"
    }
   ],
   "source": [
    "# Getting the average price according to the remaining days for the trip per airline.\n",
    "days_price = train.groupby(['airline','days_left'])['price'].mean()\n",
    "\n",
    "# Plotting the average prices.\n",
    "plt.figure(figsize=(12,4))\n",
    "fig1 = plt.subplot(121)\n",
    "for airline in days_price.index.levels[0]:\n",
    "    plt.plot(days_price.xs(airline, level=0), label=airline)\n",
    "plt.title('Average Prices Per Days Remaining')\n",
    "fig1.invert_xaxis()\n",
    "\n",
    "# Displaying the variation of the average prices.\n",
    "fig2 = plt.subplot(122)\n",
    "days_price_derivative = days_price.pct_change()\n",
    "for airline in days_price_derivative.index.levels[0]:\n",
    "    plt.plot(days_price_derivative.xs(airline, level=0), label=airline)\n",
    "fig2.invert_xaxis()\n",
    "plt.title('Variation of the Average Prices Per Days Remaining')"
   ]
  },
  {
   "cell_type": "markdown",
   "id": "2c1d97af-13a9-4607-aa59-f04767d6c767",
   "metadata": {},
   "source": [
    "<h2 style='font-size:30px'> Handling Potential Outliers - Univariate Cases</h2>"
   ]
  },
  {
   "cell_type": "markdown",
   "id": "0ff4c7a2-46ce-4b69-8af2-7e466cc9c90c",
   "metadata": {},
   "source": [
    "<h3 style='font-size:30px;font-style:italic'> Flights with 2 or more stops scheduled</h3>\n",
    "<div> \n",
    "    <ul style='font-size:20px'> \n",
    "        <li> \n",
    "            Recalling the numerical features distribution analysis, travels with 2 or more stops programmed constituted the minority of cases. Considering this, it would be convenient to certify whether that kind of flight is an outlier or not. \n",
    "        </li>\n",
    "        <li> \n",
    "            By observing the summary statistics generated, two-stops flights are cheaper than the rest. Thus, having multiple interruptions maybe can be regarded as a factor that turn prices down.\n",
    "        </li>\n",
    "    </ul>\n",
    "</div>"
   ]
  },
  {
   "cell_type": "code",
   "execution_count": 16,
   "id": "d4efeda0-5d39-4045-a779-5861c484a237",
   "metadata": {},
   "outputs": [
    {
     "name": "stdout",
     "output_type": "stream",
     "text": [
      "Two-Stops Flights:\n"
     ]
    },
    {
     "data": {
      "text/html": [
       "<div>\n",
       "<style scoped>\n",
       "    .dataframe tbody tr th:only-of-type {\n",
       "        vertical-align: middle;\n",
       "    }\n",
       "\n",
       "    .dataframe tbody tr th {\n",
       "        vertical-align: top;\n",
       "    }\n",
       "\n",
       "    .dataframe thead th {\n",
       "        text-align: right;\n",
       "    }\n",
       "</style>\n",
       "<table border=\"1\" class=\"dataframe\">\n",
       "  <thead>\n",
       "    <tr style=\"text-align: right;\">\n",
       "      <th></th>\n",
       "      <th>stops</th>\n",
       "      <th>duration</th>\n",
       "      <th>days_left</th>\n",
       "      <th>price</th>\n",
       "    </tr>\n",
       "  </thead>\n",
       "  <tbody>\n",
       "    <tr>\n",
       "      <th>count</th>\n",
       "      <td>10628.0</td>\n",
       "      <td>10628.000000</td>\n",
       "      <td>10628.000000</td>\n",
       "      <td>10628.000000</td>\n",
       "    </tr>\n",
       "    <tr>\n",
       "      <th>mean</th>\n",
       "      <td>2.0</td>\n",
       "      <td>15.326316</td>\n",
       "      <td>24.783873</td>\n",
       "      <td>14184.088634</td>\n",
       "    </tr>\n",
       "    <tr>\n",
       "      <th>std</th>\n",
       "      <td>0.0</td>\n",
       "      <td>7.386267</td>\n",
       "      <td>13.724084</td>\n",
       "      <td>17761.121043</td>\n",
       "    </tr>\n",
       "    <tr>\n",
       "      <th>min</th>\n",
       "      <td>2.0</td>\n",
       "      <td>3.920000</td>\n",
       "      <td>1.000000</td>\n",
       "      <td>1966.000000</td>\n",
       "    </tr>\n",
       "    <tr>\n",
       "      <th>25%</th>\n",
       "      <td>2.0</td>\n",
       "      <td>10.000000</td>\n",
       "      <td>13.000000</td>\n",
       "      <td>6432.000000</td>\n",
       "    </tr>\n",
       "    <tr>\n",
       "      <th>50%</th>\n",
       "      <td>2.0</td>\n",
       "      <td>12.710000</td>\n",
       "      <td>24.000000</td>\n",
       "      <td>8321.000000</td>\n",
       "    </tr>\n",
       "    <tr>\n",
       "      <th>75%</th>\n",
       "      <td>2.0</td>\n",
       "      <td>19.000000</td>\n",
       "      <td>37.000000</td>\n",
       "      <td>13474.000000</td>\n",
       "    </tr>\n",
       "    <tr>\n",
       "      <th>max</th>\n",
       "      <td>2.0</td>\n",
       "      <td>45.830000</td>\n",
       "      <td>49.000000</td>\n",
       "      <td>116562.000000</td>\n",
       "    </tr>\n",
       "  </tbody>\n",
       "</table>\n",
       "</div>"
      ],
      "text/plain": [
       "         stops      duration     days_left          price\n",
       "count  10628.0  10628.000000  10628.000000   10628.000000\n",
       "mean       2.0     15.326316     24.783873   14184.088634\n",
       "std        0.0      7.386267     13.724084   17761.121043\n",
       "min        2.0      3.920000      1.000000    1966.000000\n",
       "25%        2.0     10.000000     13.000000    6432.000000\n",
       "50%        2.0     12.710000     24.000000    8321.000000\n",
       "75%        2.0     19.000000     37.000000   13474.000000\n",
       "max        2.0     45.830000     49.000000  116562.000000"
      ]
     },
     "metadata": {},
     "output_type": "display_data"
    },
    {
     "name": "stdout",
     "output_type": "stream",
     "text": [
      "Others:\n"
     ]
    },
    {
     "data": {
      "text/html": [
       "<div>\n",
       "<style scoped>\n",
       "    .dataframe tbody tr th:only-of-type {\n",
       "        vertical-align: middle;\n",
       "    }\n",
       "\n",
       "    .dataframe tbody tr th {\n",
       "        vertical-align: top;\n",
       "    }\n",
       "\n",
       "    .dataframe thead th {\n",
       "        text-align: right;\n",
       "    }\n",
       "</style>\n",
       "<table border=\"1\" class=\"dataframe\">\n",
       "  <thead>\n",
       "    <tr style=\"text-align: right;\">\n",
       "      <th></th>\n",
       "      <th>stops</th>\n",
       "      <th>duration</th>\n",
       "      <th>days_left</th>\n",
       "      <th>price</th>\n",
       "    </tr>\n",
       "  </thead>\n",
       "  <tbody>\n",
       "    <tr>\n",
       "      <th>count</th>\n",
       "      <td>229494.000000</td>\n",
       "      <td>229494.000000</td>\n",
       "      <td>229494.000000</td>\n",
       "      <td>229494.000000</td>\n",
       "    </tr>\n",
       "    <tr>\n",
       "      <th>mean</th>\n",
       "      <td>0.874123</td>\n",
       "      <td>12.078555</td>\n",
       "      <td>26.053391</td>\n",
       "      <td>21181.021103</td>\n",
       "    </tr>\n",
       "    <tr>\n",
       "      <th>std</th>\n",
       "      <td>0.331711</td>\n",
       "      <td>7.156447</td>\n",
       "      <td>13.554581</td>\n",
       "      <td>22851.239993</td>\n",
       "    </tr>\n",
       "    <tr>\n",
       "      <th>min</th>\n",
       "      <td>0.000000</td>\n",
       "      <td>0.830000</td>\n",
       "      <td>1.000000</td>\n",
       "      <td>1105.000000</td>\n",
       "    </tr>\n",
       "    <tr>\n",
       "      <th>25%</th>\n",
       "      <td>1.000000</td>\n",
       "      <td>6.670000</td>\n",
       "      <td>15.000000</td>\n",
       "      <td>4748.000000</td>\n",
       "    </tr>\n",
       "    <tr>\n",
       "      <th>50%</th>\n",
       "      <td>1.000000</td>\n",
       "      <td>11.170000</td>\n",
       "      <td>26.000000</td>\n",
       "      <td>7404.500000</td>\n",
       "    </tr>\n",
       "    <tr>\n",
       "      <th>75%</th>\n",
       "      <td>1.000000</td>\n",
       "      <td>16.080000</td>\n",
       "      <td>38.000000</td>\n",
       "      <td>44144.000000</td>\n",
       "    </tr>\n",
       "    <tr>\n",
       "      <th>max</th>\n",
       "      <td>1.000000</td>\n",
       "      <td>49.830000</td>\n",
       "      <td>49.000000</td>\n",
       "      <td>123071.000000</td>\n",
       "    </tr>\n",
       "  </tbody>\n",
       "</table>\n",
       "</div>"
      ],
      "text/plain": [
       "               stops       duration      days_left          price\n",
       "count  229494.000000  229494.000000  229494.000000  229494.000000\n",
       "mean        0.874123      12.078555      26.053391   21181.021103\n",
       "std         0.331711       7.156447      13.554581   22851.239993\n",
       "min         0.000000       0.830000       1.000000    1105.000000\n",
       "25%         1.000000       6.670000      15.000000    4748.000000\n",
       "50%         1.000000      11.170000      26.000000    7404.500000\n",
       "75%         1.000000      16.080000      38.000000   44144.000000\n",
       "max         1.000000      49.830000      49.000000  123071.000000"
      ]
     },
     "execution_count": 16,
     "metadata": {},
     "output_type": "execute_result"
    }
   ],
   "source": [
    "# Separating the sorts of flights under scrutiny.\n",
    "two_stops = train[train.stops==2]\n",
    "other_stops = train[train.stops!=2]\n",
    "\n",
    "# Displaying the results.\n",
    "print('Two-Stops Flights:')\n",
    "display(two_stops.describe())\n",
    "\n",
    "print('Others:')\n",
    "other_stops.describe()"
   ]
  },
  {
   "cell_type": "markdown",
   "id": "4268be6e-a4a2-468f-9fd7-fa95f5c29fd9",
   "metadata": {},
   "source": [
    "<h3 style='font-size:30px;font-style:italic'> Flights with length greater than 30 hours</h3>\n",
    "<div> \n",
    "    <ul style='font-size:20px'> \n",
    "        <li> \n",
    "            Travels that have a duration of over 30 hours are proportionately scarce. It's worth seeing if maintaing them in the training set is advantageous.\n",
    "        </li>\n",
    "    </ul>\n",
    "</div>"
   ]
  },
  {
   "cell_type": "code",
   "execution_count": 17,
   "id": "c5cd9719-c5f6-4c10-bb88-503bc4d901a3",
   "metadata": {},
   "outputs": [
    {
     "name": "stdout",
     "output_type": "stream",
     "text": [
      ">30 Hours:\n"
     ]
    },
    {
     "data": {
      "text/html": [
       "<div>\n",
       "<style scoped>\n",
       "    .dataframe tbody tr th:only-of-type {\n",
       "        vertical-align: middle;\n",
       "    }\n",
       "\n",
       "    .dataframe tbody tr th {\n",
       "        vertical-align: top;\n",
       "    }\n",
       "\n",
       "    .dataframe thead th {\n",
       "        text-align: right;\n",
       "    }\n",
       "</style>\n",
       "<table border=\"1\" class=\"dataframe\">\n",
       "  <thead>\n",
       "    <tr style=\"text-align: right;\">\n",
       "      <th></th>\n",
       "      <th>stops</th>\n",
       "      <th>duration</th>\n",
       "      <th>days_left</th>\n",
       "      <th>price</th>\n",
       "    </tr>\n",
       "  </thead>\n",
       "  <tbody>\n",
       "    <tr>\n",
       "      <th>count</th>\n",
       "      <td>1798.000000</td>\n",
       "      <td>1798.000000</td>\n",
       "      <td>1798.000000</td>\n",
       "      <td>1798.000000</td>\n",
       "    </tr>\n",
       "    <tr>\n",
       "      <th>mean</th>\n",
       "      <td>1.373749</td>\n",
       "      <td>33.000039</td>\n",
       "      <td>22.275306</td>\n",
       "      <td>17444.814794</td>\n",
       "    </tr>\n",
       "    <tr>\n",
       "      <th>std</th>\n",
       "      <td>0.483933</td>\n",
       "      <td>2.625213</td>\n",
       "      <td>14.211706</td>\n",
       "      <td>17184.076917</td>\n",
       "    </tr>\n",
       "    <tr>\n",
       "      <th>min</th>\n",
       "      <td>1.000000</td>\n",
       "      <td>30.080000</td>\n",
       "      <td>1.000000</td>\n",
       "      <td>4363.000000</td>\n",
       "    </tr>\n",
       "    <tr>\n",
       "      <th>25%</th>\n",
       "      <td>1.000000</td>\n",
       "      <td>31.080000</td>\n",
       "      <td>10.000000</td>\n",
       "      <td>7490.000000</td>\n",
       "    </tr>\n",
       "    <tr>\n",
       "      <th>50%</th>\n",
       "      <td>1.000000</td>\n",
       "      <td>32.170000</td>\n",
       "      <td>20.000000</td>\n",
       "      <td>11972.000000</td>\n",
       "    </tr>\n",
       "    <tr>\n",
       "      <th>75%</th>\n",
       "      <td>2.000000</td>\n",
       "      <td>34.250000</td>\n",
       "      <td>35.000000</td>\n",
       "      <td>15750.000000</td>\n",
       "    </tr>\n",
       "    <tr>\n",
       "      <th>max</th>\n",
       "      <td>2.000000</td>\n",
       "      <td>49.830000</td>\n",
       "      <td>49.000000</td>\n",
       "      <td>96617.000000</td>\n",
       "    </tr>\n",
       "  </tbody>\n",
       "</table>\n",
       "</div>"
      ],
      "text/plain": [
       "             stops     duration    days_left         price\n",
       "count  1798.000000  1798.000000  1798.000000   1798.000000\n",
       "mean      1.373749    33.000039    22.275306  17444.814794\n",
       "std       0.483933     2.625213    14.211706  17184.076917\n",
       "min       1.000000    30.080000     1.000000   4363.000000\n",
       "25%       1.000000    31.080000    10.000000   7490.000000\n",
       "50%       1.000000    32.170000    20.000000  11972.000000\n",
       "75%       2.000000    34.250000    35.000000  15750.000000\n",
       "max       2.000000    49.830000    49.000000  96617.000000"
      ]
     },
     "metadata": {},
     "output_type": "display_data"
    },
    {
     "name": "stdout",
     "output_type": "stream",
     "text": [
      "<=30 Hours:\n"
     ]
    },
    {
     "data": {
      "text/html": [
       "<div>\n",
       "<style scoped>\n",
       "    .dataframe tbody tr th:only-of-type {\n",
       "        vertical-align: middle;\n",
       "    }\n",
       "\n",
       "    .dataframe tbody tr th {\n",
       "        vertical-align: top;\n",
       "    }\n",
       "\n",
       "    .dataframe thead th {\n",
       "        text-align: right;\n",
       "    }\n",
       "</style>\n",
       "<table border=\"1\" class=\"dataframe\">\n",
       "  <thead>\n",
       "    <tr style=\"text-align: right;\">\n",
       "      <th></th>\n",
       "      <th>stops</th>\n",
       "      <th>duration</th>\n",
       "      <th>days_left</th>\n",
       "      <th>price</th>\n",
       "    </tr>\n",
       "  </thead>\n",
       "  <tbody>\n",
       "    <tr>\n",
       "      <th>count</th>\n",
       "      <td>238324.000000</td>\n",
       "      <td>238324.000000</td>\n",
       "      <td>238324.000000</td>\n",
       "      <td>238324.000000</td>\n",
       "    </tr>\n",
       "    <tr>\n",
       "      <th>mean</th>\n",
       "      <td>0.920562</td>\n",
       "      <td>12.065550</td>\n",
       "      <td>26.025281</td>\n",
       "      <td>20897.181878</td>\n",
       "    </tr>\n",
       "    <tr>\n",
       "      <th>std</th>\n",
       "      <td>0.395826</td>\n",
       "      <td>6.990418</td>\n",
       "      <td>13.555761</td>\n",
       "      <td>22730.363371</td>\n",
       "    </tr>\n",
       "    <tr>\n",
       "      <th>min</th>\n",
       "      <td>0.000000</td>\n",
       "      <td>0.830000</td>\n",
       "      <td>1.000000</td>\n",
       "      <td>1105.000000</td>\n",
       "    </tr>\n",
       "    <tr>\n",
       "      <th>25%</th>\n",
       "      <td>1.000000</td>\n",
       "      <td>6.750000</td>\n",
       "      <td>15.000000</td>\n",
       "      <td>4757.000000</td>\n",
       "    </tr>\n",
       "    <tr>\n",
       "      <th>50%</th>\n",
       "      <td>1.000000</td>\n",
       "      <td>11.170000</td>\n",
       "      <td>26.000000</td>\n",
       "      <td>7424.000000</td>\n",
       "    </tr>\n",
       "    <tr>\n",
       "      <th>75%</th>\n",
       "      <td>1.000000</td>\n",
       "      <td>16.000000</td>\n",
       "      <td>38.000000</td>\n",
       "      <td>42521.000000</td>\n",
       "    </tr>\n",
       "    <tr>\n",
       "      <th>max</th>\n",
       "      <td>2.000000</td>\n",
       "      <td>30.000000</td>\n",
       "      <td>49.000000</td>\n",
       "      <td>123071.000000</td>\n",
       "    </tr>\n",
       "  </tbody>\n",
       "</table>\n",
       "</div>"
      ],
      "text/plain": [
       "               stops       duration      days_left          price\n",
       "count  238324.000000  238324.000000  238324.000000  238324.000000\n",
       "mean        0.920562      12.065550      26.025281   20897.181878\n",
       "std         0.395826       6.990418      13.555761   22730.363371\n",
       "min         0.000000       0.830000       1.000000    1105.000000\n",
       "25%         1.000000       6.750000      15.000000    4757.000000\n",
       "50%         1.000000      11.170000      26.000000    7424.000000\n",
       "75%         1.000000      16.000000      38.000000   42521.000000\n",
       "max         2.000000      30.000000      49.000000  123071.000000"
      ]
     },
     "metadata": {},
     "output_type": "display_data"
    }
   ],
   "source": [
    "# Again, segregating the data in respect to our needs.\n",
    "more_30 = train[train.duration>30]\n",
    "lte_30 = train[~(train.duration>30)]\n",
    "\n",
    "# By looking  at the stats displayed, we perceive that the '>30 Hours' group have slightly lower prices.\n",
    "# Nevertheless, is that difference significant or can it be occurring by chance? Let's conduct a hypothesis test to address\n",
    "# the question.\n",
    "print('>30 Hours:')\n",
    "display(more_30.describe())\n",
    "\n",
    "print('<=30 Hours:')\n",
    "display(lte_30.describe())"
   ]
  },
  {
   "cell_type": "markdown",
   "id": "e87ce418-9e36-432d-872c-ae4b3309a094",
   "metadata": {},
   "source": [
    "<h4 style='font-size:30px;font-style:italic;text-decoration:underline'> T-test hypothesis testing</h4>\n",
    "<div> \n",
    "    <ul style='font-size:20px'> \n",
    "        <li> \n",
    "            H0: Prices are equal for both of the groups.\n",
    "        </li>\n",
    "        <li> \n",
    "            HA: Prices are unequal for the groups.\n",
    "        </li>\n",
    "    </ul>\n",
    "</div>"
   ]
  },
  {
   "cell_type": "code",
   "execution_count": 18,
   "id": "7db70a51-f0f2-4bd7-a062-5d0fe474c4b4",
   "metadata": {},
   "outputs": [
    {
     "data": {
      "text/plain": [
       "0.10335"
      ]
     },
     "execution_count": 18,
     "metadata": {},
     "output_type": "execute_result"
    }
   ],
   "source": [
    "from scipy.stats import ttest_ind\n",
    "\n",
    "# We'll set a 5% significance.\n",
    "more_30_sample = more_30.sample(100, random_state=42).price\n",
    "lte_30_sample = lte_30.sample(100, random_state=42).price\n",
    "\n",
    "# The p-value returned was higher than the significance defined. Thus, we cannot reject the Null Hypothesis and thereby claim that\n",
    "# the prices are different.\n",
    "ttest_ind(more_30_sample, lte_30_sample)[1].round(5)"
   ]
  },
  {
   "cell_type": "code",
   "execution_count": 19,
   "id": "27c785da-0a0b-4186-8f46-b4da93a05ba4",
   "metadata": {},
   "outputs": [],
   "source": [
    "# Removing the flights with more than 30 hours of length.\n",
    "train = train[train.duration<=30]"
   ]
  },
  {
   "cell_type": "markdown",
   "id": "d29b1969-f876-478d-ae7a-5ccaf93c1321",
   "metadata": {},
   "source": [
    "<h2 style='font-size:30px'> Dataset Treatment</h2>\n",
    "<h3 style='font-size:30px;font-style:italic'> Textual Data</h3>\n",
    "<div> \n",
    "    <ul style='font-size:20px'> \n",
    "        <li> \n",
    "            There are plenty of columns that present string informations. We need to somehow extract numerical data from them in order to satisfactorily feed our models.\n",
    "        </li>\n",
    "    </ul>\n",
    "</div>"
   ]
  },
  {
   "cell_type": "code",
   "execution_count": 20,
   "id": "6ef44a82-3783-4d5d-b942-9ddc4336a760",
   "metadata": {},
   "outputs": [
    {
     "data": {
      "text/plain": [
       "280021    20196.857931\n",
       "146864    21663.155653\n",
       "279105    20196.857931\n",
       "37061     18936.470131\n",
       "29586     18936.470131\n",
       "              ...     \n",
       "70855     21519.616482\n",
       "27409     18936.470131\n",
       "176193    20196.857931\n",
       "60992     21519.616482\n",
       "146592    21663.155653\n",
       "Name: source_city, Length: 238324, dtype: float64"
      ]
     },
     "execution_count": 20,
     "metadata": {},
     "output_type": "execute_result"
    }
   ],
   "source": [
    "# For instance, we could replace the location names from 'source_city' for the average prices of the flights in the training set\n",
    "# that depart from them.\n",
    "\n",
    "# Calculating the average price for each of the 'source_city' cities.\n",
    "source_city_avg_prices = train.groupby('source_city')['price'].mean().to_dict()\n",
    "\n",
    "# Substituting the average prices for their respective city name.\n",
    "train.source_city.replace(source_city_avg_prices)"
   ]
  },
  {
   "cell_type": "markdown",
   "id": "4238817e-cca1-42f6-a244-d294315ad671",
   "metadata": {},
   "source": [
    "<div> \n",
    "    <ul style='font-size:20px'> \n",
    "        <li> \n",
    "            Imagine if we did the same process shown above for all the string columns. Instead of manually replacing the categories, it is possible to construct a transformer that automates all the tasks.\n",
    "        </li>\n",
    "    </ul>\n",
    "</div>"
   ]
  },
  {
   "cell_type": "code",
   "execution_count": 21,
   "id": "e5504312-a0ba-4667-8bf7-ab8f1e30e08b",
   "metadata": {},
   "outputs": [],
   "source": [
    "from sklearn.base import BaseEstimator, TransformerMixin\n",
    "\n",
    "class MeaningFromText(BaseEstimator, TransformerMixin):\n",
    "    text_cols = ['airline','flight','source_city','departure_time','arrival_time','destination_city', 'class']\n",
    "    numerical_data = {}\n",
    "    \n",
    "    # A train set needs to be informed so that the grouping operations can be done.\n",
    "    def __init__(self, train_set):\n",
    "        self.train_set = train_set\n",
    "        \n",
    "    def __str__(self):\n",
    "        return 'MeaningFromText()'\n",
    "    \n",
    "    # 'fit' measures the average price for the categories from each column.\n",
    "    def fit(self, X, y=None):\n",
    "        for col in MeaningFromText.text_cols:\n",
    "            avg_prices = self.train_set.groupby(col)['price'].mean().to_dict()\n",
    "            MeaningFromText.numerical_data[col] = avg_prices\n",
    "        return self\n",
    "    \n",
    "    # 'transform' takes the stats computed by 'fit' and assign them to the DataFrame.\n",
    "    def transform(self, X):\n",
    "        for col in MeaningFromText.numerical_data.keys():\n",
    "            new_column = pd.Series(MeaningFromText.numerical_data[col], name=f'{col}_num')\n",
    "            X = pd.merge(X, new_column, left_on=col, right_index=True)\n",
    "            # Dropping out the textual column since it will have no use for the project.\n",
    "            X.drop(col, axis=1, inplace=True)\n",
    "        return X.values"
   ]
  },
  {
   "cell_type": "code",
   "execution_count": 22,
   "id": "dd4927a9-4ed9-48ae-954d-a2fcfd75b3d0",
   "metadata": {
    "tags": []
   },
   "outputs": [
    {
     "data": {
      "text/plain": [
       "array([[1.00000000e+00, 9.42000000e+00, 4.50000000e+01, ...,\n",
       "        2.16049645e+04, 2.13652925e+04, 5.25241081e+04],\n",
       "       [1.00000000e+00, 6.67000000e+00, 4.30000000e+01, ...,\n",
       "        2.16049645e+04, 2.13652925e+04, 5.25241081e+04],\n",
       "       [1.00000000e+00, 9.42000000e+00, 3.30000000e+01, ...,\n",
       "        2.16049645e+04, 2.13652925e+04, 5.25241081e+04],\n",
       "       ...,\n",
       "       [1.00000000e+00, 5.67000000e+00, 3.60000000e+01, ...,\n",
       "        1.12391510e+04, 2.04831264e+04, 6.52895591e+03],\n",
       "       [1.00000000e+00, 5.67000000e+00, 2.50000000e+01, ...,\n",
       "        1.12391510e+04, 2.04831264e+04, 6.52895591e+03],\n",
       "       [1.00000000e+00, 5.67000000e+00, 2.90000000e+01, ...,\n",
       "        1.12391510e+04, 2.04831264e+04, 6.52895591e+03]])"
      ]
     },
     "execution_count": 22,
     "metadata": {},
     "output_type": "execute_result"
    }
   ],
   "source": [
    "# Before performing the alterations, it is convenient to already spliting the independent variables from the dependent ones.\n",
    "X = train[[col for col in train.columns if col !='price']]\n",
    "y = train['price']\n",
    "\n",
    "# And voilà! Now we have only numerical data.\n",
    "MeaningFromText(train).fit_transform(X)"
   ]
  },
  {
   "cell_type": "markdown",
   "id": "8795393e-9935-4015-98e7-802c45edaf94",
   "metadata": {},
   "source": [
    "<h3 style='font-size:30px;font-style:italic'> Transformation of Numbers & Pipeline Generation</h3>\n",
    "<div> \n",
    "    <ul style='font-size:20px'> \n",
    "        <li> \n",
    "            I've decided to use KNNImputer for filling missing values and to scale the data with StandardScaler.\n",
    "        </li>\n",
    "    </ul>\n",
    "</div>"
   ]
  },
  {
   "cell_type": "code",
   "execution_count": 23,
   "id": "677989a1-dcd8-4613-b2cc-23c5fd287afa",
   "metadata": {},
   "outputs": [],
   "source": [
    "# With 'MeaningFromText' ready, we are able to build a transformation pipeline for the whole dataset.\n",
    "from sklearn.pipeline import Pipeline\n",
    "from sklearn.impute import KNNImputer\n",
    "from sklearn.preprocessing import StandardScaler\n",
    "\n",
    "# Making the official data transformation pipeline for the project.\n",
    "data_transformation = Pipeline([\n",
    "                    ('meaning_from_text', MeaningFromText(train)),\n",
    "                    ('imputer', KNNImputer()),\n",
    "                    ('std_scaler', StandardScaler())])"
   ]
  },
  {
   "cell_type": "code",
   "execution_count": 134,
   "id": "d6f718ce-2402-4ddf-a55b-3e3045a011e6",
   "metadata": {},
   "outputs": [],
   "source": [
    "# 'X_ready' is the output from the pipeline's transformations. \n",
    "X_ready = data_transformation.fit_transform(X)"
   ]
  },
  {
   "cell_type": "markdown",
   "id": "08d33f16-8fc6-44bb-b118-542a3da8ac4a",
   "metadata": {},
   "source": [
    "<h2 style='font-size:30px'>Multidimensional Outliers Removal</h2>\n",
    "<div> \n",
    "    <ul style='font-size:20px'> \n",
    "        <li> \n",
    "            Instances may happen to be outliers if we regard the combination of all their features. I will delegate the identification of such cases to an ensemble Unsupervised Learning method called Isolation Forests.      \n",
    "        </li>\n",
    "    </ul>\n",
    "</div>"
   ]
  },
  {
   "cell_type": "code",
   "execution_count": 135,
   "id": "810fac79-cc0a-4e72-9b54-dbba03e4b745",
   "metadata": {},
   "outputs": [],
   "source": [
    "# Setting the amount of outliers as 5% of the dataset.\n",
    "from sklearn.ensemble import IsolationForest\n",
    "multid_outliers = IsolationForest(contamination=.05, max_features=3, random_state=42).fit_predict(X_ready)"
   ]
  },
  {
   "cell_type": "code",
   "execution_count": 136,
   "id": "3d82c8d0-7d1b-4fea-bdce-e9e09f9b003f",
   "metadata": {},
   "outputs": [],
   "source": [
    "# Keeping only the instances that are not considered as multidimensional outliers.\n",
    "keep = np.where(multid_outliers==1)[0]\n",
    "X_ready = X_ready[keep]\n",
    "y_ready = y.iloc[keep]"
   ]
  },
  {
   "cell_type": "markdown",
   "id": "2f3f8f33-04ba-4b65-99e9-741e83a3bb7a",
   "metadata": {},
   "source": [
    "<p style='color:red'> Fazer as validações iniciais (Elastic Net)"
   ]
  }
 ],
 "metadata": {
  "kernelspec": {
   "display_name": "Python 3 (ipykernel)",
   "language": "python",
   "name": "python3"
  },
  "language_info": {
   "codemirror_mode": {
    "name": "ipython",
    "version": 3
   },
   "file_extension": ".py",
   "mimetype": "text/x-python",
   "name": "python",
   "nbconvert_exporter": "python",
   "pygments_lexer": "ipython3",
   "version": "3.8.10"
  }
 },
 "nbformat": 4,
 "nbformat_minor": 5
}
