{
 "cells": [
  {
   "cell_type": "markdown",
   "id": "4cd9e9f2-f52e-4eeb-b6ef-f3b53ad4616b",
   "metadata": {},
   "source": [
    "<h1 style='font-size:40px'> Flight Prices Estimator</h1>\n",
    "<div> \n",
    "    <ul style='font-size:20px'> \n",
    "        <li> \n",
    "            This project is intended to build a flight price estimator using Python's Machine Learning resources.\n",
    "        </li>\n",
    "        <li> \n",
    "            The dataset includes features such as the Airline company responsible for the flight; the cities of departure and destination; and the number of stops projected.\n",
    "        </li>\n",
    "        <li> \n",
    "            The data used was originally found on <a href='https://www.kaggle.com/datasets/shubhambathwal/flight-price-prediction'> Kaggle</a>.\n",
    "        </li>\n",
    "    </ul>\n",
    "</div>"
   ]
  },
  {
   "cell_type": "markdown",
   "id": "cc075026-18a6-4cb5-ba89-9c38571fdbe0",
   "metadata": {},
   "source": [
    "<h2 style='font-size:30px'> Data Import & Analysis</h2>\n",
    "<div> \n",
    "    <ul style='font-size:20px'> \n",
    "        <li> \n",
    "            Most of the data in our hands is categorical. Hence, we'll have to find out a way to treat these informations so our algorithms can use them.\n",
    "        </li>\n",
    "    </ul>\n",
    "</div>"
   ]
  },
  {
   "cell_type": "code",
   "execution_count": 206,
   "id": "a37af472-4c35-4ae4-87e2-1c3b6d22ec44",
   "metadata": {},
   "outputs": [
    {
     "data": {
      "text/html": [
       "<div>\n",
       "<style scoped>\n",
       "    .dataframe tbody tr th:only-of-type {\n",
       "        vertical-align: middle;\n",
       "    }\n",
       "\n",
       "    .dataframe tbody tr th {\n",
       "        vertical-align: top;\n",
       "    }\n",
       "\n",
       "    .dataframe thead th {\n",
       "        text-align: right;\n",
       "    }\n",
       "</style>\n",
       "<table border=\"1\" class=\"dataframe\">\n",
       "  <thead>\n",
       "    <tr style=\"text-align: right;\">\n",
       "      <th></th>\n",
       "      <th>airline</th>\n",
       "      <th>flight</th>\n",
       "      <th>source_city</th>\n",
       "      <th>departure_time</th>\n",
       "      <th>stops</th>\n",
       "      <th>arrival_time</th>\n",
       "      <th>destination_city</th>\n",
       "      <th>class</th>\n",
       "      <th>duration</th>\n",
       "      <th>days_left</th>\n",
       "      <th>price</th>\n",
       "    </tr>\n",
       "  </thead>\n",
       "  <tbody>\n",
       "    <tr>\n",
       "      <th>0</th>\n",
       "      <td>SpiceJet</td>\n",
       "      <td>SG-8709</td>\n",
       "      <td>Delhi</td>\n",
       "      <td>Evening</td>\n",
       "      <td>zero</td>\n",
       "      <td>Night</td>\n",
       "      <td>Mumbai</td>\n",
       "      <td>Economy</td>\n",
       "      <td>2.17</td>\n",
       "      <td>1</td>\n",
       "      <td>5953</td>\n",
       "    </tr>\n",
       "    <tr>\n",
       "      <th>1</th>\n",
       "      <td>SpiceJet</td>\n",
       "      <td>SG-8157</td>\n",
       "      <td>Delhi</td>\n",
       "      <td>Early_Morning</td>\n",
       "      <td>zero</td>\n",
       "      <td>Morning</td>\n",
       "      <td>Mumbai</td>\n",
       "      <td>Economy</td>\n",
       "      <td>2.33</td>\n",
       "      <td>1</td>\n",
       "      <td>5953</td>\n",
       "    </tr>\n",
       "    <tr>\n",
       "      <th>2</th>\n",
       "      <td>AirAsia</td>\n",
       "      <td>I5-764</td>\n",
       "      <td>Delhi</td>\n",
       "      <td>Early_Morning</td>\n",
       "      <td>zero</td>\n",
       "      <td>Early_Morning</td>\n",
       "      <td>Mumbai</td>\n",
       "      <td>Economy</td>\n",
       "      <td>2.17</td>\n",
       "      <td>1</td>\n",
       "      <td>5956</td>\n",
       "    </tr>\n",
       "    <tr>\n",
       "      <th>3</th>\n",
       "      <td>Vistara</td>\n",
       "      <td>UK-995</td>\n",
       "      <td>Delhi</td>\n",
       "      <td>Morning</td>\n",
       "      <td>zero</td>\n",
       "      <td>Afternoon</td>\n",
       "      <td>Mumbai</td>\n",
       "      <td>Economy</td>\n",
       "      <td>2.25</td>\n",
       "      <td>1</td>\n",
       "      <td>5955</td>\n",
       "    </tr>\n",
       "    <tr>\n",
       "      <th>4</th>\n",
       "      <td>Vistara</td>\n",
       "      <td>UK-963</td>\n",
       "      <td>Delhi</td>\n",
       "      <td>Morning</td>\n",
       "      <td>zero</td>\n",
       "      <td>Morning</td>\n",
       "      <td>Mumbai</td>\n",
       "      <td>Economy</td>\n",
       "      <td>2.33</td>\n",
       "      <td>1</td>\n",
       "      <td>5955</td>\n",
       "    </tr>\n",
       "  </tbody>\n",
       "</table>\n",
       "</div>"
      ],
      "text/plain": [
       "    airline   flight source_city departure_time stops   arrival_time  \\\n",
       "0  SpiceJet  SG-8709       Delhi        Evening  zero          Night   \n",
       "1  SpiceJet  SG-8157       Delhi  Early_Morning  zero        Morning   \n",
       "2   AirAsia   I5-764       Delhi  Early_Morning  zero  Early_Morning   \n",
       "3   Vistara   UK-995       Delhi        Morning  zero      Afternoon   \n",
       "4   Vistara   UK-963       Delhi        Morning  zero        Morning   \n",
       "\n",
       "  destination_city    class  duration  days_left  price  \n",
       "0           Mumbai  Economy      2.17          1   5953  \n",
       "1           Mumbai  Economy      2.33          1   5953  \n",
       "2           Mumbai  Economy      2.17          1   5956  \n",
       "3           Mumbai  Economy      2.25          1   5955  \n",
       "4           Mumbai  Economy      2.33          1   5955  "
      ]
     },
     "execution_count": 206,
     "metadata": {},
     "output_type": "execute_result"
    }
   ],
   "source": [
    "import pandas as pd\n",
    "import numpy as np\n",
    "\n",
    "df = pd.read_csv('Clean_Dataset.csv', usecols=[i for i in range(1,12)])\n",
    "df.head()"
   ]
  },
  {
   "cell_type": "markdown",
   "id": "bbcde61d-1784-4f9f-b329-d1cb2a10702b",
   "metadata": {},
   "source": [
    "<h2 style='font-size:30px'> Searching for NaN's</h2>\n",
    "<div> \n",
    "    <ul style='font-size:20px'> \n",
    "        <li> \n",
    "            Fortunately, all of our columns do not present null values. We do not need to find out a way to treat such kind of defect.\n",
    "        </li>\n",
    "    </ul>\n",
    "</div>"
   ]
  },
  {
   "cell_type": "code",
   "execution_count": 114,
   "id": "b3b357a7-d749-4031-9ff7-58c662dce394",
   "metadata": {},
   "outputs": [
    {
     "name": "stdout",
     "output_type": "stream",
     "text": [
      "<class 'pandas.core.frame.DataFrame'>\n",
      "RangeIndex: 300153 entries, 0 to 300152\n",
      "Data columns (total 11 columns):\n",
      " #   Column            Non-Null Count   Dtype  \n",
      "---  ------            --------------   -----  \n",
      " 0   airline           300153 non-null  object \n",
      " 1   flight            300153 non-null  object \n",
      " 2   source_city       300153 non-null  object \n",
      " 3   departure_time    300153 non-null  object \n",
      " 4   stops             300153 non-null  object \n",
      " 5   arrival_time      300153 non-null  object \n",
      " 6   destination_city  300153 non-null  object \n",
      " 7   class             300153 non-null  object \n",
      " 8   duration          300153 non-null  float64\n",
      " 9   days_left         300153 non-null  int64  \n",
      " 10  price             300153 non-null  int64  \n",
      "dtypes: float64(1), int64(2), object(8)\n",
      "memory usage: 25.2+ MB\n"
     ]
    }
   ],
   "source": [
    "df.info()"
   ]
  },
  {
   "cell_type": "markdown",
   "id": "0a447f1c-c07e-459b-850b-ac260656bdb3",
   "metadata": {},
   "source": [
    "<h2 style='font-size:30px'> Correcting the <em> stops</em> column</h2>\n",
    "<div> \n",
    "    <ul style='font-size:20px'> \n",
    "        <li> \n",
    "            As <em> stops</em> refers to the quantity of stops programmed for the flights, it is reasonable to convert its values to numerical type.\n",
    "        </li>\n",
    "    </ul>\n",
    "</div>"
   ]
  },
  {
   "cell_type": "code",
   "execution_count": 207,
   "id": "4087ad80-b698-4ddb-b428-a1eaa887ecc2",
   "metadata": {},
   "outputs": [
    {
     "data": {
      "text/plain": [
       "array([0, 1, 2])"
      ]
     },
     "execution_count": 207,
     "metadata": {},
     "output_type": "execute_result"
    }
   ],
   "source": [
    "# 'two_or_more' is going to be converted as 2.\n",
    "df['stops'].replace({'zero':0, 'one':1, 'two_or_more':2}, inplace=True)\n",
    "df.stops.unique()"
   ]
  },
  {
   "cell_type": "markdown",
   "id": "f90a490e-e624-4249-8b45-afd2ca965d7f",
   "metadata": {},
   "source": [
    "<h2 style='font-size:30px'> Numerical Values Distribution</h2>\n",
    "<div> \n",
    "    <ul style='font-size:20px'> \n",
    "        <li> \n",
    "            Observing the histograms produced, it is visible that one-stop flights compose the majority of the dataset.\n",
    "        </li>\n",
    "        <li> \n",
    "            The <em> days_left</em> column has a well distributed data.\n",
    "        </li>\n",
    "        <li> \n",
    "            You can see the number of flights that have two or more stops programmed or a duration above 30 hours is proportionately low; the longest flight record cannot even be seen in the histogram! Maybe removing such cases as exceptions could enhance our models' performance.\n",
    "        </li>\n",
    "        <li> \n",
    "            From the DataFrame's description, the most expensive price list is above 100,000.00, which is disparate compared with the rest of the flight tickets.\n",
    "        </li>\n",
    "    </ul>\n",
    "</div>"
   ]
  },
  {
   "cell_type": "code",
   "execution_count": 1062,
   "id": "80d0df39-1a22-47ee-a4d5-42f163ba9bdc",
   "metadata": {},
   "outputs": [
    {
     "data": {
      "text/html": [
       "<div>\n",
       "<style scoped>\n",
       "    .dataframe tbody tr th:only-of-type {\n",
       "        vertical-align: middle;\n",
       "    }\n",
       "\n",
       "    .dataframe tbody tr th {\n",
       "        vertical-align: top;\n",
       "    }\n",
       "\n",
       "    .dataframe thead th {\n",
       "        text-align: right;\n",
       "    }\n",
       "</style>\n",
       "<table border=\"1\" class=\"dataframe\">\n",
       "  <thead>\n",
       "    <tr style=\"text-align: right;\">\n",
       "      <th></th>\n",
       "      <th>stops</th>\n",
       "      <th>duration</th>\n",
       "      <th>days_left</th>\n",
       "      <th>price</th>\n",
       "    </tr>\n",
       "  </thead>\n",
       "  <tbody>\n",
       "    <tr>\n",
       "      <th>count</th>\n",
       "      <td>300153.000000</td>\n",
       "      <td>300153.000000</td>\n",
       "      <td>300153.000000</td>\n",
       "      <td>300153.000000</td>\n",
       "    </tr>\n",
       "    <tr>\n",
       "      <th>mean</th>\n",
       "      <td>0.924312</td>\n",
       "      <td>12.221021</td>\n",
       "      <td>26.004751</td>\n",
       "      <td>20889.660523</td>\n",
       "    </tr>\n",
       "    <tr>\n",
       "      <th>std</th>\n",
       "      <td>0.398106</td>\n",
       "      <td>7.191997</td>\n",
       "      <td>13.561004</td>\n",
       "      <td>22697.767366</td>\n",
       "    </tr>\n",
       "    <tr>\n",
       "      <th>min</th>\n",
       "      <td>0.000000</td>\n",
       "      <td>0.830000</td>\n",
       "      <td>1.000000</td>\n",
       "      <td>1105.000000</td>\n",
       "    </tr>\n",
       "    <tr>\n",
       "      <th>25%</th>\n",
       "      <td>1.000000</td>\n",
       "      <td>6.830000</td>\n",
       "      <td>15.000000</td>\n",
       "      <td>4783.000000</td>\n",
       "    </tr>\n",
       "    <tr>\n",
       "      <th>50%</th>\n",
       "      <td>1.000000</td>\n",
       "      <td>11.250000</td>\n",
       "      <td>26.000000</td>\n",
       "      <td>7425.000000</td>\n",
       "    </tr>\n",
       "    <tr>\n",
       "      <th>75%</th>\n",
       "      <td>1.000000</td>\n",
       "      <td>16.170000</td>\n",
       "      <td>38.000000</td>\n",
       "      <td>42521.000000</td>\n",
       "    </tr>\n",
       "    <tr>\n",
       "      <th>max</th>\n",
       "      <td>2.000000</td>\n",
       "      <td>49.830000</td>\n",
       "      <td>49.000000</td>\n",
       "      <td>123071.000000</td>\n",
       "    </tr>\n",
       "  </tbody>\n",
       "</table>\n",
       "</div>"
      ],
      "text/plain": [
       "               stops       duration      days_left          price\n",
       "count  300153.000000  300153.000000  300153.000000  300153.000000\n",
       "mean        0.924312      12.221021      26.004751   20889.660523\n",
       "std         0.398106       7.191997      13.561004   22697.767366\n",
       "min         0.000000       0.830000       1.000000    1105.000000\n",
       "25%         1.000000       6.830000      15.000000    4783.000000\n",
       "50%         1.000000      11.250000      26.000000    7425.000000\n",
       "75%         1.000000      16.170000      38.000000   42521.000000\n",
       "max         2.000000      49.830000      49.000000  123071.000000"
      ]
     },
     "metadata": {},
     "output_type": "display_data"
    },
    {
     "data": {
      "image/png": "[encoded data removed]",
      "text/plain": [
       "<Figure size 1080x360 with 4 Axes>"
      ]
     },
     "metadata": {
      "needs_background": "light"
     },
     "output_type": "display_data"
    }
   ],
   "source": [
    "display(df.describe())\n",
    "df.hist(figsize=(15,5), bins=50);\n",
    "plt.tight_layout()"
   ]
  },
  {
   "cell_type": "markdown",
   "id": "2683c87e-169c-4124-80cf-b499eb205402",
   "metadata": {},
   "source": [
    "<h2 style='font-size:30px'> Engendering Train and Test Sets</h2>\n",
    "<div> \n",
    "    <ul style='font-size:20px'> \n",
    "        <li> \n",
    "            In our sampling, I've chosen to maintain the proportions of the airlines.\n",
    "        </li>\n",
    "    </ul>\n",
    "</div>"
   ]
  },
  {
   "cell_type": "code",
   "execution_count": 208,
   "id": "baf9430b-e36c-49cd-a64a-5fd0f9f730fb",
   "metadata": {},
   "outputs": [],
   "source": [
    "from sklearn.model_selection import StratifiedShuffleSplit\n",
    "split = StratifiedShuffleSplit(n_splits=1, train_size=0.8, random_state=42)\n",
    "\n",
    "for train_index, test_index in split.split(df, df.airline):\n",
    "    train = df.loc[train_index]\n",
    "    test = df.loc[test_index]"
   ]
  },
  {
   "cell_type": "markdown",
   "id": "4dedf959-b72f-41f4-a8c2-576bd1da3316",
   "metadata": {},
   "source": [
    "<h2 style='font-size:30px'> Exploratory Analysis on the Training Data</h2>"
   ]
  },
  {
   "cell_type": "markdown",
   "id": "76692188-5cd8-4b6d-aa0a-0a377d0b8ee3",
   "metadata": {
    "tags": []
   },
   "source": [
    "<h3 style='font-size:30px;font-style:italic'> Prices per company</h3>\n",
    "<div> \n",
    "    <ul style='font-size:20px'> \n",
    "        <li> \n",
    "            Companies might charge different prices depending on their target public. Luxury airlines are inclined to have more expensive tickets, for instance.\n",
    "        </li>\n",
    "    </ul>\n",
    "</div>"
   ]
  },
  {
   "cell_type": "code",
   "execution_count": 118,
   "id": "fa3689ff-0b00-4fe3-a35a-aeeb649b0154",
   "metadata": {},
   "outputs": [
    {
     "data": {
      "text/plain": [
       "airline\n",
       "Vistara      30382.636317\n",
       "Air_India    23467.830284\n",
       "SpiceJet      6165.781107\n",
       "GO_FIRST      5654.717337\n",
       "Indigo        5313.265451\n",
       "AirAsia       4088.926075\n",
       "Name: price, dtype: float64"
      ]
     },
     "execution_count": 118,
     "metadata": {},
     "output_type": "execute_result"
    }
   ],
   "source": [
    "# By observing the 'groupby' output, Vistara and Air India have the most expensive flights.\n",
    "train.groupby('airline')['price'].mean().sort_values(ascending=False)"
   ]
  },
  {
   "cell_type": "code",
   "execution_count": 119,
   "id": "e54561e7-3318-437f-a181-79045e2ff738",
   "metadata": {},
   "outputs": [
    {
     "data": {
      "text/plain": [
       "<seaborn.axisgrid.FacetGrid at 0x7f9825abbd90>"
      ]
     },
     "execution_count": 119,
     "metadata": {},
     "output_type": "execute_result"
    },
    {
     "data": {
      "image/png": "[encoded data removed]",
      "text/plain": [
       "<Figure size 1296x216 with 6 Axes>"
      ]
     },
     "metadata": {
      "needs_background": "light"
     },
     "output_type": "display_data"
    }
   ],
   "source": [
    "# Vistara and Air India also have a broader variety of prices compared to the other companies.\n",
    "# Notice that except from the mentioned airlines, the price distribution for all the other companies looks like a Gaussian distribution.\n",
    "import seaborn as sns\n",
    "import matplotlib.pyplot as plt\n",
    "airline_fg = sns.FacetGrid(data=train, col='airline', xlim=[0, 100000])\n",
    "\n",
    "airline_fg.map(plt.hist, 'price', bins=50)"
   ]
  },
  {
   "cell_type": "markdown",
   "id": "59038c92-b312-478e-9867-94e95fbb8f1f",
   "metadata": {},
   "source": [
    "<h3 style='font-size:30px;font-style:italic'> Prices per airplane</h3>\n",
    "<div> \n",
    "    <ul style='font-size:20px'> \n",
    "        <li> \n",
    "            Since we've already analyzed the prices for every airline, it would also be convenient to verify whether different aircrafts tend to have higher or lower prices.\n",
    "        </li>\n",
    "    </ul>\n",
    "</div>"
   ]
  },
  {
   "cell_type": "code",
   "execution_count": 120,
   "id": "04059799-6798-417c-8a30-36bacdb86560",
   "metadata": {},
   "outputs": [
    {
     "data": {
      "text/plain": [
       "flight\n",
       "AI-433     44025.000000\n",
       "UK-820     40602.498191\n",
       "UK-930     40094.975684\n",
       "UK-970     39429.818452\n",
       "UK-996     39143.068898\n",
       "               ...     \n",
       "6E-7259     1105.000000\n",
       "6E-7252     1105.000000\n",
       "6E-7141     1105.000000\n",
       "6E-7127     1105.000000\n",
       "6E-557      1105.000000\n",
       "Name: price, Length: 1559, dtype: float64"
      ]
     },
     "execution_count": 120,
     "metadata": {},
     "output_type": "execute_result"
    }
   ],
   "source": [
    "# And the answer is yes! Prices vary considerably depending on the airplane used.\n",
    "train.groupby('flight')['price'].mean().sort_values(ascending=False)"
   ]
  },
  {
   "cell_type": "markdown",
   "id": "f8bd6a9f-73c9-4cae-9376-bd2f6aaad118",
   "metadata": {},
   "source": [
    "<h3 style='font-size:30px;font-style:italic'> Time impact on flight costs</h3>\n",
    "<div> \n",
    "    <ul style='font-size:20px'> \n",
    "        <li> \n",
    "            Let's turn our attention to the time's influence on ticket prices. If flights are scheduled to a part of the day with low demand, prices tend to be lower, for instance. \n",
    "        </li>\n",
    "    </ul>\n",
    "</div>"
   ]
  },
  {
   "cell_type": "code",
   "execution_count": 121,
   "id": "9810b55f-9606-4978-9c7e-ca707bdcba3d",
   "metadata": {},
   "outputs": [
    {
     "data": {
      "text/plain": [
       "<AxesSubplot:xlabel='arrival_time', ylabel='departure_time'>"
      ]
     },
     "execution_count": 121,
     "metadata": {},
     "output_type": "execute_result"
    },
    {
     "data": {
      "image/png": "[encoded data removed]",
      "text/plain": [
       "<Figure size 576x360 with 2 Axes>"
      ]
     },
     "metadata": {
      "needs_background": "light"
     },
     "output_type": "display_data"
    }
   ],
   "source": [
    "pivot_time = pd.pivot_table(data=train, index='departure_time', columns='arrival_time', values='price')\n",
    "plt.figure(figsize=(8,5))\n",
    "sns.heatmap(pivot_time, cmap='Blues', annot=True, fmt='.5g')"
   ]
  },
  {
   "cell_type": "markdown",
   "id": "01f09d98-b311-4c39-9432-88c0344ba25c",
   "metadata": {},
   "source": [
    "<h3 style='font-size:30px;font-style:italic'> Seat type influence on ticket value</h3>\n",
    "<div> \n",
    "    <ul style='font-size:20px'> \n",
    "        <li> \n",
    "            The status of your seat is an obvious aspect to regard when investigating flight prices. \n",
    "        </li>\n",
    "    </ul>\n",
    "</div>"
   ]
  },
  {
   "cell_type": "code",
   "execution_count": 122,
   "id": "3362cc66-6eba-4dfc-957d-dc5719ac47cd",
   "metadata": {},
   "outputs": [
    {
     "data": {
      "text/plain": [
       "<AxesSubplot:xlabel='price', ylabel='Density'>"
      ]
     },
     "execution_count": 122,
     "metadata": {},
     "output_type": "execute_result"
    },
    {
     "data": {
      "image/png": "[encoded data removed]",
      "text/plain": [
       "<Figure size 576x216 with 1 Axes>"
      ]
     },
     "metadata": {
      "needs_background": "light"
     },
     "output_type": "display_data"
    }
   ],
   "source": [
    "# The economic class tend to have prices close to 10000, whereas the business seats are usually valued between 45000 and 65000.\n",
    "# Both distributions have the shape of a normal one. The curve over the economic seats is acuter than the other.\n",
    "from seaborn import kdeplot\n",
    "plt.figure(figsize=(8,3))\n",
    "kdeplot(data=train, x='price', hue='class')"
   ]
  },
  {
   "cell_type": "code",
   "execution_count": 124,
   "id": "6926d7f3-cd40-46d8-b406-2c94af3ce16a",
   "metadata": {},
   "outputs": [
    {
     "data": {
      "text/plain": [
       "airline    class   \n",
       "AirAsia    Economy     12878\n",
       "Air_India  Business    26273\n",
       "           Economy     38441\n",
       "GO_FIRST   Economy     18538\n",
       "Indigo     Economy     34496\n",
       "SpiceJet   Economy      7209\n",
       "Vistara    Business    48408\n",
       "           Economy     53879\n",
       "dtype: int64"
      ]
     },
     "execution_count": 124,
     "metadata": {},
     "output_type": "execute_result"
    }
   ],
   "source": [
    "# Through this Group By, we are able to understand the reason for Vistara and Air India's price distributions don't have the bell shape;\n",
    "# they are the only corporations that provide both Economy and Business class in their flights!\n",
    "train.groupby(['airline','class']).size()"
   ]
  },
  {
   "cell_type": "code",
   "execution_count": 49,
   "id": "4f3b1a19-66fd-44a7-be55-ae20ddf77932",
   "metadata": {},
   "outputs": [
    {
     "data": {
      "text/plain": [
       "5.82988628971047"
      ]
     },
     "execution_count": 49,
     "metadata": {},
     "output_type": "execute_result"
    }
   ],
   "source": [
    "# Evaluating Cohen's d for measuring the discrepancy between ticket prices for economic and business seats.\n",
    "def cohensd(group1, group2):\n",
    "    diff = group1.mean() - group2.mean()\n",
    "    var1, var2 = group1.var(), group2.var()\n",
    "    n1, n2 = len(group1), len(group2)\n",
    "    \n",
    "    pooled_var = (n1*var1 + n2*var2) / (n1+n2)\n",
    "    d = diff/np.sqrt(pooled_var)\n",
    "    return d\n",
    "\n",
    "business = train[train['class']=='Business']['price']\n",
    "economic = train[train['class']=='Economy']['price']\n",
    "\n",
    "# The magnitude of the price difference between the Business and Economic classes is roughly 5.83 standard deviations.\n",
    "cohensd(business, economic)"
   ]
  },
  {
   "cell_type": "markdown",
   "id": "a0f134c4-9373-4be0-a7d7-caa43dce6f22",
   "metadata": {},
   "source": [
    "<h3 style='font-size:30px;font-style:italic'> Days lefting and Ticket Prices</h3>\n",
    "<div> \n",
    "    <ul style='font-size:20px'> \n",
    "        <li> \n",
    "            Let's visualize the prices behavior according to the amount of days for the travel.\n",
    "        </li>\n",
    "        <li> \n",
    "            When there are 15 days remaining, the values start going up. Additionally, a stronger increase usually happens in the last 5 days for the travels.\n",
    "        </li>\n",
    "    </ul>\n",
    "</div>"
   ]
  },
  {
   "cell_type": "code",
   "execution_count": 50,
   "id": "70e92da3-a2e6-4414-91a3-c17328b5384d",
   "metadata": {},
   "outputs": [
    {
     "data": {
      "text/plain": [
       "Text(0.5, 1.0, 'Variation of the Average Prices Per Days Remaining')"
      ]
     },
     "execution_count": 50,
     "metadata": {},
     "output_type": "execute_result"
    },
    {
     "data": {
      "image/png": "[encoded data removed]",
      "text/plain": [
       "<Figure size 864x288 with 2 Axes>"
      ]
     },
     "metadata": {
      "needs_background": "light"
     },
     "output_type": "display_data"
    }
   ],
   "source": [
    "# Getting the average price according to the remaining days for the trip per airline.\n",
    "days_price = train.groupby(['airline','days_left'])['price'].mean()\n",
    "\n",
    "# Plotting the average prices.\n",
    "plt.figure(figsize=(12,4))\n",
    "fig1 = plt.subplot(121)\n",
    "for airline in days_price.index.levels[0]:\n",
    "    plt.plot(days_price.xs(airline, level=0), label=airline)\n",
    "plt.title('Average Prices Per Days Remaining')\n",
    "fig1.invert_xaxis()\n",
    "\n",
    "# Displaying the variation of the average prices.\n",
    "fig2 = plt.subplot(122)\n",
    "days_price_derivative = days_price.pct_change()\n",
    "for airline in days_price_derivative.index.levels[0]:\n",
    "    plt.plot(days_price_derivative.xs(airline, level=0), label=airline)\n",
    "fig2.invert_xaxis()\n",
    "plt.title('Variation of the Average Prices Per Days Remaining')"
   ]
  },
  {
   "cell_type": "markdown",
   "id": "2c1d97af-13a9-4607-aa59-f04767d6c767",
   "metadata": {},
   "source": [
    "<h2 style='font-size:30px'> Handling Potential Outliers</h2>"
   ]
  },
  {
   "cell_type": "markdown",
   "id": "0ff4c7a2-46ce-4b69-8af2-7e466cc9c90c",
   "metadata": {},
   "source": [
    "<h3 style='font-size:30px;font-style:italic'> Flights with 2 or more stops scheduled</h3>\n",
    "<div> \n",
    "    <ul style='font-size:20px'> \n",
    "        <li> \n",
    "            Recalling the numerical features distribution analysis, travels with 2 or more stops programmed constituted the minority of cases. Considering this, it would be convenient to certify whether that kind of flight is an outlier or not. \n",
    "        </li>\n",
    "        <li> \n",
    "            By observing the summary statistics generated, two-stops flights are cheaper than the rest. Thus, having multiple interruptions  can may be regarded as a factor that turn prices down.\n",
    "        </li>\n",
    "    </ul>\n",
    "</div>"
   ]
  },
  {
   "cell_type": "code",
   "execution_count": 209,
   "id": "d4efeda0-5d39-4045-a779-5861c484a237",
   "metadata": {},
   "outputs": [
    {
     "name": "stdout",
     "output_type": "stream",
     "text": [
      "Two-Stops Flights:\n"
     ]
    },
    {
     "data": {
      "text/html": [
       "<div>\n",
       "<style scoped>\n",
       "    .dataframe tbody tr th:only-of-type {\n",
       "        vertical-align: middle;\n",
       "    }\n",
       "\n",
       "    .dataframe tbody tr th {\n",
       "        vertical-align: top;\n",
       "    }\n",
       "\n",
       "    .dataframe thead th {\n",
       "        text-align: right;\n",
       "    }\n",
       "</style>\n",
       "<table border=\"1\" class=\"dataframe\">\n",
       "  <thead>\n",
       "    <tr style=\"text-align: right;\">\n",
       "      <th></th>\n",
       "      <th>stops</th>\n",
       "      <th>duration</th>\n",
       "      <th>days_left</th>\n",
       "      <th>price</th>\n",
       "    </tr>\n",
       "  </thead>\n",
       "  <tbody>\n",
       "    <tr>\n",
       "      <th>count</th>\n",
       "      <td>10628.0</td>\n",
       "      <td>10628.000000</td>\n",
       "      <td>10628.000000</td>\n",
       "      <td>10628.000000</td>\n",
       "    </tr>\n",
       "    <tr>\n",
       "      <th>mean</th>\n",
       "      <td>2.0</td>\n",
       "      <td>15.326316</td>\n",
       "      <td>24.783873</td>\n",
       "      <td>14184.088634</td>\n",
       "    </tr>\n",
       "    <tr>\n",
       "      <th>std</th>\n",
       "      <td>0.0</td>\n",
       "      <td>7.386267</td>\n",
       "      <td>13.724084</td>\n",
       "      <td>17761.121043</td>\n",
       "    </tr>\n",
       "    <tr>\n",
       "      <th>min</th>\n",
       "      <td>2.0</td>\n",
       "      <td>3.920000</td>\n",
       "      <td>1.000000</td>\n",
       "      <td>1966.000000</td>\n",
       "    </tr>\n",
       "    <tr>\n",
       "      <th>25%</th>\n",
       "      <td>2.0</td>\n",
       "      <td>10.000000</td>\n",
       "      <td>13.000000</td>\n",
       "      <td>6432.000000</td>\n",
       "    </tr>\n",
       "    <tr>\n",
       "      <th>50%</th>\n",
       "      <td>2.0</td>\n",
       "      <td>12.710000</td>\n",
       "      <td>24.000000</td>\n",
       "      <td>8321.000000</td>\n",
       "    </tr>\n",
       "    <tr>\n",
       "      <th>75%</th>\n",
       "      <td>2.0</td>\n",
       "      <td>19.000000</td>\n",
       "      <td>37.000000</td>\n",
       "      <td>13474.000000</td>\n",
       "    </tr>\n",
       "    <tr>\n",
       "      <th>max</th>\n",
       "      <td>2.0</td>\n",
       "      <td>45.830000</td>\n",
       "      <td>49.000000</td>\n",
       "      <td>116562.000000</td>\n",
       "    </tr>\n",
       "  </tbody>\n",
       "</table>\n",
       "</div>"
      ],
      "text/plain": [
       "         stops      duration     days_left          price\n",
       "count  10628.0  10628.000000  10628.000000   10628.000000\n",
       "mean       2.0     15.326316     24.783873   14184.088634\n",
       "std        0.0      7.386267     13.724084   17761.121043\n",
       "min        2.0      3.920000      1.000000    1966.000000\n",
       "25%        2.0     10.000000     13.000000    6432.000000\n",
       "50%        2.0     12.710000     24.000000    8321.000000\n",
       "75%        2.0     19.000000     37.000000   13474.000000\n",
       "max        2.0     45.830000     49.000000  116562.000000"
      ]
     },
     "metadata": {},
     "output_type": "display_data"
    },
    {
     "name": "stdout",
     "output_type": "stream",
     "text": [
      "Others:\n"
     ]
    },
    {
     "data": {
      "text/html": [
       "<div>\n",
       "<style scoped>\n",
       "    .dataframe tbody tr th:only-of-type {\n",
       "        vertical-align: middle;\n",
       "    }\n",
       "\n",
       "    .dataframe tbody tr th {\n",
       "        vertical-align: top;\n",
       "    }\n",
       "\n",
       "    .dataframe thead th {\n",
       "        text-align: right;\n",
       "    }\n",
       "</style>\n",
       "<table border=\"1\" class=\"dataframe\">\n",
       "  <thead>\n",
       "    <tr style=\"text-align: right;\">\n",
       "      <th></th>\n",
       "      <th>stops</th>\n",
       "      <th>duration</th>\n",
       "      <th>days_left</th>\n",
       "      <th>price</th>\n",
       "    </tr>\n",
       "  </thead>\n",
       "  <tbody>\n",
       "    <tr>\n",
       "      <th>count</th>\n",
       "      <td>229494.000000</td>\n",
       "      <td>229494.000000</td>\n",
       "      <td>229494.000000</td>\n",
       "      <td>229494.000000</td>\n",
       "    </tr>\n",
       "    <tr>\n",
       "      <th>mean</th>\n",
       "      <td>0.874123</td>\n",
       "      <td>12.078555</td>\n",
       "      <td>26.053391</td>\n",
       "      <td>21181.021103</td>\n",
       "    </tr>\n",
       "    <tr>\n",
       "      <th>std</th>\n",
       "      <td>0.331711</td>\n",
       "      <td>7.156447</td>\n",
       "      <td>13.554581</td>\n",
       "      <td>22851.239993</td>\n",
       "    </tr>\n",
       "    <tr>\n",
       "      <th>min</th>\n",
       "      <td>0.000000</td>\n",
       "      <td>0.830000</td>\n",
       "      <td>1.000000</td>\n",
       "      <td>1105.000000</td>\n",
       "    </tr>\n",
       "    <tr>\n",
       "      <th>25%</th>\n",
       "      <td>1.000000</td>\n",
       "      <td>6.670000</td>\n",
       "      <td>15.000000</td>\n",
       "      <td>4748.000000</td>\n",
       "    </tr>\n",
       "    <tr>\n",
       "      <th>50%</th>\n",
       "      <td>1.000000</td>\n",
       "      <td>11.170000</td>\n",
       "      <td>26.000000</td>\n",
       "      <td>7404.500000</td>\n",
       "    </tr>\n",
       "    <tr>\n",
       "      <th>75%</th>\n",
       "      <td>1.000000</td>\n",
       "      <td>16.080000</td>\n",
       "      <td>38.000000</td>\n",
       "      <td>44144.000000</td>\n",
       "    </tr>\n",
       "    <tr>\n",
       "      <th>max</th>\n",
       "      <td>1.000000</td>\n",
       "      <td>49.830000</td>\n",
       "      <td>49.000000</td>\n",
       "      <td>123071.000000</td>\n",
       "    </tr>\n",
       "  </tbody>\n",
       "</table>\n",
       "</div>"
      ],
      "text/plain": [
       "               stops       duration      days_left          price\n",
       "count  229494.000000  229494.000000  229494.000000  229494.000000\n",
       "mean        0.874123      12.078555      26.053391   21181.021103\n",
       "std         0.331711       7.156447      13.554581   22851.239993\n",
       "min         0.000000       0.830000       1.000000    1105.000000\n",
       "25%         1.000000       6.670000      15.000000    4748.000000\n",
       "50%         1.000000      11.170000      26.000000    7404.500000\n",
       "75%         1.000000      16.080000      38.000000   44144.000000\n",
       "max         1.000000      49.830000      49.000000  123071.000000"
      ]
     },
     "execution_count": 209,
     "metadata": {},
     "output_type": "execute_result"
    }
   ],
   "source": [
    "# Separating the sorts of flights under scrutiny.\n",
    "two_stops = train[train.stops==2]\n",
    "other_stops = train[train.stops!=2]\n",
    "\n",
    "# Displaying the results.\n",
    "print('Two-Stop Flights:')\n",
    "display(two_stops.describe())\n",
    "\n",
    "print('Others:')\n",
    "other_stops.describe()"
   ]
  },
  {
   "cell_type": "markdown",
   "id": "4268be6e-a4a2-468f-9fd7-fa95f5c29fd9",
   "metadata": {},
   "source": [
    "<h3 style='font-size:30px;font-style:italic'> Flights with length greater than 30 hours</h3>\n",
    "<div> \n",
    "    <ul style='font-size:20px'> \n",
    "        <li> \n",
    "            Travels that have a duration of over 30 hours are proportionately scarce. It's worth seeing if maintaing them in the training set is advantageous.\n",
    "        </li>\n",
    "    </ul>\n",
    "</div>"
   ]
  },
  {
   "cell_type": "code",
   "execution_count": 210,
   "id": "c5cd9719-c5f6-4c10-bb88-503bc4d901a3",
   "metadata": {},
   "outputs": [
    {
     "name": "stdout",
     "output_type": "stream",
     "text": [
      ">30 Hours:\n"
     ]
    },
    {
     "data": {
      "text/html": [
       "<div>\n",
       "<style scoped>\n",
       "    .dataframe tbody tr th:only-of-type {\n",
       "        vertical-align: middle;\n",
       "    }\n",
       "\n",
       "    .dataframe tbody tr th {\n",
       "        vertical-align: top;\n",
       "    }\n",
       "\n",
       "    .dataframe thead th {\n",
       "        text-align: right;\n",
       "    }\n",
       "</style>\n",
       "<table border=\"1\" class=\"dataframe\">\n",
       "  <thead>\n",
       "    <tr style=\"text-align: right;\">\n",
       "      <th></th>\n",
       "      <th>stops</th>\n",
       "      <th>duration</th>\n",
       "      <th>days_left</th>\n",
       "      <th>price</th>\n",
       "    </tr>\n",
       "  </thead>\n",
       "  <tbody>\n",
       "    <tr>\n",
       "      <th>count</th>\n",
       "      <td>1798.000000</td>\n",
       "      <td>1798.000000</td>\n",
       "      <td>1798.000000</td>\n",
       "      <td>1798.000000</td>\n",
       "    </tr>\n",
       "    <tr>\n",
       "      <th>mean</th>\n",
       "      <td>1.373749</td>\n",
       "      <td>33.000039</td>\n",
       "      <td>22.275306</td>\n",
       "      <td>17444.814794</td>\n",
       "    </tr>\n",
       "    <tr>\n",
       "      <th>std</th>\n",
       "      <td>0.483933</td>\n",
       "      <td>2.625213</td>\n",
       "      <td>14.211706</td>\n",
       "      <td>17184.076917</td>\n",
       "    </tr>\n",
       "    <tr>\n",
       "      <th>min</th>\n",
       "      <td>1.000000</td>\n",
       "      <td>30.080000</td>\n",
       "      <td>1.000000</td>\n",
       "      <td>4363.000000</td>\n",
       "    </tr>\n",
       "    <tr>\n",
       "      <th>25%</th>\n",
       "      <td>1.000000</td>\n",
       "      <td>31.080000</td>\n",
       "      <td>10.000000</td>\n",
       "      <td>7490.000000</td>\n",
       "    </tr>\n",
       "    <tr>\n",
       "      <th>50%</th>\n",
       "      <td>1.000000</td>\n",
       "      <td>32.170000</td>\n",
       "      <td>20.000000</td>\n",
       "      <td>11972.000000</td>\n",
       "    </tr>\n",
       "    <tr>\n",
       "      <th>75%</th>\n",
       "      <td>2.000000</td>\n",
       "      <td>34.250000</td>\n",
       "      <td>35.000000</td>\n",
       "      <td>15750.000000</td>\n",
       "    </tr>\n",
       "    <tr>\n",
       "      <th>max</th>\n",
       "      <td>2.000000</td>\n",
       "      <td>49.830000</td>\n",
       "      <td>49.000000</td>\n",
       "      <td>96617.000000</td>\n",
       "    </tr>\n",
       "  </tbody>\n",
       "</table>\n",
       "</div>"
      ],
      "text/plain": [
       "             stops     duration    days_left         price\n",
       "count  1798.000000  1798.000000  1798.000000   1798.000000\n",
       "mean      1.373749    33.000039    22.275306  17444.814794\n",
       "std       0.483933     2.625213    14.211706  17184.076917\n",
       "min       1.000000    30.080000     1.000000   4363.000000\n",
       "25%       1.000000    31.080000    10.000000   7490.000000\n",
       "50%       1.000000    32.170000    20.000000  11972.000000\n",
       "75%       2.000000    34.250000    35.000000  15750.000000\n",
       "max       2.000000    49.830000    49.000000  96617.000000"
      ]
     },
     "metadata": {},
     "output_type": "display_data"
    },
    {
     "name": "stdout",
     "output_type": "stream",
     "text": [
      "<=30 Hours:\n"
     ]
    },
    {
     "data": {
      "text/html": [
       "<div>\n",
       "<style scoped>\n",
       "    .dataframe tbody tr th:only-of-type {\n",
       "        vertical-align: middle;\n",
       "    }\n",
       "\n",
       "    .dataframe tbody tr th {\n",
       "        vertical-align: top;\n",
       "    }\n",
       "\n",
       "    .dataframe thead th {\n",
       "        text-align: right;\n",
       "    }\n",
       "</style>\n",
       "<table border=\"1\" class=\"dataframe\">\n",
       "  <thead>\n",
       "    <tr style=\"text-align: right;\">\n",
       "      <th></th>\n",
       "      <th>stops</th>\n",
       "      <th>duration</th>\n",
       "      <th>days_left</th>\n",
       "      <th>price</th>\n",
       "    </tr>\n",
       "  </thead>\n",
       "  <tbody>\n",
       "    <tr>\n",
       "      <th>count</th>\n",
       "      <td>238324.000000</td>\n",
       "      <td>238324.000000</td>\n",
       "      <td>238324.000000</td>\n",
       "      <td>238324.000000</td>\n",
       "    </tr>\n",
       "    <tr>\n",
       "      <th>mean</th>\n",
       "      <td>0.920562</td>\n",
       "      <td>12.065550</td>\n",
       "      <td>26.025281</td>\n",
       "      <td>20897.181878</td>\n",
       "    </tr>\n",
       "    <tr>\n",
       "      <th>std</th>\n",
       "      <td>0.395826</td>\n",
       "      <td>6.990418</td>\n",
       "      <td>13.555761</td>\n",
       "      <td>22730.363371</td>\n",
       "    </tr>\n",
       "    <tr>\n",
       "      <th>min</th>\n",
       "      <td>0.000000</td>\n",
       "      <td>0.830000</td>\n",
       "      <td>1.000000</td>\n",
       "      <td>1105.000000</td>\n",
       "    </tr>\n",
       "    <tr>\n",
       "      <th>25%</th>\n",
       "      <td>1.000000</td>\n",
       "      <td>6.750000</td>\n",
       "      <td>15.000000</td>\n",
       "      <td>4757.000000</td>\n",
       "    </tr>\n",
       "    <tr>\n",
       "      <th>50%</th>\n",
       "      <td>1.000000</td>\n",
       "      <td>11.170000</td>\n",
       "      <td>26.000000</td>\n",
       "      <td>7424.000000</td>\n",
       "    </tr>\n",
       "    <tr>\n",
       "      <th>75%</th>\n",
       "      <td>1.000000</td>\n",
       "      <td>16.000000</td>\n",
       "      <td>38.000000</td>\n",
       "      <td>42521.000000</td>\n",
       "    </tr>\n",
       "    <tr>\n",
       "      <th>max</th>\n",
       "      <td>2.000000</td>\n",
       "      <td>30.000000</td>\n",
       "      <td>49.000000</td>\n",
       "      <td>123071.000000</td>\n",
       "    </tr>\n",
       "  </tbody>\n",
       "</table>\n",
       "</div>"
      ],
      "text/plain": [
       "               stops       duration      days_left          price\n",
       "count  238324.000000  238324.000000  238324.000000  238324.000000\n",
       "mean        0.920562      12.065550      26.025281   20897.181878\n",
       "std         0.395826       6.990418      13.555761   22730.363371\n",
       "min         0.000000       0.830000       1.000000    1105.000000\n",
       "25%         1.000000       6.750000      15.000000    4757.000000\n",
       "50%         1.000000      11.170000      26.000000    7424.000000\n",
       "75%         1.000000      16.000000      38.000000   42521.000000\n",
       "max         2.000000      30.000000      49.000000  123071.000000"
      ]
     },
     "metadata": {},
     "output_type": "display_data"
    }
   ],
   "source": [
    "# Again, segregating the data in respect to our needs.\n",
    "more_30 = train[train.duration>30]\n",
    "lte_30 = train[~(train.duration>30)]\n",
    "\n",
    "# By looking  at the stats displayed, we perceive that the '>30 Hours' group have slightly lower prices.\n",
    "# Nevertheless, is that difference significant or can it be occurring by chance? Let's conduct a hypothesis test to address\n",
    "# the question.\n",
    "print('>30 Hours:')\n",
    "display(more_30.describe())\n",
    "\n",
    "print('<=30 Hours:')\n",
    "display(lte_30.describe())"
   ]
  },
  {
   "cell_type": "markdown",
   "id": "e87ce418-9e36-432d-872c-ae4b3309a094",
   "metadata": {},
   "source": [
    "<h4 style='font-size:30px;font-style:italic;text-decoration:underline'> T-test hypothesis testing</h4>\n",
    "<div> \n",
    "    <ul style='font-size:20px'> \n",
    "        <li> \n",
    "            H0: Prices are equal for both of the groups.\n",
    "        </li>\n",
    "        <li> \n",
    "            HA: Prices are unequal for the groups.\n",
    "        </li>\n",
    "    </ul>\n",
    "</div>"
   ]
  },
  {
   "cell_type": "code",
   "execution_count": 211,
   "id": "7db70a51-f0f2-4bd7-a062-5d0fe474c4b4",
   "metadata": {},
   "outputs": [
    {
     "data": {
      "text/plain": [
       "0.10335"
      ]
     },
     "execution_count": 211,
     "metadata": {},
     "output_type": "execute_result"
    }
   ],
   "source": [
    "from scipy.stats import ttest_ind\n",
    "\n",
    "# We'll set a 5% significance.\n",
    "more_30_sample = more_30.sample(100, random_state=42).price\n",
    "lte_30_sample = lte_30.sample(100, random_state=42).price\n",
    "\n",
    "# The p-value returned was higher than the significance defined. Thus, we cannot reject the Null Hypothesis and claim that\n",
    "# the prices are different.\n",
    "ttest_ind(more_30_sample, lte_30_sample)[1].round(5)"
   ]
  },
  {
   "cell_type": "code",
   "execution_count": 212,
   "id": "27c785da-0a0b-4186-8f46-b4da93a05ba4",
   "metadata": {},
   "outputs": [],
   "source": [
    "# Removing the flights with more than 30 hours of length.\n",
    "train = train[train.duration<=30]"
   ]
  },
  {
   "cell_type": "markdown",
   "id": "91c601c5-29f7-41bf-9b22-f8a2c03c6a5e",
   "metadata": {},
   "source": [
    "<h3 style='font-size:30px;font-style:italic'> Price Outliers</h3>\n",
    "<div> \n",
    "    <ul style='font-size:20px'> \n",
    "        <li> \n",
    "            With the analyses performed, we could see that the dataset has a wide variety of prices. However, some price ranges happen to rarely occur because they comprise extreme cases; hence it could be harmful to fit our models with such exceptional instances.\n",
    "        </li>\n",
    "        <li> \n",
    "            But remember: we cannot treat all the flights equally because we have data from both Economy and Business classes. And as already proved, their values vary considerably.\n",
    "        </li>\n",
    "    </ul>\n",
    "</div>"
   ]
  },
  {
   "cell_type": "code",
   "execution_count": 214,
   "id": "49333d91-de70-44c1-b358-fa3ce89e6755",
   "metadata": {},
   "outputs": [
    {
     "data": {
      "text/html": [
       "<div>\n",
       "<style scoped>\n",
       "    .dataframe tbody tr th:only-of-type {\n",
       "        vertical-align: middle;\n",
       "    }\n",
       "\n",
       "    .dataframe tbody tr th {\n",
       "        vertical-align: top;\n",
       "    }\n",
       "\n",
       "    .dataframe thead tr th {\n",
       "        text-align: left;\n",
       "    }\n",
       "\n",
       "    .dataframe thead tr:last-of-type th {\n",
       "        text-align: right;\n",
       "    }\n",
       "</style>\n",
       "<table border=\"1\" class=\"dataframe\">\n",
       "  <thead>\n",
       "    <tr>\n",
       "      <th></th>\n",
       "      <th>mean</th>\n",
       "      <th>std</th>\n",
       "    </tr>\n",
       "    <tr>\n",
       "      <th></th>\n",
       "      <th>price</th>\n",
       "      <th>price</th>\n",
       "    </tr>\n",
       "    <tr>\n",
       "      <th>class</th>\n",
       "      <th></th>\n",
       "      <th></th>\n",
       "    </tr>\n",
       "  </thead>\n",
       "  <tbody>\n",
       "    <tr>\n",
       "      <th>Business</th>\n",
       "      <td>52524.108114</td>\n",
       "      <td>13000.645710</td>\n",
       "    </tr>\n",
       "    <tr>\n",
       "      <th>Economy</th>\n",
       "      <td>6528.955905</td>\n",
       "      <td>3706.545153</td>\n",
       "    </tr>\n",
       "  </tbody>\n",
       "</table>\n",
       "</div>"
      ],
      "text/plain": [
       "                  mean           std\n",
       "                 price         price\n",
       "class                               \n",
       "Business  52524.108114  13000.645710\n",
       "Economy    6528.955905   3706.545153"
      ]
     },
     "execution_count": 214,
     "metadata": {},
     "output_type": "execute_result"
    },
    {
     "data": {
      "image/png": "[encoded data removed]",
      "text/plain": [
       "<Figure size 576x216 with 1 Axes>"
      ]
     },
     "metadata": {
      "needs_background": "light"
     },
     "output_type": "display_data"
    }
   ],
   "source": [
    "plt.figure(figsize=(8,3))\n",
    "kdeplot(data=train, x='price', hue='class')\n",
    "class_price_data = pd.pivot_table(data=train, index='class', values='price', aggfunc=[np.mean, np.std])\n",
    "class_price_data"
   ]
  },
  {
   "cell_type": "markdown",
   "id": "f5804feb-ff97-484d-8beb-bb8311140907",
   "metadata": {},
   "source": [
    "<h4 style='font-size:30px;font-style:italic;text-decoration:underline'> Price Outliers Removal: Economy Class</h4>\n",
    "<div> \n",
    "    <ul style='font-size:20px'> \n",
    "        <li> \n",
    "            The methodology chosen will be the use of Standard Deviations. In this case, I am using three STD's as a parameter.\n",
    "        </li>\n",
    "    </ul>\n",
    "</div>"
   ]
  },
  {
   "cell_type": "code",
   "execution_count": 229,
   "id": "cbb36eee-081b-4873-b3e9-a7a482d54f91",
   "metadata": {},
   "outputs": [
    {
     "data": {
      "text/html": [
       "<div>\n",
       "<style scoped>\n",
       "    .dataframe tbody tr th:only-of-type {\n",
       "        vertical-align: middle;\n",
       "    }\n",
       "\n",
       "    .dataframe tbody tr th {\n",
       "        vertical-align: top;\n",
       "    }\n",
       "\n",
       "    .dataframe thead th {\n",
       "        text-align: right;\n",
       "    }\n",
       "</style>\n",
       "<table border=\"1\" class=\"dataframe\">\n",
       "  <thead>\n",
       "    <tr style=\"text-align: right;\">\n",
       "      <th></th>\n",
       "      <th>airline</th>\n",
       "      <th>flight</th>\n",
       "      <th>source_city</th>\n",
       "      <th>departure_time</th>\n",
       "      <th>stops</th>\n",
       "      <th>arrival_time</th>\n",
       "      <th>destination_city</th>\n",
       "      <th>class</th>\n",
       "      <th>duration</th>\n",
       "      <th>days_left</th>\n",
       "      <th>price</th>\n",
       "    </tr>\n",
       "  </thead>\n",
       "  <tbody>\n",
       "    <tr>\n",
       "      <th>146864</th>\n",
       "      <td>Air_India</td>\n",
       "      <td>AI-773</td>\n",
       "      <td>Kolkata</td>\n",
       "      <td>Evening</td>\n",
       "      <td>1</td>\n",
       "      <td>Early_Morning</td>\n",
       "      <td>Hyderabad</td>\n",
       "      <td>Economy</td>\n",
       "      <td>14.00</td>\n",
       "      <td>39</td>\n",
       "      <td>5456</td>\n",
       "    </tr>\n",
       "    <tr>\n",
       "      <th>37061</th>\n",
       "      <td>Air_India</td>\n",
       "      <td>AI-678</td>\n",
       "      <td>Delhi</td>\n",
       "      <td>Morning</td>\n",
       "      <td>1</td>\n",
       "      <td>Morning</td>\n",
       "      <td>Chennai</td>\n",
       "      <td>Economy</td>\n",
       "      <td>25.92</td>\n",
       "      <td>14</td>\n",
       "      <td>8885</td>\n",
       "    </tr>\n",
       "    <tr>\n",
       "      <th>29586</th>\n",
       "      <td>Indigo</td>\n",
       "      <td>6E-2147</td>\n",
       "      <td>Delhi</td>\n",
       "      <td>Night</td>\n",
       "      <td>0</td>\n",
       "      <td>Night</td>\n",
       "      <td>Hyderabad</td>\n",
       "      <td>Economy</td>\n",
       "      <td>2.25</td>\n",
       "      <td>9</td>\n",
       "      <td>5955</td>\n",
       "    </tr>\n",
       "    <tr>\n",
       "      <th>44053</th>\n",
       "      <td>Vistara</td>\n",
       "      <td>UK-954</td>\n",
       "      <td>Mumbai</td>\n",
       "      <td>Early_Morning</td>\n",
       "      <td>0</td>\n",
       "      <td>Morning</td>\n",
       "      <td>Delhi</td>\n",
       "      <td>Economy</td>\n",
       "      <td>2.08</td>\n",
       "      <td>8</td>\n",
       "      <td>5943</td>\n",
       "    </tr>\n",
       "    <tr>\n",
       "      <th>127678</th>\n",
       "      <td>SpiceJet</td>\n",
       "      <td>SG-8264</td>\n",
       "      <td>Kolkata</td>\n",
       "      <td>Night</td>\n",
       "      <td>1</td>\n",
       "      <td>Night</td>\n",
       "      <td>Mumbai</td>\n",
       "      <td>Economy</td>\n",
       "      <td>23.17</td>\n",
       "      <td>3</td>\n",
       "      <td>7958</td>\n",
       "    </tr>\n",
       "  </tbody>\n",
       "</table>\n",
       "</div>"
      ],
      "text/plain": [
       "          airline   flight source_city departure_time  stops   arrival_time  \\\n",
       "146864  Air_India   AI-773     Kolkata        Evening      1  Early_Morning   \n",
       "37061   Air_India   AI-678       Delhi        Morning      1        Morning   \n",
       "29586      Indigo  6E-2147       Delhi          Night      0          Night   \n",
       "44053     Vistara   UK-954      Mumbai  Early_Morning      0        Morning   \n",
       "127678   SpiceJet  SG-8264     Kolkata          Night      1          Night   \n",
       "\n",
       "       destination_city    class  duration  days_left  price  \n",
       "146864        Hyderabad  Economy     14.00         39   5456  \n",
       "37061           Chennai  Economy     25.92         14   8885  \n",
       "29586         Hyderabad  Economy      2.25          9   5955  \n",
       "44053             Delhi  Economy      2.08          8   5943  \n",
       "127678           Mumbai  Economy     23.17          3   7958  "
      ]
     },
     "execution_count": 229,
     "metadata": {},
     "output_type": "execute_result"
    }
   ],
   "source": [
    "economy_mean = class_price_data.loc['Economy', ('mean', 'price')]\n",
    "economy_std = class_price_data.loc['Economy', ('std', 'price')]\n",
    "\n",
    "no_economy_outliers = (train[(train['price'] < economy_mean + 3*economy_std) & \n",
    "                             (train['price'] > economy_mean - 3*economy_std) & \n",
    "                             (train['class']=='Economy')])\n",
    "\n",
    "no_economy_outliers.head()"
   ]
  },
  {
   "cell_type": "markdown",
   "id": "7fb1de8d-8dc1-4e7d-90b3-50ba7886abe7",
   "metadata": {},
   "source": [
    "<h4 style='font-size:30px;font-style:italic;text-decoration:underline'> Price Outliers Removal: Business Class</h4>\n",
    "<div> \n",
    "    <ul style='font-size:20px'> \n",
    "        <li> \n",
    "            Since we have proportionately fewer cases for the Business class, I will restrain myself in selecting only flights which prices deviate up to 1.5 Standard Deviation.\n",
    "        </li>\n",
    "    </ul>\n",
    "</div>"
   ]
  },
  {
   "cell_type": "code",
   "execution_count": 238,
   "id": "e0bec339-5355-4904-9d7a-5e7fe343048d",
   "metadata": {},
   "outputs": [
    {
     "data": {
      "text/html": [
       "<div>\n",
       "<style scoped>\n",
       "    .dataframe tbody tr th:only-of-type {\n",
       "        vertical-align: middle;\n",
       "    }\n",
       "\n",
       "    .dataframe tbody tr th {\n",
       "        vertical-align: top;\n",
       "    }\n",
       "\n",
       "    .dataframe thead th {\n",
       "        text-align: right;\n",
       "    }\n",
       "</style>\n",
       "<table border=\"1\" class=\"dataframe\">\n",
       "  <thead>\n",
       "    <tr style=\"text-align: right;\">\n",
       "      <th></th>\n",
       "      <th>airline</th>\n",
       "      <th>flight</th>\n",
       "      <th>source_city</th>\n",
       "      <th>departure_time</th>\n",
       "      <th>stops</th>\n",
       "      <th>arrival_time</th>\n",
       "      <th>destination_city</th>\n",
       "      <th>class</th>\n",
       "      <th>duration</th>\n",
       "      <th>days_left</th>\n",
       "      <th>price</th>\n",
       "    </tr>\n",
       "  </thead>\n",
       "  <tbody>\n",
       "    <tr>\n",
       "      <th>280021</th>\n",
       "      <td>Vistara</td>\n",
       "      <td>UK-880</td>\n",
       "      <td>Hyderabad</td>\n",
       "      <td>Afternoon</td>\n",
       "      <td>1</td>\n",
       "      <td>Night</td>\n",
       "      <td>Mumbai</td>\n",
       "      <td>Business</td>\n",
       "      <td>9.42</td>\n",
       "      <td>45</td>\n",
       "      <td>45995</td>\n",
       "    </tr>\n",
       "    <tr>\n",
       "      <th>279105</th>\n",
       "      <td>Air_India</td>\n",
       "      <td>AI-559</td>\n",
       "      <td>Hyderabad</td>\n",
       "      <td>Early_Morning</td>\n",
       "      <td>1</td>\n",
       "      <td>Evening</td>\n",
       "      <td>Mumbai</td>\n",
       "      <td>Business</td>\n",
       "      <td>11.50</td>\n",
       "      <td>31</td>\n",
       "      <td>45883</td>\n",
       "    </tr>\n",
       "    <tr>\n",
       "      <th>240707</th>\n",
       "      <td>Vistara</td>\n",
       "      <td>UK-986</td>\n",
       "      <td>Mumbai</td>\n",
       "      <td>Night</td>\n",
       "      <td>1</td>\n",
       "      <td>Evening</td>\n",
       "      <td>Hyderabad</td>\n",
       "      <td>Business</td>\n",
       "      <td>21.17</td>\n",
       "      <td>39</td>\n",
       "      <td>45805</td>\n",
       "    </tr>\n",
       "    <tr>\n",
       "      <th>266545</th>\n",
       "      <td>Air_India</td>\n",
       "      <td>AI-763</td>\n",
       "      <td>Kolkata</td>\n",
       "      <td>Early_Morning</td>\n",
       "      <td>1</td>\n",
       "      <td>Night</td>\n",
       "      <td>Mumbai</td>\n",
       "      <td>Business</td>\n",
       "      <td>14.58</td>\n",
       "      <td>38</td>\n",
       "      <td>50271</td>\n",
       "    </tr>\n",
       "    <tr>\n",
       "      <th>268076</th>\n",
       "      <td>Air_India</td>\n",
       "      <td>AI-770</td>\n",
       "      <td>Kolkata</td>\n",
       "      <td>Night</td>\n",
       "      <td>1</td>\n",
       "      <td>Morning</td>\n",
       "      <td>Bangalore</td>\n",
       "      <td>Business</td>\n",
       "      <td>12.42</td>\n",
       "      <td>14</td>\n",
       "      <td>60978</td>\n",
       "    </tr>\n",
       "  </tbody>\n",
       "</table>\n",
       "</div>"
      ],
      "text/plain": [
       "          airline  flight source_city departure_time  stops arrival_time  \\\n",
       "280021    Vistara  UK-880   Hyderabad      Afternoon      1        Night   \n",
       "279105  Air_India  AI-559   Hyderabad  Early_Morning      1      Evening   \n",
       "240707    Vistara  UK-986      Mumbai          Night      1      Evening   \n",
       "266545  Air_India  AI-763     Kolkata  Early_Morning      1        Night   \n",
       "268076  Air_India  AI-770     Kolkata          Night      1      Morning   \n",
       "\n",
       "       destination_city     class  duration  days_left  price  \n",
       "280021           Mumbai  Business      9.42         45  45995  \n",
       "279105           Mumbai  Business     11.50         31  45883  \n",
       "240707        Hyderabad  Business     21.17         39  45805  \n",
       "266545           Mumbai  Business     14.58         38  50271  \n",
       "268076        Bangalore  Business     12.42         14  60978  "
      ]
     },
     "execution_count": 238,
     "metadata": {},
     "output_type": "execute_result"
    }
   ],
   "source": [
    "business_mean = class_price_data.loc['Business', ('mean', 'price')]\n",
    "business_std = class_price_data.loc['Business', ('std', 'price')]\n",
    "\n",
    "no_business_outliers = (train[(train['price'] < business_mean + 1.5*business_std) & \n",
    "                             (train['price'] > business_mean - 1.5*business_std) & \n",
    "                             (train['class']=='Business')])\n",
    "\n",
    "no_business_outliers.head()"
   ]
  },
  {
   "cell_type": "code",
   "execution_count": 242,
   "id": "f1053685-fb15-4ca8-9d6c-7c6e310e9569",
   "metadata": {},
   "outputs": [
    {
     "data": {
      "text/html": [
       "<div>\n",
       "<style scoped>\n",
       "    .dataframe tbody tr th:only-of-type {\n",
       "        vertical-align: middle;\n",
       "    }\n",
       "\n",
       "    .dataframe tbody tr th {\n",
       "        vertical-align: top;\n",
       "    }\n",
       "\n",
       "    .dataframe thead th {\n",
       "        text-align: right;\n",
       "    }\n",
       "</style>\n",
       "<table border=\"1\" class=\"dataframe\">\n",
       "  <thead>\n",
       "    <tr style=\"text-align: right;\">\n",
       "      <th></th>\n",
       "      <th>airline</th>\n",
       "      <th>flight</th>\n",
       "      <th>source_city</th>\n",
       "      <th>departure_time</th>\n",
       "      <th>stops</th>\n",
       "      <th>arrival_time</th>\n",
       "      <th>destination_city</th>\n",
       "      <th>class</th>\n",
       "      <th>duration</th>\n",
       "      <th>days_left</th>\n",
       "      <th>price</th>\n",
       "    </tr>\n",
       "  </thead>\n",
       "  <tbody>\n",
       "    <tr>\n",
       "      <th>146864</th>\n",
       "      <td>Air_India</td>\n",
       "      <td>AI-773</td>\n",
       "      <td>Kolkata</td>\n",
       "      <td>Evening</td>\n",
       "      <td>1</td>\n",
       "      <td>Early_Morning</td>\n",
       "      <td>Hyderabad</td>\n",
       "      <td>Economy</td>\n",
       "      <td>14.00</td>\n",
       "      <td>39</td>\n",
       "      <td>5456</td>\n",
       "    </tr>\n",
       "    <tr>\n",
       "      <th>37061</th>\n",
       "      <td>Air_India</td>\n",
       "      <td>AI-678</td>\n",
       "      <td>Delhi</td>\n",
       "      <td>Morning</td>\n",
       "      <td>1</td>\n",
       "      <td>Morning</td>\n",
       "      <td>Chennai</td>\n",
       "      <td>Economy</td>\n",
       "      <td>25.92</td>\n",
       "      <td>14</td>\n",
       "      <td>8885</td>\n",
       "    </tr>\n",
       "    <tr>\n",
       "      <th>29586</th>\n",
       "      <td>Indigo</td>\n",
       "      <td>6E-2147</td>\n",
       "      <td>Delhi</td>\n",
       "      <td>Night</td>\n",
       "      <td>0</td>\n",
       "      <td>Night</td>\n",
       "      <td>Hyderabad</td>\n",
       "      <td>Economy</td>\n",
       "      <td>2.25</td>\n",
       "      <td>9</td>\n",
       "      <td>5955</td>\n",
       "    </tr>\n",
       "    <tr>\n",
       "      <th>44053</th>\n",
       "      <td>Vistara</td>\n",
       "      <td>UK-954</td>\n",
       "      <td>Mumbai</td>\n",
       "      <td>Early_Morning</td>\n",
       "      <td>0</td>\n",
       "      <td>Morning</td>\n",
       "      <td>Delhi</td>\n",
       "      <td>Economy</td>\n",
       "      <td>2.08</td>\n",
       "      <td>8</td>\n",
       "      <td>5943</td>\n",
       "    </tr>\n",
       "    <tr>\n",
       "      <th>127678</th>\n",
       "      <td>SpiceJet</td>\n",
       "      <td>SG-8264</td>\n",
       "      <td>Kolkata</td>\n",
       "      <td>Night</td>\n",
       "      <td>1</td>\n",
       "      <td>Night</td>\n",
       "      <td>Mumbai</td>\n",
       "      <td>Economy</td>\n",
       "      <td>23.17</td>\n",
       "      <td>3</td>\n",
       "      <td>7958</td>\n",
       "    </tr>\n",
       "  </tbody>\n",
       "</table>\n",
       "</div>"
      ],
      "text/plain": [
       "          airline   flight source_city departure_time  stops   arrival_time  \\\n",
       "146864  Air_India   AI-773     Kolkata        Evening      1  Early_Morning   \n",
       "37061   Air_India   AI-678       Delhi        Morning      1        Morning   \n",
       "29586      Indigo  6E-2147       Delhi          Night      0          Night   \n",
       "44053     Vistara   UK-954      Mumbai  Early_Morning      0        Morning   \n",
       "127678   SpiceJet  SG-8264     Kolkata          Night      1          Night   \n",
       "\n",
       "       destination_city    class  duration  days_left  price  \n",
       "146864        Hyderabad  Economy     14.00         39   5456  \n",
       "37061           Chennai  Economy     25.92         14   8885  \n",
       "29586         Hyderabad  Economy      2.25          9   5955  \n",
       "44053             Delhi  Economy      2.08          8   5943  \n",
       "127678           Mumbai  Economy     23.17          3   7958  "
      ]
     },
     "execution_count": 242,
     "metadata": {},
     "output_type": "execute_result"
    }
   ],
   "source": [
    "# Consolidating our updated dataset.\n",
    "train_no_outliers = no_economy_outliers.append(no_business_outliers)\n",
    "train_no_outliers.head()"
   ]
  },
  {
   "cell_type": "markdown",
   "id": "d29b1969-f876-478d-ae7a-5ccaf93c1321",
   "metadata": {},
   "source": [
    "<h2 style='font-size:30px'> Dataset Treatment</h2>\n",
    "<h3 style='font-size:30px;font-style:italic'> Textual Data</h3>\n",
    "<div> \n",
    "    <ul style='font-size:20px'> \n",
    "        <li> \n",
    "            There are plenty of columns that present string informations. We need to somehow extract numerical data from them in order to satisfactorily feed our models.\n",
    "        </li>\n",
    "    </ul>\n",
    "</div>"
   ]
  },
  {
   "cell_type": "code",
   "execution_count": 251,
   "id": "6ef44a82-3783-4d5d-b942-9ddc4336a760",
   "metadata": {},
   "outputs": [
    {
     "data": {
      "text/plain": [
       "146864    20062.041046\n",
       "37061     17681.427879\n",
       "29586     17681.427879\n",
       "44053     20042.390586\n",
       "127678    20062.041046\n",
       "              ...     \n",
       "255357    20275.981398\n",
       "270311    20062.041046\n",
       "227361    20042.390586\n",
       "283492    19438.168569\n",
       "217851    17681.427879\n",
       "Name: source_city, Length: 224693, dtype: float64"
      ]
     },
     "execution_count": 251,
     "metadata": {},
     "output_type": "execute_result"
    }
   ],
   "source": [
    "# For instance, we could replace the location names from 'source_city' for the average prices of the flights in the training set\n",
    "# that depart from them.\n",
    "\n",
    "# Calculating the average price for each of the 'source_city' city.\n",
    "source_city_avg_prices = train_no_outliers.groupby('source_city')['price'].mean().to_dict()\n",
    "\n",
    "# Replacing the city names with the average prices.\n",
    "train_no_outliers.source_city.replace(source_city_avg_prices)"
   ]
  },
  {
   "cell_type": "markdown",
   "id": "4238817e-cca1-42f6-a244-d294315ad671",
   "metadata": {},
   "source": [
    "<div> \n",
    "    <ul style='font-size:20px'> \n",
    "        <li> \n",
    "            Imagine if we did the same process shown above for all the string columns. Instead of manually replacing the categories, it is possible to construct a transformer that automates all the tasks.\n",
    "        </li>\n",
    "    </ul>\n",
    "</div>"
   ]
  },
  {
   "cell_type": "code",
   "execution_count": 553,
   "id": "e5504312-a0ba-4667-8bf7-ab8f1e30e08b",
   "metadata": {},
   "outputs": [],
   "source": [
    "from sklearn.base import BaseEstimator, TransformerMixin\n",
    "\n",
    "class MeaningFromText(BaseEstimator, TransformerMixin):\n",
    "    text_cols = ['airline','flight','source_city','departure_time','arrival_time','destination_city', 'class']\n",
    "    numerical_data = {}\n",
    "    \n",
    "    # A train set needs to be informed so that the grouping operations can be done.\n",
    "    def __init__(self, train_set):\n",
    "        self.train_set = train_set\n",
    "        \n",
    "    def __str__(self):\n",
    "        return 'MeaningFromText()'\n",
    "    \n",
    "    # 'fit' measures the average price for the categories from each column.\n",
    "    def fit(self, X, y=None):\n",
    "        for col in MeaningFromText.text_cols:\n",
    "            avg_prices = self.train_set.groupby(col)['price'].mean().to_dict()\n",
    "            MeaningFromText.numerical_data[col] = avg_prices\n",
    "        return self\n",
    "    \n",
    "    # 'transform' takes the stats computed by 'fit' and assign them to the DataFrame.\n",
    "    def transform(self, X):\n",
    "        for col in MeaningFromText.numerical_data.keys():\n",
    "            new_column = pd.Series(MeaningFromText.numerical_data[col], name=f'{col}_num')\n",
    "            X = pd.merge(X, new_column, left_on=col, right_index=True, how='left')\n",
    "            \n",
    "            # Dropping out the textual column since it will have no use for the project.\n",
    "            X.drop(col, axis=1, inplace=True)\n",
    "        return X.values"
   ]
  },
  {
   "cell_type": "code",
   "execution_count": 350,
   "id": "dd4927a9-4ed9-48ae-954d-a2fcfd75b3d0",
   "metadata": {
    "tags": []
   },
   "outputs": [
    {
     "data": {
      "text/plain": [
       "array([[1.00000000e+00, 1.40000000e+01, 3.90000000e+01, ...,\n",
       "        1.42400217e+04, 1.97071278e+04, 6.28757195e+03],\n",
       "       [1.00000000e+00, 1.40000000e+01, 2.90000000e+01, ...,\n",
       "        1.42400217e+04, 1.97071278e+04, 6.28757195e+03],\n",
       "       [1.00000000e+00, 1.43300000e+01, 4.60000000e+01, ...,\n",
       "        1.42400217e+04, 1.97071278e+04, 6.28757195e+03],\n",
       "       ...,\n",
       "       [1.00000000e+00, 8.00000000e+00, 2.60000000e+01, ...,\n",
       "        1.76628098e+04, 2.00398718e+04, 5.33764134e+04],\n",
       "       [1.00000000e+00, 8.00000000e+00, 3.30000000e+01, ...,\n",
       "        1.76628098e+04, 2.00398718e+04, 5.33764134e+04],\n",
       "       [1.00000000e+00, 6.67000000e+00, 4.50000000e+01, ...,\n",
       "        1.76628098e+04, 2.00398718e+04, 5.33764134e+04]])"
      ]
     },
     "execution_count": 350,
     "metadata": {},
     "output_type": "execute_result"
    }
   ],
   "source": [
    "# Before performing the alterations, it is convenient to already split the independent variables from the dependent ones.\n",
    "X = train_no_outliers[[col for col in train_no_outliers.columns if col !='price']]\n",
    "y = train_no_outliers['price']\n",
    "\n",
    "# And voilà! Now we have only numerical data.\n",
    "MeaningFromText(train_no_outliers).fit_transform(X)"
   ]
  },
  {
   "cell_type": "markdown",
   "id": "8795393e-9935-4015-98e7-802c45edaf94",
   "metadata": {},
   "source": [
    "<h3 style='font-size:30px;font-style:italic'> Numbers Transformation & Pipeline Generation</h3>\n",
    "<div> \n",
    "    <ul style='font-size:20px'> \n",
    "        <li> \n",
    "            I've decided to use KNNImputer for filling missing values and to scale the data with StandardScaler.\n",
    "        </li>\n",
    "    </ul>\n",
    "</div>"
   ]
  },
  {
   "cell_type": "code",
   "execution_count": 261,
   "id": "677989a1-dcd8-4613-b2cc-23c5fd287afa",
   "metadata": {},
   "outputs": [],
   "source": [
    "# With 'MeaningFromText' ready, we are able to build a transformation pipeline for the whole dataset.\n",
    "from sklearn.pipeline import Pipeline\n",
    "from sklearn.impute import KNNImputer\n",
    "from sklearn.preprocessing import StandardScaler\n",
    "\n",
    "# Making the official data transformation pipeline for the project.\n",
    "data_transformation = Pipeline([\n",
    "                    ('meaning_from_text', MeaningFromText(train)),\n",
    "                    ('imputer', KNNImputer()),\n",
    "                    ('std_scaler', StandardScaler())])"
   ]
  },
  {
   "cell_type": "code",
   "execution_count": 351,
   "id": "d6f718ce-2402-4ddf-a55b-3e3045a011e6",
   "metadata": {},
   "outputs": [],
   "source": [
    "# 'X_ready' is the output from the pipeline's transformations. \n",
    "X_ready = data_transformation.fit_transform(X)"
   ]
  },
  {
   "cell_type": "markdown",
   "id": "056a78f1-0173-42f8-ba50-c1c78b2a4347",
   "metadata": {},
   "source": [
    "<h2 style='font-size:30px'>Initial Validations</h2>\n",
    "<div> \n",
    "    <ul style='font-size:20px'> \n",
    "        <li> \n",
    "            Firstly, we are going to resort to simpler models which can provide us some sense of the minimum expected performance.      \n",
    "        </li>\n",
    "    </ul>\n",
    "</div>"
   ]
  },
  {
   "cell_type": "markdown",
   "id": "3e5a7148-fd20-4ac8-ba1d-eeba2e0da009",
   "metadata": {},
   "source": [
    "<h3 style='font-size:30px;font-style:italic'> Elastic Net</h3>\n",
    "<div> \n",
    "    <ul style='font-size:20px'> \n",
    "        <li> \n",
    "            Let's find out the best configuration for the Elastic Net algorithm.     \n",
    "        </li>\n",
    "    </ul>\n",
    "</div>"
   ]
  },
  {
   "cell_type": "code",
   "execution_count": 353,
   "id": "08e7005c-89d6-47fc-a552-8702482c56c1",
   "metadata": {},
   "outputs": [
    {
     "name": "stdout",
     "output_type": "stream",
     "text": [
      "Fitting 5 folds for each of 24 candidates, totalling 120 fits\n",
      "[CV 1/5] END ........................alpha=1.0, l1_ratio=0.5; total time=   0.2s\n",
      "[CV 2/5] END ........................alpha=1.0, l1_ratio=0.5; total time=   0.1s\n",
      "[CV 3/5] END ........................alpha=1.0, l1_ratio=0.5; total time=   0.1s\n",
      "[CV 4/5] END ........................alpha=1.0, l1_ratio=0.5; total time=   0.1s\n",
      "[CV 5/5] END ........................alpha=1.0, l1_ratio=0.5; total time=   0.1s\n",
      "[CV 1/5] END ........................alpha=1.0, l1_ratio=0.6; total time=   0.1s\n",
      "[CV 2/5] END ........................alpha=1.0, l1_ratio=0.6; total time=   0.1s\n",
      "[CV 3/5] END ........................alpha=1.0, l1_ratio=0.6; total time=   0.1s\n",
      "[CV 4/5] END ........................alpha=1.0, l1_ratio=0.6; total time=   0.2s\n",
      "[CV 5/5] END ........................alpha=1.0, l1_ratio=0.6; total time=   0.1s\n",
      "[CV 1/5] END ........................alpha=1.0, l1_ratio=0.7; total time=   0.1s\n",
      "[CV 2/5] END ........................alpha=1.0, l1_ratio=0.7; total time=   0.1s\n",
      "[CV 3/5] END ........................alpha=1.0, l1_ratio=0.7; total time=   0.1s\n",
      "[CV 4/5] END ........................alpha=1.0, l1_ratio=0.7; total time=   0.1s\n",
      "[CV 5/5] END ........................alpha=1.0, l1_ratio=0.7; total time=   0.1s\n",
      "[CV 1/5] END ........................alpha=1.0, l1_ratio=0.8; total time=   0.2s\n",
      "[CV 2/5] END ........................alpha=1.0, l1_ratio=0.8; total time=   0.3s\n",
      "[CV 3/5] END ........................alpha=1.0, l1_ratio=0.8; total time=   0.2s\n",
      "[CV 4/5] END ........................alpha=1.0, l1_ratio=0.8; total time=   0.2s\n",
      "[CV 5/5] END ........................alpha=1.0, l1_ratio=0.8; total time=   0.1s\n",
      "[CV 1/5] END ........................alpha=1.0, l1_ratio=0.9; total time=   0.2s\n",
      "[CV 2/5] END ........................alpha=1.0, l1_ratio=0.9; total time=   0.2s\n",
      "[CV 3/5] END ........................alpha=1.0, l1_ratio=0.9; total time=   0.2s\n",
      "[CV 4/5] END ........................alpha=1.0, l1_ratio=0.9; total time=   0.3s\n",
      "[CV 5/5] END ........................alpha=1.0, l1_ratio=0.9; total time=   0.2s\n",
      "[CV 1/5] END ........................alpha=1.0, l1_ratio=1.0; total time=   0.3s\n",
      "[CV 2/5] END ........................alpha=1.0, l1_ratio=1.0; total time=   0.3s\n",
      "[CV 3/5] END ........................alpha=1.0, l1_ratio=1.0; total time=   0.3s\n",
      "[CV 4/5] END ........................alpha=1.0, l1_ratio=1.0; total time=   0.3s\n",
      "[CV 5/5] END ........................alpha=1.0, l1_ratio=1.0; total time=   0.4s\n",
      "[CV 1/5] END .......................alpha=10.0, l1_ratio=0.5; total time=   0.1s\n",
      "[CV 2/5] END .......................alpha=10.0, l1_ratio=0.5; total time=   0.1s\n",
      "[CV 3/5] END .......................alpha=10.0, l1_ratio=0.5; total time=   0.1s\n",
      "[CV 4/5] END .......................alpha=10.0, l1_ratio=0.5; total time=   0.1s\n",
      "[CV 5/5] END .......................alpha=10.0, l1_ratio=0.5; total time=   0.1s\n",
      "[CV 1/5] END .......................alpha=10.0, l1_ratio=0.6; total time=   0.1s\n",
      "[CV 2/5] END .......................alpha=10.0, l1_ratio=0.6; total time=   0.1s\n",
      "[CV 3/5] END .......................alpha=10.0, l1_ratio=0.6; total time=   0.1s\n",
      "[CV 4/5] END .......................alpha=10.0, l1_ratio=0.6; total time=   0.1s\n",
      "[CV 5/5] END .......................alpha=10.0, l1_ratio=0.6; total time=   0.1s\n",
      "[CV 1/5] END .......................alpha=10.0, l1_ratio=0.7; total time=   0.1s\n",
      "[CV 2/5] END .......................alpha=10.0, l1_ratio=0.7; total time=   0.1s\n",
      "[CV 3/5] END .......................alpha=10.0, l1_ratio=0.7; total time=   0.1s\n",
      "[CV 4/5] END .......................alpha=10.0, l1_ratio=0.7; total time=   0.1s\n",
      "[CV 5/5] END .......................alpha=10.0, l1_ratio=0.7; total time=   0.1s\n",
      "[CV 1/5] END .......................alpha=10.0, l1_ratio=0.8; total time=   0.1s\n",
      "[CV 2/5] END .......................alpha=10.0, l1_ratio=0.8; total time=   0.1s\n",
      "[CV 3/5] END .......................alpha=10.0, l1_ratio=0.8; total time=   0.1s\n",
      "[CV 4/5] END .......................alpha=10.0, l1_ratio=0.8; total time=   0.1s\n",
      "[CV 5/5] END .......................alpha=10.0, l1_ratio=0.8; total time=   0.1s\n",
      "[CV 1/5] END .......................alpha=10.0, l1_ratio=0.9; total time=   0.1s\n",
      "[CV 2/5] END .......................alpha=10.0, l1_ratio=0.9; total time=   0.1s\n",
      "[CV 3/5] END .......................alpha=10.0, l1_ratio=0.9; total time=   0.1s\n",
      "[CV 4/5] END .......................alpha=10.0, l1_ratio=0.9; total time=   0.1s\n",
      "[CV 5/5] END .......................alpha=10.0, l1_ratio=0.9; total time=   0.1s\n",
      "[CV 1/5] END .......................alpha=10.0, l1_ratio=1.0; total time=   0.1s\n",
      "[CV 2/5] END .......................alpha=10.0, l1_ratio=1.0; total time=   0.1s\n",
      "[CV 3/5] END .......................alpha=10.0, l1_ratio=1.0; total time=   0.2s\n",
      "[CV 4/5] END .......................alpha=10.0, l1_ratio=1.0; total time=   0.1s\n",
      "[CV 5/5] END .......................alpha=10.0, l1_ratio=1.0; total time=   0.1s\n",
      "[CV 1/5] END ......................alpha=100.0, l1_ratio=0.5; total time=   0.1s\n",
      "[CV 2/5] END ......................alpha=100.0, l1_ratio=0.5; total time=   0.1s\n",
      "[CV 3/5] END ......................alpha=100.0, l1_ratio=0.5; total time=   0.1s\n",
      "[CV 4/5] END ......................alpha=100.0, l1_ratio=0.5; total time=   0.1s\n",
      "[CV 5/5] END ......................alpha=100.0, l1_ratio=0.5; total time=   0.1s\n",
      "[CV 1/5] END ......................alpha=100.0, l1_ratio=0.6; total time=   0.1s\n",
      "[CV 2/5] END ......................alpha=100.0, l1_ratio=0.6; total time=   0.1s\n",
      "[CV 3/5] END ......................alpha=100.0, l1_ratio=0.6; total time=   0.1s\n",
      "[CV 4/5] END ......................alpha=100.0, l1_ratio=0.6; total time=   0.1s\n",
      "[CV 5/5] END ......................alpha=100.0, l1_ratio=0.6; total time=   0.1s\n",
      "[CV 1/5] END ......................alpha=100.0, l1_ratio=0.7; total time=   0.1s\n",
      "[CV 2/5] END ......................alpha=100.0, l1_ratio=0.7; total time=   0.1s\n",
      "[CV 3/5] END ......................alpha=100.0, l1_ratio=0.7; total time=   0.1s\n",
      "[CV 4/5] END ......................alpha=100.0, l1_ratio=0.7; total time=   0.1s\n",
      "[CV 5/5] END ......................alpha=100.0, l1_ratio=0.7; total time=   0.1s\n",
      "[CV 1/5] END ......................alpha=100.0, l1_ratio=0.8; total time=   0.1s\n",
      "[CV 2/5] END ......................alpha=100.0, l1_ratio=0.8; total time=   0.1s\n",
      "[CV 3/5] END ......................alpha=100.0, l1_ratio=0.8; total time=   0.1s\n",
      "[CV 4/5] END ......................alpha=100.0, l1_ratio=0.8; total time=   0.1s\n",
      "[CV 5/5] END ......................alpha=100.0, l1_ratio=0.8; total time=   0.1s\n",
      "[CV 1/5] END ......................alpha=100.0, l1_ratio=0.9; total time=   0.1s\n",
      "[CV 2/5] END ......................alpha=100.0, l1_ratio=0.9; total time=   0.1s\n",
      "[CV 3/5] END ......................alpha=100.0, l1_ratio=0.9; total time=   0.1s\n",
      "[CV 4/5] END ......................alpha=100.0, l1_ratio=0.9; total time=   0.1s\n",
      "[CV 5/5] END ......................alpha=100.0, l1_ratio=0.9; total time=   0.1s\n",
      "[CV 1/5] END ......................alpha=100.0, l1_ratio=1.0; total time=   0.1s\n",
      "[CV 2/5] END ......................alpha=100.0, l1_ratio=1.0; total time=   0.1s\n",
      "[CV 3/5] END ......................alpha=100.0, l1_ratio=1.0; total time=   0.1s\n",
      "[CV 4/5] END ......................alpha=100.0, l1_ratio=1.0; total time=   0.1s\n",
      "[CV 5/5] END ......................alpha=100.0, l1_ratio=1.0; total time=   0.1s\n",
      "[CV 1/5] END .....................alpha=1000.0, l1_ratio=0.5; total time=   0.1s\n",
      "[CV 2/5] END .....................alpha=1000.0, l1_ratio=0.5; total time=   0.1s\n",
      "[CV 3/5] END .....................alpha=1000.0, l1_ratio=0.5; total time=   0.1s\n",
      "[CV 4/5] END .....................alpha=1000.0, l1_ratio=0.5; total time=   0.1s\n",
      "[CV 5/5] END .....................alpha=1000.0, l1_ratio=0.5; total time=   0.1s\n",
      "[CV 1/5] END .....................alpha=1000.0, l1_ratio=0.6; total time=   0.1s\n",
      "[CV 2/5] END .....................alpha=1000.0, l1_ratio=0.6; total time=   0.1s\n",
      "[CV 3/5] END .....................alpha=1000.0, l1_ratio=0.6; total time=   0.1s\n",
      "[CV 4/5] END .....................alpha=1000.0, l1_ratio=0.6; total time=   0.1s\n",
      "[CV 5/5] END .....................alpha=1000.0, l1_ratio=0.6; total time=   0.1s\n",
      "[CV 1/5] END .....................alpha=1000.0, l1_ratio=0.7; total time=   0.1s\n",
      "[CV 2/5] END .....................alpha=1000.0, l1_ratio=0.7; total time=   0.1s\n",
      "[CV 3/5] END .....................alpha=1000.0, l1_ratio=0.7; total time=   0.1s\n",
      "[CV 4/5] END .....................alpha=1000.0, l1_ratio=0.7; total time=   0.1s\n",
      "[CV 5/5] END .....................alpha=1000.0, l1_ratio=0.7; total time=   0.1s\n",
      "[CV 1/5] END .....................alpha=1000.0, l1_ratio=0.8; total time=   0.1s\n",
      "[CV 2/5] END .....................alpha=1000.0, l1_ratio=0.8; total time=   0.1s\n",
      "[CV 3/5] END .....................alpha=1000.0, l1_ratio=0.8; total time=   0.1s\n",
      "[CV 4/5] END .....................alpha=1000.0, l1_ratio=0.8; total time=   0.1s\n",
      "[CV 5/5] END .....................alpha=1000.0, l1_ratio=0.8; total time=   0.1s\n",
      "[CV 1/5] END .....................alpha=1000.0, l1_ratio=0.9; total time=   0.1s\n",
      "[CV 2/5] END .....................alpha=1000.0, l1_ratio=0.9; total time=   0.1s\n",
      "[CV 3/5] END .....................alpha=1000.0, l1_ratio=0.9; total time=   0.1s\n",
      "[CV 4/5] END .....................alpha=1000.0, l1_ratio=0.9; total time=   0.1s\n",
      "[CV 5/5] END .....................alpha=1000.0, l1_ratio=0.9; total time=   0.1s\n",
      "[CV 1/5] END .....................alpha=1000.0, l1_ratio=1.0; total time=   0.1s\n",
      "[CV 2/5] END .....................alpha=1000.0, l1_ratio=1.0; total time=   0.1s\n",
      "[CV 3/5] END .....................alpha=1000.0, l1_ratio=1.0; total time=   0.1s\n",
      "[CV 4/5] END .....................alpha=1000.0, l1_ratio=1.0; total time=   0.1s\n",
      "[CV 5/5] END .....................alpha=1000.0, l1_ratio=1.0; total time=   0.1s\n"
     ]
    }
   ],
   "source": [
    "from sklearn.linear_model import ElasticNet\n",
    "from sklearn.model_selection import GridSearchCV\n",
    "param_grid = dict(l1_ratio=np.linspace(0.5,1, 6),\n",
    "                           alpha=np.logspace(0,3,4))\n",
    "\n",
    "elnet = ElasticNet(random_state=42)\n",
    "elnet_gscv = GridSearchCV(elnet, param_grid, scoring='neg_root_mean_squared_error', cv=5, verbose=3).fit(X_ready, y)"
   ]
  },
  {
   "cell_type": "code",
   "execution_count": 354,
   "id": "9c633dfb-2dd9-41e6-92f0-0b1f3f4d48cf",
   "metadata": {},
   "outputs": [
    {
     "data": {
      "text/plain": [
       "({'alpha': 10.0, 'l1_ratio': 1.0}, 4787.213715362568)"
      ]
     },
     "execution_count": 354,
     "metadata": {},
     "output_type": "execute_result"
    }
   ],
   "source": [
    "# We must accept values up to 4787.21 indian ruppies as the algorithms' RMSE.\n",
    "elnet_gscv.best_params_, - elnet_gscv.best_score_"
   ]
  },
  {
   "cell_type": "markdown",
   "id": "4c56695e-79ba-4293-ae33-c015571c8f6e",
   "metadata": {},
   "source": [
    "<h3 style='font-size:30px;font-style:italic'> K-Nearest Neighbors</h3>\n",
    "<div> \n",
    "    <ul style='font-size:20px'> \n",
    "        <li> \n",
    "            The geometric approach of KNN makes it a simple but reliable algorithm. Let's figure out whether it can overcome the Elastic Net's RMSE.      \n",
    "        </li>\n",
    "    </ul>\n",
    "</div>"
   ]
  },
  {
   "cell_type": "code",
   "execution_count": 289,
   "id": "40a34c61-4ddb-4b56-8022-4ce3393b99d8",
   "metadata": {},
   "outputs": [
    {
     "name": "stdout",
     "output_type": "stream",
     "text": [
      "Fitting 5 folds for each of 2 candidates, totalling 10 fits\n",
      "[CV 1/5] END .................n_neighbors=9, weights=uniform; total time=  41.7s\n",
      "[CV 2/5] END .................n_neighbors=9, weights=uniform; total time=  40.4s\n",
      "[CV 3/5] END .................n_neighbors=9, weights=uniform; total time=  54.4s\n",
      "[CV 4/5] END .................n_neighbors=9, weights=uniform; total time=  41.2s\n",
      "[CV 5/5] END .................n_neighbors=9, weights=uniform; total time=  45.7s\n",
      "[CV 1/5] END ................n_neighbors=15, weights=uniform; total time=  42.2s\n",
      "[CV 2/5] END ................n_neighbors=15, weights=uniform; total time=  40.6s\n",
      "[CV 3/5] END ................n_neighbors=15, weights=uniform; total time=  52.5s\n",
      "[CV 4/5] END ................n_neighbors=15, weights=uniform; total time=  42.4s\n",
      "[CV 5/5] END ................n_neighbors=15, weights=uniform; total time=  47.2s\n"
     ]
    }
   ],
   "source": [
    "from sklearn.neighbors import KNeighborsRegressor\n",
    "param_grid = dict(n_neighbors=[9,15],\n",
    "                 weights=['uniform'])\n",
    "knn = KNeighborsRegressor()\n",
    "\n",
    "knn_gscv = GridSearchCV(knn, param_grid, scoring='neg_root_mean_squared_error', cv=5, verbose=3).fit(X_ready, y)"
   ]
  },
  {
   "cell_type": "code",
   "execution_count": 290,
   "id": "cc3e0245-2cb8-40f9-8e02-e9e4b021e589",
   "metadata": {},
   "outputs": [
    {
     "data": {
      "text/plain": [
       "(-6219.020677733646, {'n_neighbors': 15, 'weights': 'uniform'})"
      ]
     },
     "execution_count": 290,
     "metadata": {},
     "output_type": "execute_result"
    }
   ],
   "source": [
    "# KNN was not able to beat Elastic Net's performance.\n",
    "knn_gscv.best_score_, knn_gscv.best_params_"
   ]
  },
  {
   "cell_type": "markdown",
   "id": "d6c575c5-6179-463c-8a5e-30f1f6e30ad2",
   "metadata": {},
   "source": [
    "<h3 style='font-size:30px;font-style:italic'> Ensemble Algorithms</h3>\n",
    "<div> \n",
    "    <ul style='font-size:20px'cv_results_        <li> \n",
    "            Now, I am going to resort to some of the ensemble models available on Scikit-Learn. It is worth trying them considering their typical high performance.      \n",
    "        </li>\n",
    "    </ul>\n",
    "</div>"
   ]
  },
  {
   "cell_type": "markdown",
   "id": "188191fc-8b27-477a-8ee9-4d8c7f0ac487",
   "metadata": {},
   "source": [
    "<h4 style='font-size:30px;font-style:italic;text-decoration:underline'> Extra-Trees</h4>\n",
    "<div> \n",
    "    <ul style='font-size:20px'> \n",
    "        <li> \n",
    "            We'll begin with the most stochastic model available, Extra-Trees. Its peculiarity is that the threshold value used to split the nodes is chosen randomly.      \n",
    "        </li>\n",
    "    </ul>\n",
    "</div>"
   ]
  },
  {
   "cell_type": "code",
   "execution_count": 278,
   "id": "3123a868-73ab-4c03-b0ff-832201b7626f",
   "metadata": {},
   "outputs": [
    {
     "name": "stdout",
     "output_type": "stream",
     "text": [
      "Fitting 5 folds for each of 13 candidates, totalling 65 fits\n",
      "[CV 1/5] END ........min_samples_leaf=25000, n_estimators=25; total time=   2.4s\n",
      "[CV 2/5] END ........min_samples_leaf=25000, n_estimators=25; total time=   1.8s\n",
      "[CV 3/5] END ........min_samples_leaf=25000, n_estimators=25; total time=   1.7s\n",
      "[CV 4/5] END ........min_samples_leaf=25000, n_estimators=25; total time=   2.1s\n",
      "[CV 5/5] END ........min_samples_leaf=25000, n_estimators=25; total time=   1.7s\n",
      "[CV 1/5] END ........min_samples_leaf=25000, n_estimators=30; total time=   2.0s\n",
      "[CV 2/5] END ........min_samples_leaf=25000, n_estimators=30; total time=   2.0s\n",
      "[CV 3/5] END ........min_samples_leaf=25000, n_estimators=30; total time=   2.1s\n",
      "[CV 4/5] END ........min_samples_leaf=25000, n_estimators=30; total time=   2.6s\n",
      "[CV 5/5] END ........min_samples_leaf=25000, n_estimators=30; total time=   2.6s\n",
      "[CV 1/5] END ........min_samples_leaf=25000, n_estimators=35; total time=   2.4s\n",
      "[CV 2/5] END ........min_samples_leaf=25000, n_estimators=35; total time=   2.4s\n",
      "[CV 3/5] END ........min_samples_leaf=25000, n_estimators=35; total time=   2.4s\n",
      "[CV 4/5] END ........min_samples_leaf=25000, n_estimators=35; total time=   2.4s\n",
      "[CV 5/5] END ........min_samples_leaf=25000, n_estimators=35; total time=   2.3s\n",
      "[CV 1/5] END ........min_samples_leaf=45000, n_estimators=25; total time=   1.1s\n",
      "[CV 2/5] END ........min_samples_leaf=45000, n_estimators=25; total time=   1.0s\n",
      "[CV 3/5] END ........min_samples_leaf=45000, n_estimators=25; total time=   1.1s\n",
      "[CV 4/5] END ........min_samples_leaf=45000, n_estimators=25; total time=   1.1s\n",
      "[CV 5/5] END ........min_samples_leaf=45000, n_estimators=25; total time=   1.1s\n",
      "[CV 1/5] END ........min_samples_leaf=45000, n_estimators=30; total time=   1.3s\n",
      "[CV 2/5] END ........min_samples_leaf=45000, n_estimators=30; total time=   1.3s\n",
      "[CV 3/5] END ........min_samples_leaf=45000, n_estimators=30; total time=   1.4s\n",
      "[CV 4/5] END ........min_samples_leaf=45000, n_estimators=30; total time=   1.4s\n",
      "[CV 5/5] END ........min_samples_leaf=45000, n_estimators=30; total time=   1.3s\n",
      "[CV 1/5] END ........min_samples_leaf=45000, n_estimators=35; total time=   1.6s\n",
      "[CV 2/5] END ........min_samples_leaf=45000, n_estimators=35; total time=   1.5s\n",
      "[CV 3/5] END ........min_samples_leaf=45000, n_estimators=35; total time=   1.6s\n",
      "[CV 4/5] END ........min_samples_leaf=45000, n_estimators=35; total time=   1.5s\n",
      "[CV 5/5] END ........min_samples_leaf=45000, n_estimators=35; total time=   1.4s\n",
      "[CV 1/5] END ........min_samples_leaf=60000, n_estimators=25; total time=   0.6s\n",
      "[CV 2/5] END ........min_samples_leaf=60000, n_estimators=25; total time=   0.6s\n",
      "[CV 3/5] END ........min_samples_leaf=60000, n_estimators=25; total time=   0.7s\n",
      "[CV 4/5] END ........min_samples_leaf=60000, n_estimators=25; total time=   0.6s\n",
      "[CV 5/5] END ........min_samples_leaf=60000, n_estimators=25; total time=   0.7s\n",
      "[CV 1/5] END ........min_samples_leaf=60000, n_estimators=30; total time=   0.8s\n",
      "[CV 2/5] END ........min_samples_leaf=60000, n_estimators=30; total time=   0.8s\n",
      "[CV 3/5] END ........min_samples_leaf=60000, n_estimators=30; total time=   0.8s\n",
      "[CV 4/5] END ........min_samples_leaf=60000, n_estimators=30; total time=   0.8s\n",
      "[CV 5/5] END ........min_samples_leaf=60000, n_estimators=30; total time=   0.8s\n",
      "[CV 1/5] END ........min_samples_leaf=60000, n_estimators=35; total time=   0.9s\n",
      "[CV 2/5] END ........min_samples_leaf=60000, n_estimators=35; total time=   0.9s\n",
      "[CV 3/5] END ........min_samples_leaf=60000, n_estimators=35; total time=   1.0s\n",
      "[CV 4/5] END ........min_samples_leaf=60000, n_estimators=35; total time=   1.0s\n",
      "[CV 5/5] END ........min_samples_leaf=60000, n_estimators=35; total time=   1.0s\n",
      "[CV 1/5] END max_features=2, min_impurity_decrease=0.05, n_estimators=30; total time=   6.9s\n",
      "[CV 2/5] END max_features=2, min_impurity_decrease=0.05, n_estimators=30; total time=   7.1s\n",
      "[CV 3/5] END max_features=2, min_impurity_decrease=0.05, n_estimators=30; total time=   6.9s\n",
      "[CV 4/5] END max_features=2, min_impurity_decrease=0.05, n_estimators=30; total time=   7.1s\n",
      "[CV 5/5] END max_features=2, min_impurity_decrease=0.05, n_estimators=30; total time=   7.0s\n",
      "[CV 1/5] END max_features=2, min_impurity_decrease=0.07, n_estimators=30; total time=   6.5s\n",
      "[CV 2/5] END max_features=2, min_impurity_decrease=0.07, n_estimators=30; total time=   6.8s\n",
      "[CV 3/5] END max_features=2, min_impurity_decrease=0.07, n_estimators=30; total time=   6.6s\n",
      "[CV 4/5] END max_features=2, min_impurity_decrease=0.07, n_estimators=30; total time=   6.9s\n",
      "[CV 5/5] END max_features=2, min_impurity_decrease=0.07, n_estimators=30; total time=   5.7s\n",
      "[CV 1/5] END max_features=2, min_impurity_decrease=0.13, n_estimators=30; total time=   6.1s\n",
      "[CV 2/5] END max_features=2, min_impurity_decrease=0.13, n_estimators=30; total time=   6.3s\n",
      "[CV 3/5] END max_features=2, min_impurity_decrease=0.13, n_estimators=30; total time=   6.3s\n",
      "[CV 4/5] END max_features=2, min_impurity_decrease=0.13, n_estimators=30; total time=   6.4s\n",
      "[CV 5/5] END max_features=2, min_impurity_decrease=0.13, n_estimators=30; total time=   6.1s\n",
      "[CV 1/5] END max_features=2, min_impurity_decrease=0.21, n_estimators=30; total time=   6.0s\n",
      "[CV 2/5] END max_features=2, min_impurity_decrease=0.21, n_estimators=30; total time=   6.6s\n",
      "[CV 3/5] END max_features=2, min_impurity_decrease=0.21, n_estimators=30; total time=   5.9s\n",
      "[CV 4/5] END max_features=2, min_impurity_decrease=0.21, n_estimators=30; total time=   5.6s\n",
      "[CV 5/5] END max_features=2, min_impurity_decrease=0.21, n_estimators=30; total time=   5.5s\n"
     ]
    }
   ],
   "source": [
    "from sklearn.ensemble import ExtraTreesRegressor\n",
    "param_grid = [dict(n_estimators=[25,30,35], min_samples_leaf=[25000, 45000, 60000]),\n",
    "             dict(n_estimators=[30], min_impurity_decrease=[.05, .07, .13, .21],\n",
    "                 max_features=[2])]\n",
    "extra_trees = ExtraTreesRegressor(random_state=42)\n",
    "extra_trees_gscv = GridSearchCV(extra_trees, param_grid, scoring='neg_root_mean_squared_error', cv=5, verbose=3).fit(X_ready, y)"
   ]
  },
  {
   "cell_type": "code",
   "execution_count": 281,
   "id": "280d74a8-c08e-4518-9ef0-7145cd99e58b",
   "metadata": {},
   "outputs": [
    {
     "data": {
      "text/plain": [
       "(-8412.362443554579,\n",
       " {'max_features': 2, 'min_impurity_decrease': 0.05, 'n_estimators': 30})"
      ]
     },
     "execution_count": 281,
     "metadata": {},
     "output_type": "execute_result"
    }
   ],
   "source": [
    "# Extra-Trees probably is not the ideal algorithm to our setting.\n",
    "extra_trees_gscv.best_score_, extra_trees_gscv.best_params_ "
   ]
  },
  {
   "cell_type": "code",
   "execution_count": 285,
   "id": "6c2b12de-223d-4fee-b3ac-84f90b047045",
   "metadata": {},
   "outputs": [
    {
     "data": {
      "text/plain": [
       "([{'min_samples_leaf': 25000, 'n_estimators': 25},\n",
       "  {'min_samples_leaf': 25000, 'n_estimators': 30},\n",
       "  {'min_samples_leaf': 25000, 'n_estimators': 35},\n",
       "  {'min_samples_leaf': 45000, 'n_estimators': 25},\n",
       "  {'min_samples_leaf': 45000, 'n_estimators': 30},\n",
       "  {'min_samples_leaf': 45000, 'n_estimators': 35},\n",
       "  {'min_samples_leaf': 60000, 'n_estimators': 25},\n",
       "  {'min_samples_leaf': 60000, 'n_estimators': 30},\n",
       "  {'min_samples_leaf': 60000, 'n_estimators': 35},\n",
       "  {'max_features': 2, 'min_impurity_decrease': 0.05, 'n_estimators': 30},\n",
       "  {'max_features': 2, 'min_impurity_decrease': 0.07, 'n_estimators': 30},\n",
       "  {'max_features': 2, 'min_impurity_decrease': 0.13, 'n_estimators': 30},\n",
       "  {'max_features': 2, 'min_impurity_decrease': 0.21, 'n_estimators': 30}],\n",
       " array([-11125.94535851, -11099.81832153, -11090.17320825, -14223.02633602,\n",
       "        -14209.58999495, -14212.30765183, -14461.60534445, -14438.24453689,\n",
       "        -14405.93955003,  -8412.36244355,  -8426.85769448,  -9194.37142489,\n",
       "         -8585.21854787]))"
      ]
     },
     "execution_count": 285,
     "metadata": {},
     "output_type": "execute_result"
    }
   ],
   "source": [
    "# The report retrieved by 'cv_results' shows that using 'min_impurity_decrease' was more benefitial than resorting to 'min_samples_leaf'.\n",
    "# Taking that into account might be worthy for the upcoming ensembles.\n",
    "extra_trees_gscv.cv_results_['params'], extra_trees_gscv.cv_results_['mean_test_score']"
   ]
  },
  {
   "cell_type": "markdown",
   "id": "790275ac-7ea6-4b6d-ba6b-9172df1f3edb",
   "metadata": {},
   "source": [
    "<h4 style='font-size:30px;font-style:italic;text-decoration:underline'> Random Forest</h4>\n",
    "<div> \n",
    "    <ul style='font-size:20px'> \n",
    "        <li> \n",
    "            Random Forest is a more sophisticated model since it searches for the optimal threshold when splitting the nodes.      \n",
    "        </li>\n",
    "        <li> \n",
    "            Let' see whether that feature can help us achieving lower error scores.\n",
    "        </li>\n",
    "    </ul>\n",
    "</div>"
   ]
  },
  {
   "cell_type": "code",
   "execution_count": 287,
   "id": "87c78406-547e-4505-a869-7a840f51dc65",
   "metadata": {},
   "outputs": [
    {
     "name": "stdout",
     "output_type": "stream",
     "text": [
      "Fitting 5 folds for each of 8 candidates, totalling 40 fits\n",
      "[CV 1/5] END max_features=1, min_impurity_decrease=0.05, n_estimators=30; total time=   7.7s\n",
      "[CV 2/5] END max_features=1, min_impurity_decrease=0.05, n_estimators=30; total time=   9.8s\n",
      "[CV 3/5] END max_features=1, min_impurity_decrease=0.05, n_estimators=30; total time=   7.2s\n",
      "[CV 4/5] END max_features=1, min_impurity_decrease=0.05, n_estimators=30; total time=   8.1s\n",
      "[CV 5/5] END max_features=1, min_impurity_decrease=0.05, n_estimators=30; total time=   8.2s\n",
      "[CV 1/5] END max_features=1, min_impurity_decrease=0.07, n_estimators=30; total time=   9.1s\n",
      "[CV 2/5] END max_features=1, min_impurity_decrease=0.07, n_estimators=30; total time=  10.2s\n",
      "[CV 3/5] END max_features=1, min_impurity_decrease=0.07, n_estimators=30; total time=   7.5s\n",
      "[CV 4/5] END max_features=1, min_impurity_decrease=0.07, n_estimators=30; total time=   7.1s\n",
      "[CV 5/5] END max_features=1, min_impurity_decrease=0.07, n_estimators=30; total time=   7.1s\n",
      "[CV 1/5] END max_features=1, min_impurity_decrease=0.13, n_estimators=30; total time=   6.8s\n",
      "[CV 2/5] END max_features=1, min_impurity_decrease=0.13, n_estimators=30; total time=   6.8s\n",
      "[CV 3/5] END max_features=1, min_impurity_decrease=0.13, n_estimators=30; total time=   6.7s\n",
      "[CV 4/5] END max_features=1, min_impurity_decrease=0.13, n_estimators=30; total time=   7.6s\n",
      "[CV 5/5] END max_features=1, min_impurity_decrease=0.13, n_estimators=30; total time=   7.4s\n",
      "[CV 1/5] END max_features=1, min_impurity_decrease=0.21, n_estimators=30; total time=   6.9s\n",
      "[CV 2/5] END max_features=1, min_impurity_decrease=0.21, n_estimators=30; total time=   8.0s\n",
      "[CV 3/5] END max_features=1, min_impurity_decrease=0.21, n_estimators=30; total time=   6.9s\n",
      "[CV 4/5] END max_features=1, min_impurity_decrease=0.21, n_estimators=30; total time=   6.8s\n",
      "[CV 5/5] END max_features=1, min_impurity_decrease=0.21, n_estimators=30; total time=   7.2s\n",
      "[CV 1/5] END max_features=2, min_impurity_decrease=0.05, n_estimators=30; total time=   9.2s\n",
      "[CV 2/5] END max_features=2, min_impurity_decrease=0.05, n_estimators=30; total time=   9.4s\n",
      "[CV 3/5] END max_features=2, min_impurity_decrease=0.05, n_estimators=30; total time=   8.7s\n",
      "[CV 4/5] END max_features=2, min_impurity_decrease=0.05, n_estimators=30; total time=   9.5s\n",
      "[CV 5/5] END max_features=2, min_impurity_decrease=0.05, n_estimators=30; total time=   8.3s\n",
      "[CV 1/5] END max_features=2, min_impurity_decrease=0.07, n_estimators=30; total time=   9.1s\n",
      "[CV 2/5] END max_features=2, min_impurity_decrease=0.07, n_estimators=30; total time=   8.7s\n",
      "[CV 3/5] END max_features=2, min_impurity_decrease=0.07, n_estimators=30; total time=   9.3s\n",
      "[CV 4/5] END max_features=2, min_impurity_decrease=0.07, n_estimators=30; total time=   9.2s\n",
      "[CV 5/5] END max_features=2, min_impurity_decrease=0.07, n_estimators=30; total time=   8.5s\n",
      "[CV 1/5] END max_features=2, min_impurity_decrease=0.13, n_estimators=30; total time=   8.7s\n",
      "[CV 2/5] END max_features=2, min_impurity_decrease=0.13, n_estimators=30; total time=   8.6s\n",
      "[CV 3/5] END max_features=2, min_impurity_decrease=0.13, n_estimators=30; total time=   8.4s\n",
      "[CV 4/5] END max_features=2, min_impurity_decrease=0.13, n_estimators=30; total time=   8.5s\n",
      "[CV 5/5] END max_features=2, min_impurity_decrease=0.13, n_estimators=30; total time=   8.7s\n",
      "[CV 1/5] END max_features=2, min_impurity_decrease=0.21, n_estimators=30; total time=   8.7s\n",
      "[CV 2/5] END max_features=2, min_impurity_decrease=0.21, n_estimators=30; total time=   8.4s\n",
      "[CV 3/5] END max_features=2, min_impurity_decrease=0.21, n_estimators=30; total time=   8.6s\n",
      "[CV 4/5] END max_features=2, min_impurity_decrease=0.21, n_estimators=30; total time=   9.5s\n",
      "[CV 5/5] END max_features=2, min_impurity_decrease=0.21, n_estimators=30; total time=   8.0s\n"
     ]
    }
   ],
   "source": [
    "from sklearn.ensemble import RandomForestRegressor\n",
    "param_grid = [dict(n_estimators=[30], min_impurity_decrease=[.05, .07, .13, .21],\n",
    "                 max_features=[1,2])]\n",
    "rdm_frst = RandomForestRegressor(random_state=42)\n",
    "rdm_frst_gscv = GridSearchCV(rdm_frst, param_grid, scoring='neg_root_mean_squared_error', cv=5, verbose=3).fit(X_ready, y)"
   ]
  },
  {
   "cell_type": "code",
   "execution_count": 288,
   "id": "da270092-e74d-411b-9fc5-6aedea8cded6",
   "metadata": {},
   "outputs": [
    {
     "data": {
      "text/plain": [
       "(-10176.66167948931,\n",
       " {'max_features': 2, 'min_impurity_decrease': 0.05, 'n_estimators': 30})"
      ]
     },
     "execution_count": 288,
     "metadata": {},
     "output_type": "execute_result"
    }
   ],
   "source": [
    "# Another disappointing outcome for us. \n",
    "rdm_frst_gscv.best_score_, rdm_frst_gscv.best_params_"
   ]
  },
  {
   "cell_type": "markdown",
   "id": "7874949a-3654-467f-84ad-40efa6a7a2d7",
   "metadata": {},
   "source": [
    "<h4 style='font-size:30px;font-style:italic;text-decoration:underline'> XGBoost</h4>\n",
    "<div> \n",
    "    <ul style='font-size:20px'> \n",
    "        <li> \n",
    "            XGBoost might offer us a better error score than the previous two ensemble models.\n",
    "        </li>\n",
    "    </ul>\n",
    "</div>"
   ]
  },
  {
   "cell_type": "code",
   "execution_count": 296,
   "id": "42e1d86a-b8bb-4834-b105-278f60ef4570",
   "metadata": {},
   "outputs": [
    {
     "name": "stdout",
     "output_type": "stream",
     "text": [
      "Fitting 5 folds for each of 6 candidates, totalling 30 fits\n",
      "[CV 1/5] END booster=gbtree, learning_rate=0.075, max_leaves=3; total time=  14.7s\n",
      "[CV 2/5] END booster=gbtree, learning_rate=0.075, max_leaves=3; total time=  13.6s\n",
      "[CV 3/5] END booster=gbtree, learning_rate=0.075, max_leaves=3; total time=  13.8s\n",
      "[CV 4/5] END booster=gbtree, learning_rate=0.075, max_leaves=3; total time=  14.2s\n",
      "[CV 5/5] END booster=gbtree, learning_rate=0.075, max_leaves=3; total time=  16.9s\n",
      "[CV 1/5] END booster=gbtree, learning_rate=0.075, max_leaves=4; total time=  13.8s\n",
      "[CV 2/5] END booster=gbtree, learning_rate=0.075, max_leaves=4; total time=  13.5s\n",
      "[CV 3/5] END booster=gbtree, learning_rate=0.075, max_leaves=4; total time=  14.4s\n",
      "[CV 4/5] END booster=gbtree, learning_rate=0.075, max_leaves=4; total time=  14.3s\n",
      "[CV 5/5] END booster=gbtree, learning_rate=0.075, max_leaves=4; total time=  13.5s\n",
      "[CV 1/5] END booster=gbtree, learning_rate=0.1, max_leaves=3; total time=  13.3s\n",
      "[CV 2/5] END booster=gbtree, learning_rate=0.1, max_leaves=3; total time=  14.3s\n",
      "[CV 3/5] END booster=gbtree, learning_rate=0.1, max_leaves=3; total time=  13.4s\n",
      "[CV 4/5] END booster=gbtree, learning_rate=0.1, max_leaves=3; total time=  14.8s\n",
      "[CV 5/5] END booster=gbtree, learning_rate=0.1, max_leaves=3; total time=  13.8s\n",
      "[CV 1/5] END booster=gbtree, learning_rate=0.1, max_leaves=4; total time=  13.8s\n",
      "[CV 2/5] END booster=gbtree, learning_rate=0.1, max_leaves=4; total time=  13.8s\n",
      "[CV 3/5] END booster=gbtree, learning_rate=0.1, max_leaves=4; total time=  14.0s\n",
      "[CV 4/5] END booster=gbtree, learning_rate=0.1, max_leaves=4; total time=  16.5s\n",
      "[CV 5/5] END booster=gbtree, learning_rate=0.1, max_leaves=4; total time=  13.6s\n",
      "[CV 1/5] END booster=gbtree, learning_rate=0.125, max_leaves=3; total time=  13.8s\n",
      "[CV 2/5] END booster=gbtree, learning_rate=0.125, max_leaves=3; total time=  15.7s\n",
      "[CV 3/5] END booster=gbtree, learning_rate=0.125, max_leaves=3; total time=  13.5s\n",
      "[CV 4/5] END booster=gbtree, learning_rate=0.125, max_leaves=3; total time=  13.0s\n",
      "[CV 5/5] END booster=gbtree, learning_rate=0.125, max_leaves=3; total time=  14.5s\n",
      "[CV 1/5] END booster=gbtree, learning_rate=0.125, max_leaves=4; total time=  14.6s\n",
      "[CV 2/5] END booster=gbtree, learning_rate=0.125, max_leaves=4; total time=  13.7s\n",
      "[CV 3/5] END booster=gbtree, learning_rate=0.125, max_leaves=4; total time=  14.3s\n",
      "[CV 4/5] END booster=gbtree, learning_rate=0.125, max_leaves=4; total time=  14.6s\n",
      "[CV 5/5] END booster=gbtree, learning_rate=0.125, max_leaves=4; total time=  14.3s\n"
     ]
    }
   ],
   "source": [
    "from xgboost import XGBRegressor\n",
    "param_grid = [dict(max_leaves=[3,4], learning_rate=[.075, .1, .125], booster=['gbtree'])]\n",
    "xgb = XGBRegressor(random_state=42)\n",
    "\n",
    "xgb_gscv = GridSearchCV(xgb, param_grid, scoring='neg_root_mean_squared_error', cv=5, verbose=3).fit(X_ready, y)"
   ]
  },
  {
   "cell_type": "code",
   "execution_count": 298,
   "id": "d978d899-50e7-4ff4-86fa-c4dd530f8f8f",
   "metadata": {},
   "outputs": [
    {
     "data": {
      "text/plain": [
       "(-4801.8434277296665,\n",
       " {'booster': 'gbtree', 'learning_rate': 0.075, 'max_leaves': 3})"
      ]
     },
     "execution_count": 298,
     "metadata": {},
     "output_type": "execute_result"
    }
   ],
   "source": [
    "# Great! We have another contender to deployment use.\n",
    "# Apparently we've reached an error score plateau. Our best models achieved a similar mark of 4787 indian ruppies.\n",
    "xgb_gscv.best_score_, xgb_gscv.best_params_"
   ]
  },
  {
   "cell_type": "markdown",
   "id": "3737fe47-be99-4082-93ae-1c80e069eca7",
   "metadata": {},
   "source": [
    "<h2 style='font-size:30px'> Can we somehow improve our outcomes?</h2>\n",
    "<div> \n",
    "    <ul style='font-size:20px'> \n",
    "        <li>\n",
    "            We need to develop a strategy that can make us obtain lower RMSE's in future validations.\n",
    "        </li>\n",
    "        <li> \n",
    "            Considering the satisfactory performance of our XGBoost ensemble, I am going to use its \"feature_importances_\" array in order to filter out irrelevant features from our dataset. We can also refer to the Elastic Net's computed coefficients in order to attain some insights on the feature relevances.\n",
    "        </li>\n",
    "    </ul>\n",
    "</div>"
   ]
  },
  {
   "cell_type": "code",
   "execution_count": 614,
   "id": "52cfa042-b2f8-4c89-8253-0d1ff184d023",
   "metadata": {},
   "outputs": [
    {
     "name": "stdout",
     "output_type": "stream",
     "text": [
      "[0. 0. 0. 0. 0. 0. 0. 0. 0. 1.]\n"
     ]
    },
    {
     "data": {
      "text/plain": [
       "array([ 6273.6304,  6205.6377,  6185.132 ,  6267.735 , 53241.816 ,\n",
       "       53242.152 , 53591.953 , 53242.152 ], dtype=float32)"
      ]
     },
     "execution_count": 614,
     "metadata": {},
     "output_type": "execute_result"
    }
   ],
   "source": [
    "# But when both the attributes are peeked, we have a surprise. A single column is monopolizing the relevance!\n",
    "print(xgb_gscv.best_estimator_.feature_importances_.round(3))"
   ]
  },
  {
   "cell_type": "code",
   "execution_count": 366,
   "id": "1de5fa2f-de2b-4ecd-8044-d031dabedfa2",
   "metadata": {},
   "outputs": [
    {
     "data": {
      "text/plain": [
       "array([0.   , 0.   , 0.   , 0.   , 0.   , 0.   , 0.   , 0.   , 0.   ,\n",
       "       0.999])"
      ]
     },
     "execution_count": 366,
     "metadata": {},
     "output_type": "execute_result"
    }
   ],
   "source": [
    "# The same happens with the Elastic Net...\n",
    "(np.abs(elnet_gscv.best_estimator_.coef_) / np.abs(elnet_gscv.best_estimator_.coef_).sum()).round(3)"
   ]
  },
  {
   "cell_type": "markdown",
   "id": "61135202-e4ac-4e8d-a536-5e78dc147165",
   "metadata": {},
   "source": [
    "<div> \n",
    "    <ul style='font-size:20px'> \n",
    "        <li>\n",
    "            It happened that a single feature (the seat classes) was able to succesfully substantiate the predictions of our best algorithms. This was likely due to the outliers removal performed earlier; it made the flights pertained to the Economic and Business classes way too distinguishable.\n",
    "        </li>\n",
    "    </ul>\n",
    "</div>"
   ]
  },
  {
   "cell_type": "code",
   "execution_count": 628,
   "id": "c089b9fc-3517-41c8-917e-b8cde614e0a8",
   "metadata": {},
   "outputs": [
    {
     "data": {
      "text/plain": [
       "<AxesSubplot:xlabel='price', ylabel='Density'>"
      ]
     },
     "execution_count": 628,
     "metadata": {},
     "output_type": "execute_result"
    },
    {
     "data": {
      "image/png": "[encoded data removed]",
      "text/plain": [
       "<Figure size 432x288 with 1 Axes>"
      ]
     },
     "metadata": {
      "needs_background": "light"
     },
     "output_type": "display_data"
    }
   ],
   "source": [
    "# The prices for both classes are visible differentiable!  \n",
    "kdeplot(data=train_no_outliers, x='price', hue='class')"
   ]
  },
  {
   "cell_type": "code",
   "execution_count": 744,
   "id": "f828eb2c-a9ce-44be-b52f-443b83647342",
   "metadata": {},
   "outputs": [
    {
     "data": {
      "text/plain": [
       "(0.0, 70000.0)"
      ]
     },
     "execution_count": 744,
     "metadata": {},
     "output_type": "execute_result"
    },
    {
     "data": {
      "image/png": "[encoded data removed]",
      "text/plain": [
       "<Figure size 864x288 with 2 Axes>"
      ]
     },
     "metadata": {
      "needs_background": "light"
     },
     "output_type": "display_data"
    }
   ],
   "source": [
    "# Another issue: from priotizing a single feature when fitting, our models' predictions are note diverse enough. The estimations\n",
    "# for the economic class are all next to 6100 indian ruppies, and around of 52000 indian ruppies for the business seats.\n",
    "\n",
    "# Thus, in spite of their great RMSE achieved, the algorithms are actually returning excessively generalized predictions, which will not\n",
    "# satisfy the potential users.\n",
    "\n",
    "# Graphing the training set prices CDF.\n",
    "plt.figure(figsize=(12,4))\n",
    "plt.subplot(121)\n",
    "plt.step(list(range(0,101,1)),[np.percentile(y,i) for i in range(0,101,1)])\n",
    "plt.title('Training Set Prices CDF')\n",
    "\n",
    "# Plotting the CDF of the XGBoost estimations.\n",
    "plt.subplot(122)\n",
    "xgb_train_predictions = xgb_gscv.best_estimator_.predict(X_ready)\n",
    "plt.step(list(range(0,101,1)),[np.percentile(xgb_train_predictions,i) for i in range(0,101,1)])\n",
    "plt.title('XGBoost Predictions CDF')\n",
    "plt.ylim([0, 70000])"
   ]
  },
  {
   "cell_type": "markdown",
   "id": "653d404b-2ad6-4faa-b696-597ad92f1397",
   "metadata": {},
   "source": [
    "<h2 style='font-size:30px'> Delivering more diversified outcomes</h2>\n",
    "<div> \n",
    "    <ul style='font-size:20px'> \n",
    "        <li>\n",
    "            On account of the results obtained in the first round of validations, I thought that it would be better to designate an algorithm for each seat type. At the end of the project, the models will be bundled in a Python class.\n",
    "        </li>\n",
    "    </ul>\n",
    "</div>"
   ]
  },
  {
   "cell_type": "markdown",
   "id": "e596bfe6-108c-43b8-ba55-b972f6e772a8",
   "metadata": {},
   "source": [
    "<h3 style='font-size:30px;font-style:italic'> Validations for the Economy class</h3>\n",
    "<div> \n",
    "    <ul style='font-size:20px'> \n",
    "        <li>\n",
    "            Let's see whether we can reach better results with this new strategy.\n",
    "        </li>\n",
    "    </ul>\n",
    "</div>"
   ]
  },
  {
   "cell_type": "code",
   "execution_count": 666,
   "id": "7f72203a-8580-4b1f-aa7f-3392c13100e0",
   "metadata": {
    "tags": []
   },
   "outputs": [
    {
     "data": {
      "text/plain": [
       "array(['Economy'], dtype=object)"
      ]
     },
     "execution_count": 666,
     "metadata": {},
     "output_type": "execute_result"
    }
   ],
   "source": [
    "# Selecting the economic tickets from the dataset.\n",
    "economy_train = train_no_outliers[train_no_outliers['class'] == 'Economy']\n",
    "\n",
    "X_train_economy = economy_train.iloc[:, :-1]\n",
    "y_train_economy = economy_train['price']\n",
    "economy_train['class'].unique()"
   ]
  },
  {
   "cell_type": "code",
   "execution_count": 678,
   "id": "c0f986a8-3231-4d0a-abc1-f8880eada386",
   "metadata": {},
   "outputs": [],
   "source": [
    "# Applying the necessary transformations on the data.\n",
    "economy_data_transformation = Pipeline([\n",
    "                    ('meaning_from_text', MeaningFromText(train)),\n",
    "                    ('imputer', KNNImputer()),\n",
    "                    ('std_scaler', StandardScaler())])\n",
    "X_train_economy = economy_data_transformation.fit_transform(X_train_economy)"
   ]
  },
  {
   "cell_type": "markdown",
   "id": "a650c442-014b-4939-a4b6-b37c15f3674b",
   "metadata": {},
   "source": [
    "<h4 style='font-size:30px;font-style:italic;text-decoration:underline'> Elastic Net - Economy Class Validations</h4>"
   ]
  },
  {
   "cell_type": "code",
   "execution_count": 680,
   "id": "39e588fc-0f9f-4199-b4ab-c3b762468995",
   "metadata": {},
   "outputs": [
    {
     "name": "stdout",
     "output_type": "stream",
     "text": [
      "Fitting 5 folds for each of 24 candidates, totalling 120 fits\n",
      "[CV 1/5] END ........................alpha=1.0, l1_ratio=0.5; total time=   1.0s\n",
      "[CV 2/5] END ........................alpha=1.0, l1_ratio=0.5; total time=   0.1s\n",
      "[CV 3/5] END ........................alpha=1.0, l1_ratio=0.5; total time=   0.1s\n",
      "[CV 4/5] END ........................alpha=1.0, l1_ratio=0.5; total time=   0.1s\n",
      "[CV 5/5] END ........................alpha=1.0, l1_ratio=0.5; total time=   0.1s\n",
      "[CV 1/5] END ........................alpha=1.0, l1_ratio=0.6; total time=   0.1s\n",
      "[CV 2/5] END ........................alpha=1.0, l1_ratio=0.6; total time=   0.1s\n",
      "[CV 3/5] END ........................alpha=1.0, l1_ratio=0.6; total time=   0.1s\n",
      "[CV 4/5] END ........................alpha=1.0, l1_ratio=0.6; total time=   0.1s\n",
      "[CV 5/5] END ........................alpha=1.0, l1_ratio=0.6; total time=   0.1s\n",
      "[CV 1/5] END ........................alpha=1.0, l1_ratio=0.7; total time=   0.1s\n",
      "[CV 2/5] END ........................alpha=1.0, l1_ratio=0.7; total time=   0.1s\n",
      "[CV 3/5] END ........................alpha=1.0, l1_ratio=0.7; total time=   0.1s\n",
      "[CV 4/5] END ........................alpha=1.0, l1_ratio=0.7; total time=   0.1s\n",
      "[CV 5/5] END ........................alpha=1.0, l1_ratio=0.7; total time=   0.1s\n",
      "[CV 1/5] END ........................alpha=1.0, l1_ratio=0.8; total time=   0.1s\n",
      "[CV 2/5] END ........................alpha=1.0, l1_ratio=0.8; total time=   0.1s\n",
      "[CV 3/5] END ........................alpha=1.0, l1_ratio=0.8; total time=   0.1s\n",
      "[CV 4/5] END ........................alpha=1.0, l1_ratio=0.8; total time=   0.1s\n",
      "[CV 5/5] END ........................alpha=1.0, l1_ratio=0.8; total time=   0.1s\n",
      "[CV 1/5] END ........................alpha=1.0, l1_ratio=0.9; total time=   0.1s\n",
      "[CV 2/5] END ........................alpha=1.0, l1_ratio=0.9; total time=   0.1s\n",
      "[CV 3/5] END ........................alpha=1.0, l1_ratio=0.9; total time=   0.1s\n",
      "[CV 4/5] END ........................alpha=1.0, l1_ratio=0.9; total time=   0.1s\n",
      "[CV 5/5] END ........................alpha=1.0, l1_ratio=0.9; total time=   0.1s\n",
      "[CV 1/5] END ........................alpha=1.0, l1_ratio=1.0; total time=   0.1s\n",
      "[CV 2/5] END ........................alpha=1.0, l1_ratio=1.0; total time=   0.2s\n",
      "[CV 3/5] END ........................alpha=1.0, l1_ratio=1.0; total time=   0.1s\n",
      "[CV 4/5] END ........................alpha=1.0, l1_ratio=1.0; total time=   0.1s\n",
      "[CV 5/5] END ........................alpha=1.0, l1_ratio=1.0; total time=   0.1s\n",
      "[CV 1/5] END .......................alpha=10.0, l1_ratio=0.5; total time=   0.0s\n",
      "[CV 2/5] END .......................alpha=10.0, l1_ratio=0.5; total time=   0.0s\n",
      "[CV 3/5] END .......................alpha=10.0, l1_ratio=0.5; total time=   0.1s\n",
      "[CV 4/5] END .......................alpha=10.0, l1_ratio=0.5; total time=   0.0s\n",
      "[CV 5/5] END .......................alpha=10.0, l1_ratio=0.5; total time=   0.0s\n",
      "[CV 1/5] END .......................alpha=10.0, l1_ratio=0.6; total time=   0.0s\n",
      "[CV 2/5] END .......................alpha=10.0, l1_ratio=0.6; total time=   0.1s\n",
      "[CV 3/5] END .......................alpha=10.0, l1_ratio=0.6; total time=   0.0s\n",
      "[CV 4/5] END .......................alpha=10.0, l1_ratio=0.6; total time=   0.1s\n",
      "[CV 5/5] END .......................alpha=10.0, l1_ratio=0.6; total time=   0.0s\n",
      "[CV 1/5] END .......................alpha=10.0, l1_ratio=0.7; total time=   0.0s\n",
      "[CV 2/5] END .......................alpha=10.0, l1_ratio=0.7; total time=   0.1s\n",
      "[CV 3/5] END .......................alpha=10.0, l1_ratio=0.7; total time=   0.1s\n",
      "[CV 4/5] END .......................alpha=10.0, l1_ratio=0.7; total time=   0.0s\n",
      "[CV 5/5] END .......................alpha=10.0, l1_ratio=0.7; total time=   0.0s\n",
      "[CV 1/5] END .......................alpha=10.0, l1_ratio=0.8; total time=   0.1s\n",
      "[CV 2/5] END .......................alpha=10.0, l1_ratio=0.8; total time=   0.0s\n",
      "[CV 3/5] END .......................alpha=10.0, l1_ratio=0.8; total time=   0.1s\n",
      "[CV 4/5] END .......................alpha=10.0, l1_ratio=0.8; total time=   0.0s\n",
      "[CV 5/5] END .......................alpha=10.0, l1_ratio=0.8; total time=   0.0s\n",
      "[CV 1/5] END .......................alpha=10.0, l1_ratio=0.9; total time=   0.1s\n",
      "[CV 2/5] END .......................alpha=10.0, l1_ratio=0.9; total time=   0.0s\n",
      "[CV 3/5] END .......................alpha=10.0, l1_ratio=0.9; total time=   0.0s\n",
      "[CV 4/5] END .......................alpha=10.0, l1_ratio=0.9; total time=   0.0s\n",
      "[CV 5/5] END .......................alpha=10.0, l1_ratio=0.9; total time=   0.1s\n",
      "[CV 1/5] END .......................alpha=10.0, l1_ratio=1.0; total time=   0.1s\n",
      "[CV 2/5] END .......................alpha=10.0, l1_ratio=1.0; total time=   0.2s\n",
      "[CV 3/5] END .......................alpha=10.0, l1_ratio=1.0; total time=   0.2s\n",
      "[CV 4/5] END .......................alpha=10.0, l1_ratio=1.0; total time=   0.1s\n",
      "[CV 5/5] END .......................alpha=10.0, l1_ratio=1.0; total time=   0.1s\n",
      "[CV 1/5] END ......................alpha=100.0, l1_ratio=0.5; total time=   0.0s\n",
      "[CV 2/5] END ......................alpha=100.0, l1_ratio=0.5; total time=   0.0s\n",
      "[CV 3/5] END ......................alpha=100.0, l1_ratio=0.5; total time=   0.1s\n",
      "[CV 4/5] END ......................alpha=100.0, l1_ratio=0.5; total time=   0.0s\n",
      "[CV 5/5] END ......................alpha=100.0, l1_ratio=0.5; total time=   0.0s\n",
      "[CV 1/5] END ......................alpha=100.0, l1_ratio=0.6; total time=   0.1s\n",
      "[CV 2/5] END ......................alpha=100.0, l1_ratio=0.6; total time=   0.1s\n",
      "[CV 3/5] END ......................alpha=100.0, l1_ratio=0.6; total time=   0.1s\n",
      "[CV 4/5] END ......................alpha=100.0, l1_ratio=0.6; total time=   0.1s\n",
      "[CV 5/5] END ......................alpha=100.0, l1_ratio=0.6; total time=   0.1s\n",
      "[CV 1/5] END ......................alpha=100.0, l1_ratio=0.7; total time=   0.1s\n",
      "[CV 2/5] END ......................alpha=100.0, l1_ratio=0.7; total time=   0.0s\n",
      "[CV 3/5] END ......................alpha=100.0, l1_ratio=0.7; total time=   0.0s\n",
      "[CV 4/5] END ......................alpha=100.0, l1_ratio=0.7; total time=   0.0s\n",
      "[CV 5/5] END ......................alpha=100.0, l1_ratio=0.7; total time=   0.0s\n",
      "[CV 1/5] END ......................alpha=100.0, l1_ratio=0.8; total time=   0.1s\n",
      "[CV 2/5] END ......................alpha=100.0, l1_ratio=0.8; total time=   0.0s\n",
      "[CV 3/5] END ......................alpha=100.0, l1_ratio=0.8; total time=   0.0s\n",
      "[CV 4/5] END ......................alpha=100.0, l1_ratio=0.8; total time=   0.0s\n",
      "[CV 5/5] END ......................alpha=100.0, l1_ratio=0.8; total time=   0.0s\n",
      "[CV 1/5] END ......................alpha=100.0, l1_ratio=0.9; total time=   0.1s\n",
      "[CV 2/5] END ......................alpha=100.0, l1_ratio=0.9; total time=   0.0s\n",
      "[CV 3/5] END ......................alpha=100.0, l1_ratio=0.9; total time=   0.0s\n",
      "[CV 4/5] END ......................alpha=100.0, l1_ratio=0.9; total time=   0.1s\n",
      "[CV 5/5] END ......................alpha=100.0, l1_ratio=0.9; total time=   0.1s\n",
      "[CV 1/5] END ......................alpha=100.0, l1_ratio=1.0; total time=   0.1s\n",
      "[CV 2/5] END ......................alpha=100.0, l1_ratio=1.0; total time=   0.1s\n",
      "[CV 3/5] END ......................alpha=100.0, l1_ratio=1.0; total time=   0.1s\n",
      "[CV 4/5] END ......................alpha=100.0, l1_ratio=1.0; total time=   0.1s\n",
      "[CV 5/5] END ......................alpha=100.0, l1_ratio=1.0; total time=   0.1s\n",
      "[CV 1/5] END .....................alpha=1000.0, l1_ratio=0.5; total time=   0.0s\n",
      "[CV 2/5] END .....................alpha=1000.0, l1_ratio=0.5; total time=   0.1s\n",
      "[CV 3/5] END .....................alpha=1000.0, l1_ratio=0.5; total time=   0.1s\n",
      "[CV 4/5] END .....................alpha=1000.0, l1_ratio=0.5; total time=   0.1s\n",
      "[CV 5/5] END .....................alpha=1000.0, l1_ratio=0.5; total time=   0.1s\n",
      "[CV 1/5] END .....................alpha=1000.0, l1_ratio=0.6; total time=   0.1s\n",
      "[CV 2/5] END .....................alpha=1000.0, l1_ratio=0.6; total time=   0.1s\n",
      "[CV 3/5] END .....................alpha=1000.0, l1_ratio=0.6; total time=   0.0s\n",
      "[CV 4/5] END .....................alpha=1000.0, l1_ratio=0.6; total time=   0.1s\n",
      "[CV 5/5] END .....................alpha=1000.0, l1_ratio=0.6; total time=   0.0s\n",
      "[CV 1/5] END .....................alpha=1000.0, l1_ratio=0.7; total time=   0.0s\n",
      "[CV 2/5] END .....................alpha=1000.0, l1_ratio=0.7; total time=   0.0s\n",
      "[CV 3/5] END .....................alpha=1000.0, l1_ratio=0.7; total time=   0.1s\n",
      "[CV 4/5] END .....................alpha=1000.0, l1_ratio=0.7; total time=   0.1s\n",
      "[CV 5/5] END .....................alpha=1000.0, l1_ratio=0.7; total time=   0.0s\n",
      "[CV 1/5] END .....................alpha=1000.0, l1_ratio=0.8; total time=   0.1s\n",
      "[CV 2/5] END .....................alpha=1000.0, l1_ratio=0.8; total time=   0.1s\n",
      "[CV 3/5] END .....................alpha=1000.0, l1_ratio=0.8; total time=   0.0s\n",
      "[CV 4/5] END .....................alpha=1000.0, l1_ratio=0.8; total time=   0.0s\n",
      "[CV 5/5] END .....................alpha=1000.0, l1_ratio=0.8; total time=   0.0s\n",
      "[CV 1/5] END .....................alpha=1000.0, l1_ratio=0.9; total time=   0.0s\n",
      "[CV 2/5] END .....................alpha=1000.0, l1_ratio=0.9; total time=   0.0s\n",
      "[CV 3/5] END .....................alpha=1000.0, l1_ratio=0.9; total time=   0.1s\n",
      "[CV 4/5] END .....................alpha=1000.0, l1_ratio=0.9; total time=   0.0s\n",
      "[CV 5/5] END .....................alpha=1000.0, l1_ratio=0.9; total time=   0.0s\n",
      "[CV 1/5] END .....................alpha=1000.0, l1_ratio=1.0; total time=   0.1s\n",
      "[CV 2/5] END .....................alpha=1000.0, l1_ratio=1.0; total time=   0.1s\n",
      "[CV 3/5] END .....................alpha=1000.0, l1_ratio=1.0; total time=   0.1s\n",
      "[CV 4/5] END .....................alpha=1000.0, l1_ratio=1.0; total time=   0.1s\n",
      "[CV 5/5] END .....................alpha=1000.0, l1_ratio=1.0; total time=   0.1s\n"
     ]
    }
   ],
   "source": [
    "param_grid = param_grid = dict(l1_ratio=np.linspace(0.5,1, 6),\n",
    "                           alpha=np.logspace(0,3,4))\n",
    "\n",
    "economy_elnet = ElasticNet()\n",
    "economy_elnet_gscv = GridSearchCV(economy_elnet, param_grid, scoring='neg_root_mean_squared_error', \n",
    "                                  cv=5, verbose=3).fit(X_train_economy, y_train_economy)"
   ]
  },
  {
   "cell_type": "code",
   "execution_count": 686,
   "id": "e27a484c-0a5f-43e6-a9b8-98f9bb531fc1",
   "metadata": {},
   "outputs": [
    {
     "name": "stdout",
     "output_type": "stream",
     "text": [
      "-2279.353296289406 {'alpha': 1.0, 'l1_ratio': 1.0}\n",
      "[  787.26694032   138.55956458 -1754.98286698   288.11866509\n",
      "   579.18304981    86.75451919   -41.00580442   114.24283756\n",
      "    28.96113073     0.        ]\n"
     ]
    }
   ],
   "source": [
    "# Great! We succeeded in achieving a lower RMSE and granting more protagonism to the other features.\n",
    "print(economy_elnet_gscv.best_score_, economy_elnet_gscv.best_params_)\n",
    "print(economy_elnet_gscv.best_estimator_.coef_)"
   ]
  },
  {
   "cell_type": "code",
   "execution_count": 687,
   "id": "833beb08-b1f0-442a-b355-6e02501ff9d6",
   "metadata": {},
   "outputs": [
    {
     "data": {
      "text/plain": [
       "[<matplotlib.lines.Line2D at 0x7f97a343f5e0>]"
      ]
     },
     "execution_count": 687,
     "metadata": {},
     "output_type": "execute_result"
    },
    {
     "data": {
      "image/png": "[encoded data removed]",
      "text/plain": [
       "<Figure size 432x288 with 1 Axes>"
      ]
     },
     "metadata": {
      "needs_background": "light"
     },
     "output_type": "display_data"
    }
   ],
   "source": [
    "# The predictions curve also got smoother. That means there is a broader variety in the estimation values.\n",
    "economy_elnet_pred = economy_elnet_gscv.best_estimator_.predict(X_train_economy)\n",
    "plt.step(list(range(0,101,1)),[np.percentile(economy_elnet_pred,i) for i in range(0,101,1)])"
   ]
  },
  {
   "cell_type": "markdown",
   "id": "dda6eeeb-5db9-4caa-9db4-19ea1b29998d",
   "metadata": {},
   "source": [
    "<h4 style='font-size:30px;font-style:italic;text-decoration:underline'> XGBoost - Economy Class Validations</h4>"
   ]
  },
  {
   "cell_type": "code",
   "execution_count": 688,
   "id": "cf4342e7-fe41-4abb-adc9-90ba9dee6f1e",
   "metadata": {},
   "outputs": [
    {
     "name": "stdout",
     "output_type": "stream",
     "text": [
      "Fitting 5 folds for each of 6 candidates, totalling 30 fits\n",
      "[CV 1/5] END booster=gbtree, learning_rate=0.075, max_leaves=3; total time=  12.8s\n",
      "[CV 2/5] END booster=gbtree, learning_rate=0.075, max_leaves=3; total time=  10.9s\n",
      "[CV 3/5] END booster=gbtree, learning_rate=0.075, max_leaves=3; total time=  12.4s\n",
      "[CV 4/5] END booster=gbtree, learning_rate=0.075, max_leaves=3; total time=  12.4s\n",
      "[CV 5/5] END booster=gbtree, learning_rate=0.075, max_leaves=3; total time=  12.1s\n",
      "[CV 1/5] END booster=gbtree, learning_rate=0.075, max_leaves=4; total time=  11.2s\n",
      "[CV 2/5] END booster=gbtree, learning_rate=0.075, max_leaves=4; total time=  11.9s\n",
      "[CV 3/5] END booster=gbtree, learning_rate=0.075, max_leaves=4; total time=  10.9s\n",
      "[CV 4/5] END booster=gbtree, learning_rate=0.075, max_leaves=4; total time=  11.0s\n",
      "[CV 5/5] END booster=gbtree, learning_rate=0.075, max_leaves=4; total time=  11.5s\n",
      "[CV 1/5] END booster=gbtree, learning_rate=0.1, max_leaves=3; total time=  10.8s\n",
      "[CV 2/5] END booster=gbtree, learning_rate=0.1, max_leaves=3; total time=  11.9s\n",
      "[CV 3/5] END booster=gbtree, learning_rate=0.1, max_leaves=3; total time=  10.6s\n",
      "[CV 4/5] END booster=gbtree, learning_rate=0.1, max_leaves=3; total time=  10.7s\n",
      "[CV 5/5] END booster=gbtree, learning_rate=0.1, max_leaves=3; total time=  11.6s\n",
      "[CV 1/5] END booster=gbtree, learning_rate=0.1, max_leaves=4; total time=  11.8s\n",
      "[CV 2/5] END booster=gbtree, learning_rate=0.1, max_leaves=4; total time=  10.9s\n",
      "[CV 3/5] END booster=gbtree, learning_rate=0.1, max_leaves=4; total time=  10.8s\n",
      "[CV 4/5] END booster=gbtree, learning_rate=0.1, max_leaves=4; total time=  11.1s\n",
      "[CV 5/5] END booster=gbtree, learning_rate=0.1, max_leaves=4; total time=  12.0s\n",
      "[CV 1/5] END booster=gbtree, learning_rate=0.125, max_leaves=3; total time=  10.7s\n",
      "[CV 2/5] END booster=gbtree, learning_rate=0.125, max_leaves=3; total time=  10.7s\n",
      "[CV 3/5] END booster=gbtree, learning_rate=0.125, max_leaves=3; total time=  13.5s\n",
      "[CV 4/5] END booster=gbtree, learning_rate=0.125, max_leaves=3; total time=  13.2s\n",
      "[CV 5/5] END booster=gbtree, learning_rate=0.125, max_leaves=3; total time=  11.4s\n",
      "[CV 1/5] END booster=gbtree, learning_rate=0.125, max_leaves=4; total time=  10.4s\n",
      "[CV 2/5] END booster=gbtree, learning_rate=0.125, max_leaves=4; total time=  10.8s\n",
      "[CV 3/5] END booster=gbtree, learning_rate=0.125, max_leaves=4; total time=  10.3s\n",
      "[CV 4/5] END booster=gbtree, learning_rate=0.125, max_leaves=4; total time=  11.2s\n",
      "[CV 5/5] END booster=gbtree, learning_rate=0.125, max_leaves=4; total time=  11.2s\n"
     ]
    }
   ],
   "source": [
    "param_grid = [dict(max_leaves=[3,4], learning_rate=[.075, .1, .125], booster=['gbtree'])]\n",
    "economy_xgb = XGBRegressor(random_state=42)\n",
    "\n",
    "economy_xgb_gscv = GridSearchCV(economy_xgb, param_grid, scoring='neg_root_mean_squared_error', \n",
    "                                cv=5, verbose=3).fit(X_train_economy, y_train_economy)"
   ]
  },
  {
   "cell_type": "code",
   "execution_count": 753,
   "id": "5a787743-4a5c-4f77-aea0-b8186b79ff98",
   "metadata": {},
   "outputs": [
    {
     "name": "stdout",
     "output_type": "stream",
     "text": [
      "-1326.727136295916 {'booster': 'gbtree', 'learning_rate': 0.125, 'max_leaves': 3}\n"
     ]
    },
    {
     "data": {
      "text/plain": [
       "[<matplotlib.lines.Line2D at 0x7f97459aed30>]"
      ]
     },
     "execution_count": 753,
     "metadata": {},
     "output_type": "execute_result"
    },
    {
     "data": {
      "image/png": "[encoded data removed]",
      "text/plain": [
       "<Figure size 432x288 with 1 Axes>"
      ]
     },
     "metadata": {
      "needs_background": "light"
     },
     "output_type": "display_data"
    }
   ],
   "source": [
    "# XGBoost was able to go beyond the Elastic Net's performance!\n",
    "print(economy_xgb_gscv.best_score_, economy_xgb_gscv.best_params_)\n",
    "\n",
    "# And again, we've attained a smooth CDF curve.\n",
    "economy_xgb_pred = economy_xgb_gscv.best_estimator_.predict(X_train_economy)\n",
    "plt.step(list(range(0,101,1)),[np.percentile(economy_xgb_pred,i) for i in range(0,101,1)])"
   ]
  },
  {
   "cell_type": "markdown",
   "id": "86b7aeef-7371-4a68-a823-8b4babd4132e",
   "metadata": {},
   "source": [
    "<h4 style='font-size:30px;font-style:italic;text-decoration:underline'> MLP Regressor - Economy Class Validations</h4>"
   ]
  },
  {
   "cell_type": "code",
   "execution_count": 740,
   "id": "b103c318-acc5-42ad-92c0-b70cb1583a86",
   "metadata": {},
   "outputs": [
    {
     "name": "stdout",
     "output_type": "stream",
     "text": [
      "Fitting 5 folds for each of 4 candidates, totalling 20 fits\n"
     ]
    },
    {
     "name": "stderr",
     "output_type": "stream",
     "text": [
      "/Users/felipeveiga/opt/anaconda3/lib/python3.8/site-packages/sklearn/neural_network/_multilayer_perceptron.py:500: ConvergenceWarning: lbfgs failed to converge (status=1):\n",
      "STOP: TOTAL NO. of ITERATIONS REACHED LIMIT.\n",
      "\n",
      "Increase the number of iterations (max_iter) or scale the data as shown in:\n",
      "    https://scikit-learn.org/stable/modules/preprocessing.html\n",
      "  self.n_iter_ = _check_optimize_result(\"lbfgs\", opt_res, self.max_iter)\n"
     ]
    },
    {
     "name": "stdout",
     "output_type": "stream",
     "text": [
      "[CV 1/5] END ........alpha=0.01, hidden_layer_sizes=(75, 25); total time= 1.3min\n"
     ]
    },
    {
     "name": "stderr",
     "output_type": "stream",
     "text": [
      "/Users/felipeveiga/opt/anaconda3/lib/python3.8/site-packages/sklearn/neural_network/_multilayer_perceptron.py:500: ConvergenceWarning: lbfgs failed to converge (status=1):\n",
      "STOP: TOTAL NO. of ITERATIONS REACHED LIMIT.\n",
      "\n",
      "Increase the number of iterations (max_iter) or scale the data as shown in:\n",
      "    https://scikit-learn.org/stable/modules/preprocessing.html\n",
      "  self.n_iter_ = _check_optimize_result(\"lbfgs\", opt_res, self.max_iter)\n"
     ]
    },
    {
     "name": "stdout",
     "output_type": "stream",
     "text": [
      "[CV 2/5] END ........alpha=0.01, hidden_layer_sizes=(75, 25); total time= 1.3min\n"
     ]
    },
    {
     "name": "stderr",
     "output_type": "stream",
     "text": [
      "/Users/felipeveiga/opt/anaconda3/lib/python3.8/site-packages/sklearn/neural_network/_multilayer_perceptron.py:500: ConvergenceWarning: lbfgs failed to converge (status=1):\n",
      "STOP: TOTAL NO. of ITERATIONS REACHED LIMIT.\n",
      "\n",
      "Increase the number of iterations (max_iter) or scale the data as shown in:\n",
      "    https://scikit-learn.org/stable/modules/preprocessing.html\n",
      "  self.n_iter_ = _check_optimize_result(\"lbfgs\", opt_res, self.max_iter)\n"
     ]
    },
    {
     "name": "stdout",
     "output_type": "stream",
     "text": [
      "[CV 3/5] END ........alpha=0.01, hidden_layer_sizes=(75, 25); total time= 1.3min\n"
     ]
    },
    {
     "name": "stderr",
     "output_type": "stream",
     "text": [
      "/Users/felipeveiga/opt/anaconda3/lib/python3.8/site-packages/sklearn/neural_network/_multilayer_perceptron.py:500: ConvergenceWarning: lbfgs failed to converge (status=1):\n",
      "STOP: TOTAL NO. of ITERATIONS REACHED LIMIT.\n",
      "\n",
      "Increase the number of iterations (max_iter) or scale the data as shown in:\n",
      "    https://scikit-learn.org/stable/modules/preprocessing.html\n",
      "  self.n_iter_ = _check_optimize_result(\"lbfgs\", opt_res, self.max_iter)\n"
     ]
    },
    {
     "name": "stdout",
     "output_type": "stream",
     "text": [
      "[CV 4/5] END ........alpha=0.01, hidden_layer_sizes=(75, 25); total time= 1.3min\n"
     ]
    },
    {
     "name": "stderr",
     "output_type": "stream",
     "text": [
      "/Users/felipeveiga/opt/anaconda3/lib/python3.8/site-packages/sklearn/neural_network/_multilayer_perceptron.py:500: ConvergenceWarning: lbfgs failed to converge (status=1):\n",
      "STOP: TOTAL NO. of ITERATIONS REACHED LIMIT.\n",
      "\n",
      "Increase the number of iterations (max_iter) or scale the data as shown in:\n",
      "    https://scikit-learn.org/stable/modules/preprocessing.html\n",
      "  self.n_iter_ = _check_optimize_result(\"lbfgs\", opt_res, self.max_iter)\n"
     ]
    },
    {
     "name": "stdout",
     "output_type": "stream",
     "text": [
      "[CV 5/5] END ........alpha=0.01, hidden_layer_sizes=(75, 25); total time= 1.3min\n"
     ]
    },
    {
     "name": "stderr",
     "output_type": "stream",
     "text": [
      "/Users/felipeveiga/opt/anaconda3/lib/python3.8/site-packages/sklearn/neural_network/_multilayer_perceptron.py:500: ConvergenceWarning: lbfgs failed to converge (status=1):\n",
      "STOP: TOTAL NO. of ITERATIONS REACHED LIMIT.\n",
      "\n",
      "Increase the number of iterations (max_iter) or scale the data as shown in:\n",
      "    https://scikit-learn.org/stable/modules/preprocessing.html\n",
      "  self.n_iter_ = _check_optimize_result(\"lbfgs\", opt_res, self.max_iter)\n"
     ]
    },
    {
     "name": "stdout",
     "output_type": "stream",
     "text": [
      "[CV 1/5] END .......alpha=0.01, hidden_layer_sizes=(100, 50); total time= 7.7min\n"
     ]
    },
    {
     "name": "stderr",
     "output_type": "stream",
     "text": [
      "/Users/felipeveiga/opt/anaconda3/lib/python3.8/site-packages/sklearn/neural_network/_multilayer_perceptron.py:500: ConvergenceWarning: lbfgs failed to converge (status=1):\n",
      "STOP: TOTAL NO. of ITERATIONS REACHED LIMIT.\n",
      "\n",
      "Increase the number of iterations (max_iter) or scale the data as shown in:\n",
      "    https://scikit-learn.org/stable/modules/preprocessing.html\n",
      "  self.n_iter_ = _check_optimize_result(\"lbfgs\", opt_res, self.max_iter)\n"
     ]
    },
    {
     "name": "stdout",
     "output_type": "stream",
     "text": [
      "[CV 2/5] END .......alpha=0.01, hidden_layer_sizes=(100, 50); total time= 2.3min\n"
     ]
    },
    {
     "name": "stderr",
     "output_type": "stream",
     "text": [
      "/Users/felipeveiga/opt/anaconda3/lib/python3.8/site-packages/sklearn/neural_network/_multilayer_perceptron.py:500: ConvergenceWarning: lbfgs failed to converge (status=1):\n",
      "STOP: TOTAL NO. of ITERATIONS REACHED LIMIT.\n",
      "\n",
      "Increase the number of iterations (max_iter) or scale the data as shown in:\n",
      "    https://scikit-learn.org/stable/modules/preprocessing.html\n",
      "  self.n_iter_ = _check_optimize_result(\"lbfgs\", opt_res, self.max_iter)\n"
     ]
    },
    {
     "name": "stdout",
     "output_type": "stream",
     "text": [
      "[CV 3/5] END .......alpha=0.01, hidden_layer_sizes=(100, 50); total time= 2.3min\n"
     ]
    },
    {
     "name": "stderr",
     "output_type": "stream",
     "text": [
      "/Users/felipeveiga/opt/anaconda3/lib/python3.8/site-packages/sklearn/neural_network/_multilayer_perceptron.py:500: ConvergenceWarning: lbfgs failed to converge (status=1):\n",
      "STOP: TOTAL NO. of ITERATIONS REACHED LIMIT.\n",
      "\n",
      "Increase the number of iterations (max_iter) or scale the data as shown in:\n",
      "    https://scikit-learn.org/stable/modules/preprocessing.html\n",
      "  self.n_iter_ = _check_optimize_result(\"lbfgs\", opt_res, self.max_iter)\n"
     ]
    },
    {
     "name": "stdout",
     "output_type": "stream",
     "text": [
      "[CV 4/5] END .......alpha=0.01, hidden_layer_sizes=(100, 50); total time=36.9min\n"
     ]
    },
    {
     "name": "stderr",
     "output_type": "stream",
     "text": [
      "/Users/felipeveiga/opt/anaconda3/lib/python3.8/site-packages/sklearn/neural_network/_multilayer_perceptron.py:500: ConvergenceWarning: lbfgs failed to converge (status=1):\n",
      "STOP: TOTAL NO. of ITERATIONS REACHED LIMIT.\n",
      "\n",
      "Increase the number of iterations (max_iter) or scale the data as shown in:\n",
      "    https://scikit-learn.org/stable/modules/preprocessing.html\n",
      "  self.n_iter_ = _check_optimize_result(\"lbfgs\", opt_res, self.max_iter)\n"
     ]
    },
    {
     "name": "stdout",
     "output_type": "stream",
     "text": [
      "[CV 5/5] END .......alpha=0.01, hidden_layer_sizes=(100, 50); total time= 5.6min\n"
     ]
    },
    {
     "name": "stderr",
     "output_type": "stream",
     "text": [
      "/Users/felipeveiga/opt/anaconda3/lib/python3.8/site-packages/sklearn/neural_network/_multilayer_perceptron.py:500: ConvergenceWarning: lbfgs failed to converge (status=1):\n",
      "STOP: TOTAL NO. of ITERATIONS REACHED LIMIT.\n",
      "\n",
      "Increase the number of iterations (max_iter) or scale the data as shown in:\n",
      "    https://scikit-learn.org/stable/modules/preprocessing.html\n",
      "  self.n_iter_ = _check_optimize_result(\"lbfgs\", opt_res, self.max_iter)\n"
     ]
    },
    {
     "name": "stdout",
     "output_type": "stream",
     "text": [
      "[CV 1/5] END ........alpha=0.05, hidden_layer_sizes=(75, 25); total time= 4.2min\n"
     ]
    },
    {
     "name": "stderr",
     "output_type": "stream",
     "text": [
      "/Users/felipeveiga/opt/anaconda3/lib/python3.8/site-packages/sklearn/neural_network/_multilayer_perceptron.py:500: ConvergenceWarning: lbfgs failed to converge (status=1):\n",
      "STOP: TOTAL NO. of ITERATIONS REACHED LIMIT.\n",
      "\n",
      "Increase the number of iterations (max_iter) or scale the data as shown in:\n",
      "    https://scikit-learn.org/stable/modules/preprocessing.html\n",
      "  self.n_iter_ = _check_optimize_result(\"lbfgs\", opt_res, self.max_iter)\n"
     ]
    },
    {
     "name": "stdout",
     "output_type": "stream",
     "text": [
      "[CV 2/5] END ........alpha=0.05, hidden_layer_sizes=(75, 25); total time=26.1min\n"
     ]
    },
    {
     "name": "stderr",
     "output_type": "stream",
     "text": [
      "/Users/felipeveiga/opt/anaconda3/lib/python3.8/site-packages/sklearn/neural_network/_multilayer_perceptron.py:500: ConvergenceWarning: lbfgs failed to converge (status=1):\n",
      "STOP: TOTAL NO. of ITERATIONS REACHED LIMIT.\n",
      "\n",
      "Increase the number of iterations (max_iter) or scale the data as shown in:\n",
      "    https://scikit-learn.org/stable/modules/preprocessing.html\n",
      "  self.n_iter_ = _check_optimize_result(\"lbfgs\", opt_res, self.max_iter)\n"
     ]
    },
    {
     "name": "stdout",
     "output_type": "stream",
     "text": [
      "[CV 3/5] END ........alpha=0.05, hidden_layer_sizes=(75, 25); total time= 1.3min\n"
     ]
    },
    {
     "name": "stderr",
     "output_type": "stream",
     "text": [
      "/Users/felipeveiga/opt/anaconda3/lib/python3.8/site-packages/sklearn/neural_network/_multilayer_perceptron.py:500: ConvergenceWarning: lbfgs failed to converge (status=1):\n",
      "STOP: TOTAL NO. of ITERATIONS REACHED LIMIT.\n",
      "\n",
      "Increase the number of iterations (max_iter) or scale the data as shown in:\n",
      "    https://scikit-learn.org/stable/modules/preprocessing.html\n",
      "  self.n_iter_ = _check_optimize_result(\"lbfgs\", opt_res, self.max_iter)\n"
     ]
    },
    {
     "name": "stdout",
     "output_type": "stream",
     "text": [
      "[CV 4/5] END ........alpha=0.05, hidden_layer_sizes=(75, 25); total time= 1.5min\n"
     ]
    },
    {
     "name": "stderr",
     "output_type": "stream",
     "text": [
      "/Users/felipeveiga/opt/anaconda3/lib/python3.8/site-packages/sklearn/neural_network/_multilayer_perceptron.py:500: ConvergenceWarning: lbfgs failed to converge (status=1):\n",
      "STOP: TOTAL NO. of ITERATIONS REACHED LIMIT.\n",
      "\n",
      "Increase the number of iterations (max_iter) or scale the data as shown in:\n",
      "    https://scikit-learn.org/stable/modules/preprocessing.html\n",
      "  self.n_iter_ = _check_optimize_result(\"lbfgs\", opt_res, self.max_iter)\n"
     ]
    },
    {
     "name": "stdout",
     "output_type": "stream",
     "text": [
      "[CV 5/5] END ........alpha=0.05, hidden_layer_sizes=(75, 25); total time= 1.3min\n"
     ]
    },
    {
     "name": "stderr",
     "output_type": "stream",
     "text": [
      "/Users/felipeveiga/opt/anaconda3/lib/python3.8/site-packages/sklearn/neural_network/_multilayer_perceptron.py:500: ConvergenceWarning: lbfgs failed to converge (status=1):\n",
      "STOP: TOTAL NO. of ITERATIONS REACHED LIMIT.\n",
      "\n",
      "Increase the number of iterations (max_iter) or scale the data as shown in:\n",
      "    https://scikit-learn.org/stable/modules/preprocessing.html\n",
      "  self.n_iter_ = _check_optimize_result(\"lbfgs\", opt_res, self.max_iter)\n"
     ]
    },
    {
     "name": "stdout",
     "output_type": "stream",
     "text": [
      "[CV 1/5] END .......alpha=0.05, hidden_layer_sizes=(100, 50); total time= 2.2min\n"
     ]
    },
    {
     "name": "stderr",
     "output_type": "stream",
     "text": [
      "/Users/felipeveiga/opt/anaconda3/lib/python3.8/site-packages/sklearn/neural_network/_multilayer_perceptron.py:500: ConvergenceWarning: lbfgs failed to converge (status=1):\n",
      "STOP: TOTAL NO. of ITERATIONS REACHED LIMIT.\n",
      "\n",
      "Increase the number of iterations (max_iter) or scale the data as shown in:\n",
      "    https://scikit-learn.org/stable/modules/preprocessing.html\n",
      "  self.n_iter_ = _check_optimize_result(\"lbfgs\", opt_res, self.max_iter)\n"
     ]
    },
    {
     "name": "stdout",
     "output_type": "stream",
     "text": [
      "[CV 2/5] END .......alpha=0.05, hidden_layer_sizes=(100, 50); total time= 2.2min\n"
     ]
    },
    {
     "name": "stderr",
     "output_type": "stream",
     "text": [
      "/Users/felipeveiga/opt/anaconda3/lib/python3.8/site-packages/sklearn/neural_network/_multilayer_perceptron.py:500: ConvergenceWarning: lbfgs failed to converge (status=1):\n",
      "STOP: TOTAL NO. of ITERATIONS REACHED LIMIT.\n",
      "\n",
      "Increase the number of iterations (max_iter) or scale the data as shown in:\n",
      "    https://scikit-learn.org/stable/modules/preprocessing.html\n",
      "  self.n_iter_ = _check_optimize_result(\"lbfgs\", opt_res, self.max_iter)\n"
     ]
    },
    {
     "name": "stdout",
     "output_type": "stream",
     "text": [
      "[CV 3/5] END .......alpha=0.05, hidden_layer_sizes=(100, 50); total time= 2.1min\n"
     ]
    },
    {
     "name": "stderr",
     "output_type": "stream",
     "text": [
      "/Users/felipeveiga/opt/anaconda3/lib/python3.8/site-packages/sklearn/neural_network/_multilayer_perceptron.py:500: ConvergenceWarning: lbfgs failed to converge (status=1):\n",
      "STOP: TOTAL NO. of ITERATIONS REACHED LIMIT.\n",
      "\n",
      "Increase the number of iterations (max_iter) or scale the data as shown in:\n",
      "    https://scikit-learn.org/stable/modules/preprocessing.html\n",
      "  self.n_iter_ = _check_optimize_result(\"lbfgs\", opt_res, self.max_iter)\n"
     ]
    },
    {
     "name": "stdout",
     "output_type": "stream",
     "text": [
      "[CV 4/5] END .......alpha=0.05, hidden_layer_sizes=(100, 50); total time= 2.3min\n"
     ]
    },
    {
     "name": "stderr",
     "output_type": "stream",
     "text": [
      "/Users/felipeveiga/opt/anaconda3/lib/python3.8/site-packages/sklearn/neural_network/_multilayer_perceptron.py:500: ConvergenceWarning: lbfgs failed to converge (status=1):\n",
      "STOP: TOTAL NO. of ITERATIONS REACHED LIMIT.\n",
      "\n",
      "Increase the number of iterations (max_iter) or scale the data as shown in:\n",
      "    https://scikit-learn.org/stable/modules/preprocessing.html\n",
      "  self.n_iter_ = _check_optimize_result(\"lbfgs\", opt_res, self.max_iter)\n"
     ]
    },
    {
     "name": "stdout",
     "output_type": "stream",
     "text": [
      "[CV 5/5] END .......alpha=0.05, hidden_layer_sizes=(100, 50); total time=39.9min\n"
     ]
    },
    {
     "name": "stderr",
     "output_type": "stream",
     "text": [
      "/Users/felipeveiga/opt/anaconda3/lib/python3.8/site-packages/sklearn/neural_network/_multilayer_perceptron.py:500: ConvergenceWarning: lbfgs failed to converge (status=1):\n",
      "STOP: TOTAL NO. of ITERATIONS REACHED LIMIT.\n",
      "\n",
      "Increase the number of iterations (max_iter) or scale the data as shown in:\n",
      "    https://scikit-learn.org/stable/modules/preprocessing.html\n",
      "  self.n_iter_ = _check_optimize_result(\"lbfgs\", opt_res, self.max_iter)\n"
     ]
    }
   ],
   "source": [
    "from sklearn.neural_network import MLPRegressor\n",
    "param_grid = dict(hidden_layer_sizes=[(75,25), (100,50)],\n",
    "                 alpha=[.01, .05])\n",
    "economy_mlp = MLPRegressor(solver='lbfgs',random_state=42)\n",
    "\n",
    "economy_mlp_gscv =GridSearchCV(economy_mlp, param_grid, scoring='neg_root_mean_squared_error', \n",
    "                                  cv=5, verbose=3).fit(X_train_economy, y_train_economy)"
   ]
  },
  {
   "cell_type": "code",
   "execution_count": 742,
   "id": "c8392e9e-f73f-48af-889f-0d8085448096",
   "metadata": {},
   "outputs": [
    {
     "data": {
      "text/plain": [
       "(-1616.2924563509544, {'alpha': 0.01, 'hidden_layer_sizes': (100, 50)})"
      ]
     },
     "execution_count": 742,
     "metadata": {},
     "output_type": "execute_result"
    }
   ],
   "source": [
    "# The Neural Network has also obtained a great score!\n",
    "economy_mlp_gscv.best_score_, economy_mlp_gscv.best_params_"
   ]
  },
  {
   "cell_type": "markdown",
   "id": "d55c6abd-a9dc-4d9e-b8b0-243ade9e96c5",
   "metadata": {},
   "source": [
    "<h3 style='font-size:30px;font-style:italic'> Validations for the Business class</h3>\n",
    "<div> \n",
    "    <ul style='font-size:20px'> \n",
    "        <li>\n",
    "           We are going to apply the same steps now for the Business class instances.\n",
    "        </li>\n",
    "    </ul>\n",
    "</div>"
   ]
  },
  {
   "cell_type": "code",
   "execution_count": 745,
   "id": "b52add7c-ad85-4bd8-87bf-371b03bfcadc",
   "metadata": {
    "tags": []
   },
   "outputs": [
    {
     "data": {
      "text/plain": [
       "array(['Business'], dtype=object)"
      ]
     },
     "execution_count": 745,
     "metadata": {},
     "output_type": "execute_result"
    }
   ],
   "source": [
    "business_train = train_no_outliers[train_no_outliers['class'] == 'Business']\n",
    "\n",
    "X_train_business = business_train.iloc[:, :-1]\n",
    "y_train_business = business_train['price']\n",
    "business_train['class'].unique()"
   ]
  },
  {
   "cell_type": "code",
   "execution_count": 746,
   "id": "d7f7b001-80c4-43b1-8c38-434607fb7802",
   "metadata": {},
   "outputs": [],
   "source": [
    "# Applying the necessary transformations on the dataset.\n",
    "business_data_transformation = Pipeline([\n",
    "                    ('meaning_from_text', MeaningFromText(train)),\n",
    "                    ('imputer', KNNImputer()),\n",
    "                    ('std_scaler', StandardScaler())])\n",
    "X_train_business= business_data_transformation.fit_transform(X_train_business)"
   ]
  },
  {
   "cell_type": "markdown",
   "id": "95749d6a-4afe-49b9-8d31-175b8056d25f",
   "metadata": {},
   "source": [
    "<h4 style='font-size:30px;font-style:italic;text-decoration:underline'> Elastic Net - Business Class Validations</h4>"
   ]
  },
  {
   "cell_type": "code",
   "execution_count": 747,
   "id": "a9caa3a8-1e57-418e-af0d-d7597e1274f0",
   "metadata": {},
   "outputs": [
    {
     "name": "stdout",
     "output_type": "stream",
     "text": [
      "Fitting 5 folds for each of 24 candidates, totalling 120 fits\n",
      "[CV 1/5] END ........................alpha=1.0, l1_ratio=0.5; total time=   0.2s\n",
      "[CV 2/5] END ........................alpha=1.0, l1_ratio=0.5; total time=   0.0s\n",
      "[CV 3/5] END ........................alpha=1.0, l1_ratio=0.5; total time=   0.0s\n",
      "[CV 4/5] END ........................alpha=1.0, l1_ratio=0.5; total time=   0.0s\n",
      "[CV 5/5] END ........................alpha=1.0, l1_ratio=0.5; total time=   0.0s\n",
      "[CV 1/5] END ........................alpha=1.0, l1_ratio=0.6; total time=   0.0s\n",
      "[CV 2/5] END ........................alpha=1.0, l1_ratio=0.6; total time=   0.0s\n",
      "[CV 3/5] END ........................alpha=1.0, l1_ratio=0.6; total time=   0.0s\n",
      "[CV 4/5] END ........................alpha=1.0, l1_ratio=0.6; total time=   0.0s\n",
      "[CV 5/5] END ........................alpha=1.0, l1_ratio=0.6; total time=   0.0s\n",
      "[CV 1/5] END ........................alpha=1.0, l1_ratio=0.7; total time=   0.0s\n",
      "[CV 2/5] END ........................alpha=1.0, l1_ratio=0.7; total time=   0.0s\n",
      "[CV 3/5] END ........................alpha=1.0, l1_ratio=0.7; total time=   0.0s\n",
      "[CV 4/5] END ........................alpha=1.0, l1_ratio=0.7; total time=   0.0s\n",
      "[CV 5/5] END ........................alpha=1.0, l1_ratio=0.7; total time=   0.0s\n",
      "[CV 1/5] END ........................alpha=1.0, l1_ratio=0.8; total time=   0.0s\n",
      "[CV 2/5] END ........................alpha=1.0, l1_ratio=0.8; total time=   0.0s\n",
      "[CV 3/5] END ........................alpha=1.0, l1_ratio=0.8; total time=   0.0s\n",
      "[CV 4/5] END ........................alpha=1.0, l1_ratio=0.8; total time=   0.0s\n",
      "[CV 5/5] END ........................alpha=1.0, l1_ratio=0.8; total time=   0.0s\n",
      "[CV 1/5] END ........................alpha=1.0, l1_ratio=0.9; total time=   0.0s\n",
      "[CV 2/5] END ........................alpha=1.0, l1_ratio=0.9; total time=   0.0s\n",
      "[CV 3/5] END ........................alpha=1.0, l1_ratio=0.9; total time=   0.0s\n",
      "[CV 4/5] END ........................alpha=1.0, l1_ratio=0.9; total time=   0.0s\n",
      "[CV 5/5] END ........................alpha=1.0, l1_ratio=0.9; total time=   0.0s\n",
      "[CV 1/5] END ........................alpha=1.0, l1_ratio=1.0; total time=   0.0s\n",
      "[CV 2/5] END ........................alpha=1.0, l1_ratio=1.0; total time=   0.0s\n",
      "[CV 3/5] END ........................alpha=1.0, l1_ratio=1.0; total time=   0.0s\n",
      "[CV 4/5] END ........................alpha=1.0, l1_ratio=1.0; total time=   0.0s\n",
      "[CV 5/5] END ........................alpha=1.0, l1_ratio=1.0; total time=   0.0s\n",
      "[CV 1/5] END .......................alpha=10.0, l1_ratio=0.5; total time=   0.0s\n",
      "[CV 2/5] END .......................alpha=10.0, l1_ratio=0.5; total time=   0.0s\n",
      "[CV 3/5] END .......................alpha=10.0, l1_ratio=0.5; total time=   0.0s\n",
      "[CV 4/5] END .......................alpha=10.0, l1_ratio=0.5; total time=   0.0s\n",
      "[CV 5/5] END .......................alpha=10.0, l1_ratio=0.5; total time=   0.0s\n",
      "[CV 1/5] END .......................alpha=10.0, l1_ratio=0.6; total time=   0.0s\n",
      "[CV 2/5] END .......................alpha=10.0, l1_ratio=0.6; total time=   0.0s\n",
      "[CV 3/5] END .......................alpha=10.0, l1_ratio=0.6; total time=   0.0s\n",
      "[CV 4/5] END .......................alpha=10.0, l1_ratio=0.6; total time=   0.0s\n",
      "[CV 5/5] END .......................alpha=10.0, l1_ratio=0.6; total time=   0.0s\n",
      "[CV 1/5] END .......................alpha=10.0, l1_ratio=0.7; total time=   0.0s\n",
      "[CV 2/5] END .......................alpha=10.0, l1_ratio=0.7; total time=   0.0s\n",
      "[CV 3/5] END .......................alpha=10.0, l1_ratio=0.7; total time=   0.0s\n",
      "[CV 4/5] END .......................alpha=10.0, l1_ratio=0.7; total time=   0.0s\n",
      "[CV 5/5] END .......................alpha=10.0, l1_ratio=0.7; total time=   0.0s\n",
      "[CV 1/5] END .......................alpha=10.0, l1_ratio=0.8; total time=   0.0s\n",
      "[CV 2/5] END .......................alpha=10.0, l1_ratio=0.8; total time=   0.0s\n",
      "[CV 3/5] END .......................alpha=10.0, l1_ratio=0.8; total time=   0.0s\n",
      "[CV 4/5] END .......................alpha=10.0, l1_ratio=0.8; total time=   0.0s\n",
      "[CV 5/5] END .......................alpha=10.0, l1_ratio=0.8; total time=   0.0s\n",
      "[CV 1/5] END .......................alpha=10.0, l1_ratio=0.9; total time=   0.0s\n",
      "[CV 2/5] END .......................alpha=10.0, l1_ratio=0.9; total time=   0.0s\n",
      "[CV 3/5] END .......................alpha=10.0, l1_ratio=0.9; total time=   0.0s\n",
      "[CV 4/5] END .......................alpha=10.0, l1_ratio=0.9; total time=   0.0s\n",
      "[CV 5/5] END .......................alpha=10.0, l1_ratio=0.9; total time=   0.0s\n",
      "[CV 1/5] END .......................alpha=10.0, l1_ratio=1.0; total time=   0.0s\n",
      "[CV 2/5] END .......................alpha=10.0, l1_ratio=1.0; total time=   0.0s\n",
      "[CV 3/5] END .......................alpha=10.0, l1_ratio=1.0; total time=   0.0s\n",
      "[CV 4/5] END .......................alpha=10.0, l1_ratio=1.0; total time=   0.1s\n",
      "[CV 5/5] END .......................alpha=10.0, l1_ratio=1.0; total time=   0.0s\n",
      "[CV 1/5] END ......................alpha=100.0, l1_ratio=0.5; total time=   0.0s\n",
      "[CV 2/5] END ......................alpha=100.0, l1_ratio=0.5; total time=   0.0s\n",
      "[CV 3/5] END ......................alpha=100.0, l1_ratio=0.5; total time=   0.0s\n",
      "[CV 4/5] END ......................alpha=100.0, l1_ratio=0.5; total time=   0.0s\n",
      "[CV 5/5] END ......................alpha=100.0, l1_ratio=0.5; total time=   0.0s\n",
      "[CV 1/5] END ......................alpha=100.0, l1_ratio=0.6; total time=   0.0s\n",
      "[CV 2/5] END ......................alpha=100.0, l1_ratio=0.6; total time=   0.0s\n",
      "[CV 3/5] END ......................alpha=100.0, l1_ratio=0.6; total time=   0.0s\n",
      "[CV 4/5] END ......................alpha=100.0, l1_ratio=0.6; total time=   0.0s\n",
      "[CV 5/5] END ......................alpha=100.0, l1_ratio=0.6; total time=   0.0s\n",
      "[CV 1/5] END ......................alpha=100.0, l1_ratio=0.7; total time=   0.0s\n",
      "[CV 2/5] END ......................alpha=100.0, l1_ratio=0.7; total time=   0.0s\n",
      "[CV 3/5] END ......................alpha=100.0, l1_ratio=0.7; total time=   0.0s\n",
      "[CV 4/5] END ......................alpha=100.0, l1_ratio=0.7; total time=   0.0s\n",
      "[CV 5/5] END ......................alpha=100.0, l1_ratio=0.7; total time=   0.0s\n",
      "[CV 1/5] END ......................alpha=100.0, l1_ratio=0.8; total time=   0.0s\n",
      "[CV 2/5] END ......................alpha=100.0, l1_ratio=0.8; total time=   0.0s\n",
      "[CV 3/5] END ......................alpha=100.0, l1_ratio=0.8; total time=   0.0s\n",
      "[CV 4/5] END ......................alpha=100.0, l1_ratio=0.8; total time=   0.0s\n",
      "[CV 5/5] END ......................alpha=100.0, l1_ratio=0.8; total time=   0.0s\n",
      "[CV 1/5] END ......................alpha=100.0, l1_ratio=0.9; total time=   0.0s\n",
      "[CV 2/5] END ......................alpha=100.0, l1_ratio=0.9; total time=   0.0s\n",
      "[CV 3/5] END ......................alpha=100.0, l1_ratio=0.9; total time=   0.0s\n",
      "[CV 4/5] END ......................alpha=100.0, l1_ratio=0.9; total time=   0.0s\n",
      "[CV 5/5] END ......................alpha=100.0, l1_ratio=0.9; total time=   0.0s\n",
      "[CV 1/5] END ......................alpha=100.0, l1_ratio=1.0; total time=   0.0s\n",
      "[CV 2/5] END ......................alpha=100.0, l1_ratio=1.0; total time=   0.0s\n",
      "[CV 3/5] END ......................alpha=100.0, l1_ratio=1.0; total time=   0.0s\n",
      "[CV 4/5] END ......................alpha=100.0, l1_ratio=1.0; total time=   0.1s\n",
      "[CV 5/5] END ......................alpha=100.0, l1_ratio=1.0; total time=   0.0s\n",
      "[CV 1/5] END .....................alpha=1000.0, l1_ratio=0.5; total time=   0.0s\n",
      "[CV 2/5] END .....................alpha=1000.0, l1_ratio=0.5; total time=   0.0s\n",
      "[CV 3/5] END .....................alpha=1000.0, l1_ratio=0.5; total time=   0.0s\n",
      "[CV 4/5] END .....................alpha=1000.0, l1_ratio=0.5; total time=   0.0s\n",
      "[CV 5/5] END .....................alpha=1000.0, l1_ratio=0.5; total time=   0.0s\n",
      "[CV 1/5] END .....................alpha=1000.0, l1_ratio=0.6; total time=   0.0s\n",
      "[CV 2/5] END .....................alpha=1000.0, l1_ratio=0.6; total time=   0.0s\n",
      "[CV 3/5] END .....................alpha=1000.0, l1_ratio=0.6; total time=   0.0s\n",
      "[CV 4/5] END .....................alpha=1000.0, l1_ratio=0.6; total time=   0.0s\n",
      "[CV 5/5] END .....................alpha=1000.0, l1_ratio=0.6; total time=   0.0s\n",
      "[CV 1/5] END .....................alpha=1000.0, l1_ratio=0.7; total time=   0.0s\n",
      "[CV 2/5] END .....................alpha=1000.0, l1_ratio=0.7; total time=   0.0s\n",
      "[CV 3/5] END .....................alpha=1000.0, l1_ratio=0.7; total time=   0.0s\n",
      "[CV 4/5] END .....................alpha=1000.0, l1_ratio=0.7; total time=   0.0s\n",
      "[CV 5/5] END .....................alpha=1000.0, l1_ratio=0.7; total time=   0.0s\n",
      "[CV 1/5] END .....................alpha=1000.0, l1_ratio=0.8; total time=   0.0s\n",
      "[CV 2/5] END .....................alpha=1000.0, l1_ratio=0.8; total time=   0.0s\n",
      "[CV 3/5] END .....................alpha=1000.0, l1_ratio=0.8; total time=   0.0s\n",
      "[CV 4/5] END .....................alpha=1000.0, l1_ratio=0.8; total time=   0.0s\n",
      "[CV 5/5] END .....................alpha=1000.0, l1_ratio=0.8; total time=   0.0s\n",
      "[CV 1/5] END .....................alpha=1000.0, l1_ratio=0.9; total time=   0.0s\n",
      "[CV 2/5] END .....................alpha=1000.0, l1_ratio=0.9; total time=   0.0s\n",
      "[CV 3/5] END .....................alpha=1000.0, l1_ratio=0.9; total time=   0.0s\n",
      "[CV 4/5] END .....................alpha=1000.0, l1_ratio=0.9; total time=   0.0s\n",
      "[CV 5/5] END .....................alpha=1000.0, l1_ratio=0.9; total time=   0.0s\n",
      "[CV 1/5] END .....................alpha=1000.0, l1_ratio=1.0; total time=   0.0s\n",
      "[CV 2/5] END .....................alpha=1000.0, l1_ratio=1.0; total time=   0.0s\n",
      "[CV 3/5] END .....................alpha=1000.0, l1_ratio=1.0; total time=   0.0s\n",
      "[CV 4/5] END .....................alpha=1000.0, l1_ratio=1.0; total time=   0.0s\n",
      "[CV 5/5] END .....................alpha=1000.0, l1_ratio=1.0; total time=   0.0s\n"
     ]
    }
   ],
   "source": [
    "param_grid = param_grid = dict(l1_ratio=np.linspace(0.5,1, 6),\n",
    "                           alpha=np.logspace(0,3,4))\n",
    "\n",
    "business_elnet = ElasticNet()\n",
    "business_elnet_gscv = GridSearchCV(business_elnet, param_grid, scoring='neg_root_mean_squared_error', \n",
    "                                  cv=5, verbose=3).fit(X_train_business, y_train_business)"
   ]
  },
  {
   "cell_type": "code",
   "execution_count": 748,
   "id": "bf964ec0-dd23-45bc-a00a-d7063511644a",
   "metadata": {},
   "outputs": [
    {
     "data": {
      "text/plain": [
       "(-6008.591584806114, {'alpha': 1.0, 'l1_ratio': 1.0})"
      ]
     },
     "execution_count": 748,
     "metadata": {},
     "output_type": "execute_result"
    }
   ],
   "source": [
    "# The outcome was worse than the one attained with the Economy class.\n",
    "business_elnet_gscv.best_score_, business_elnet_gscv.best_params_"
   ]
  },
  {
   "cell_type": "markdown",
   "id": "a9b1e019-70ae-41f7-af35-da6c8ae7941d",
   "metadata": {},
   "source": [
    "<h4 style='font-size:30px;font-style:italic;text-decoration:underline'> XGBoost - Economy Class Validations</h4>"
   ]
  },
  {
   "cell_type": "code",
   "execution_count": 749,
   "id": "a915878d-0942-4269-8f21-db559d88c2bb",
   "metadata": {},
   "outputs": [
    {
     "name": "stdout",
     "output_type": "stream",
     "text": [
      "Fitting 5 folds for each of 6 candidates, totalling 30 fits\n",
      "[CV 1/5] END booster=gbtree, learning_rate=0.075, max_leaves=3; total time=   5.7s\n",
      "[CV 2/5] END booster=gbtree, learning_rate=0.075, max_leaves=3; total time=   4.3s\n",
      "[CV 3/5] END booster=gbtree, learning_rate=0.075, max_leaves=3; total time=   4.1s\n",
      "[CV 4/5] END booster=gbtree, learning_rate=0.075, max_leaves=3; total time=   5.0s\n",
      "[CV 5/5] END booster=gbtree, learning_rate=0.075, max_leaves=3; total time=   4.1s\n",
      "[CV 1/5] END booster=gbtree, learning_rate=0.075, max_leaves=4; total time=   4.3s\n",
      "[CV 2/5] END booster=gbtree, learning_rate=0.075, max_leaves=4; total time=   4.2s\n",
      "[CV 3/5] END booster=gbtree, learning_rate=0.075, max_leaves=4; total time=   5.8s\n",
      "[CV 4/5] END booster=gbtree, learning_rate=0.075, max_leaves=4; total time=   4.1s\n",
      "[CV 5/5] END booster=gbtree, learning_rate=0.075, max_leaves=4; total time=   4.3s\n",
      "[CV 1/5] END booster=gbtree, learning_rate=0.1, max_leaves=3; total time=   4.2s\n",
      "[CV 2/5] END booster=gbtree, learning_rate=0.1, max_leaves=3; total time=   4.2s\n",
      "[CV 3/5] END booster=gbtree, learning_rate=0.1, max_leaves=3; total time=   4.7s\n",
      "[CV 4/5] END booster=gbtree, learning_rate=0.1, max_leaves=3; total time=   5.0s\n",
      "[CV 5/5] END booster=gbtree, learning_rate=0.1, max_leaves=3; total time=   4.4s\n",
      "[CV 1/5] END booster=gbtree, learning_rate=0.1, max_leaves=4; total time=   4.2s\n",
      "[CV 2/5] END booster=gbtree, learning_rate=0.1, max_leaves=4; total time=   4.1s\n",
      "[CV 3/5] END booster=gbtree, learning_rate=0.1, max_leaves=4; total time=   4.4s\n",
      "[CV 4/5] END booster=gbtree, learning_rate=0.1, max_leaves=4; total time=   4.1s\n",
      "[CV 5/5] END booster=gbtree, learning_rate=0.1, max_leaves=4; total time=   4.3s\n",
      "[CV 1/5] END booster=gbtree, learning_rate=0.125, max_leaves=3; total time=   4.8s\n",
      "[CV 2/5] END booster=gbtree, learning_rate=0.125, max_leaves=3; total time=   4.4s\n",
      "[CV 3/5] END booster=gbtree, learning_rate=0.125, max_leaves=3; total time=   4.3s\n",
      "[CV 4/5] END booster=gbtree, learning_rate=0.125, max_leaves=3; total time=   5.0s\n",
      "[CV 5/5] END booster=gbtree, learning_rate=0.125, max_leaves=3; total time=   4.4s\n",
      "[CV 1/5] END booster=gbtree, learning_rate=0.125, max_leaves=4; total time=   4.5s\n",
      "[CV 2/5] END booster=gbtree, learning_rate=0.125, max_leaves=4; total time=   4.2s\n",
      "[CV 3/5] END booster=gbtree, learning_rate=0.125, max_leaves=4; total time=   4.1s\n",
      "[CV 4/5] END booster=gbtree, learning_rate=0.125, max_leaves=4; total time=   4.0s\n",
      "[CV 5/5] END booster=gbtree, learning_rate=0.125, max_leaves=4; total time=   4.5s\n"
     ]
    }
   ],
   "source": [
    "param_grid = [dict(max_leaves=[3,4], learning_rate=[.075, .1, .125], booster=['gbtree'])]\n",
    "business_xgb = XGBRegressor(random_state=42)\n",
    "\n",
    "business_xgb_gscv = GridSearchCV(business_xgb, param_grid, scoring='neg_root_mean_squared_error', \n",
    "                                cv=5, verbose=3).fit(X_train_business, y_train_business)"
   ]
  },
  {
   "cell_type": "code",
   "execution_count": 750,
   "id": "773fc446-b084-4bef-8889-47fad44ae7fb",
   "metadata": {},
   "outputs": [
    {
     "data": {
      "text/plain": [
       "(-3401.013142365714,\n",
       " {'booster': 'gbtree', 'learning_rate': 0.125, 'max_leaves': 3})"
      ]
     },
     "execution_count": 750,
     "metadata": {},
     "output_type": "execute_result"
    }
   ],
   "source": [
    "# The higher RMSE's achieved must on account of the fewer instances pertained to the Business class.\n",
    "business_xgb_gscv.best_score_, business_xgb_gscv.best_params_"
   ]
  },
  {
   "cell_type": "markdown",
   "id": "135f61e6-092f-4e35-9f1f-42c7215dcc44",
   "metadata": {},
   "source": [
    "<h4 style='font-size:30px;font-style:italic;text-decoration:underline'> MLP Regressor - Business Class Validations</h4>"
   ]
  },
  {
   "cell_type": "code",
   "execution_count": 751,
   "id": "6429afa3-c5ca-4d95-92a6-b9802b24f91f",
   "metadata": {},
   "outputs": [
    {
     "name": "stdout",
     "output_type": "stream",
     "text": [
      "Fitting 5 folds for each of 4 candidates, totalling 20 fits\n"
     ]
    },
    {
     "name": "stderr",
     "output_type": "stream",
     "text": [
      "/Users/felipeveiga/opt/anaconda3/lib/python3.8/site-packages/sklearn/neural_network/_multilayer_perceptron.py:500: ConvergenceWarning: lbfgs failed to converge (status=1):\n",
      "STOP: TOTAL NO. of ITERATIONS REACHED LIMIT.\n",
      "\n",
      "Increase the number of iterations (max_iter) or scale the data as shown in:\n",
      "    https://scikit-learn.org/stable/modules/preprocessing.html\n",
      "  self.n_iter_ = _check_optimize_result(\"lbfgs\", opt_res, self.max_iter)\n"
     ]
    },
    {
     "name": "stdout",
     "output_type": "stream",
     "text": [
      "[CV 1/5] END ........alpha=0.01, hidden_layer_sizes=(75, 25); total time=  35.2s\n"
     ]
    },
    {
     "name": "stderr",
     "output_type": "stream",
     "text": [
      "/Users/felipeveiga/opt/anaconda3/lib/python3.8/site-packages/sklearn/neural_network/_multilayer_perceptron.py:500: ConvergenceWarning: lbfgs failed to converge (status=1):\n",
      "STOP: TOTAL NO. of ITERATIONS REACHED LIMIT.\n",
      "\n",
      "Increase the number of iterations (max_iter) or scale the data as shown in:\n",
      "    https://scikit-learn.org/stable/modules/preprocessing.html\n",
      "  self.n_iter_ = _check_optimize_result(\"lbfgs\", opt_res, self.max_iter)\n"
     ]
    },
    {
     "name": "stdout",
     "output_type": "stream",
     "text": [
      "[CV 2/5] END ........alpha=0.01, hidden_layer_sizes=(75, 25); total time=  32.3s\n"
     ]
    },
    {
     "name": "stderr",
     "output_type": "stream",
     "text": [
      "/Users/felipeveiga/opt/anaconda3/lib/python3.8/site-packages/sklearn/neural_network/_multilayer_perceptron.py:500: ConvergenceWarning: lbfgs failed to converge (status=1):\n",
      "STOP: TOTAL NO. of ITERATIONS REACHED LIMIT.\n",
      "\n",
      "Increase the number of iterations (max_iter) or scale the data as shown in:\n",
      "    https://scikit-learn.org/stable/modules/preprocessing.html\n",
      "  self.n_iter_ = _check_optimize_result(\"lbfgs\", opt_res, self.max_iter)\n"
     ]
    },
    {
     "name": "stdout",
     "output_type": "stream",
     "text": [
      "[CV 3/5] END ........alpha=0.01, hidden_layer_sizes=(75, 25); total time=  31.0s\n"
     ]
    },
    {
     "name": "stderr",
     "output_type": "stream",
     "text": [
      "/Users/felipeveiga/opt/anaconda3/lib/python3.8/site-packages/sklearn/neural_network/_multilayer_perceptron.py:500: ConvergenceWarning: lbfgs failed to converge (status=1):\n",
      "STOP: TOTAL NO. of ITERATIONS REACHED LIMIT.\n",
      "\n",
      "Increase the number of iterations (max_iter) or scale the data as shown in:\n",
      "    https://scikit-learn.org/stable/modules/preprocessing.html\n",
      "  self.n_iter_ = _check_optimize_result(\"lbfgs\", opt_res, self.max_iter)\n"
     ]
    },
    {
     "name": "stdout",
     "output_type": "stream",
     "text": [
      "[CV 4/5] END ........alpha=0.01, hidden_layer_sizes=(75, 25); total time=  31.0s\n"
     ]
    },
    {
     "name": "stderr",
     "output_type": "stream",
     "text": [
      "/Users/felipeveiga/opt/anaconda3/lib/python3.8/site-packages/sklearn/neural_network/_multilayer_perceptron.py:500: ConvergenceWarning: lbfgs failed to converge (status=1):\n",
      "STOP: TOTAL NO. of ITERATIONS REACHED LIMIT.\n",
      "\n",
      "Increase the number of iterations (max_iter) or scale the data as shown in:\n",
      "    https://scikit-learn.org/stable/modules/preprocessing.html\n",
      "  self.n_iter_ = _check_optimize_result(\"lbfgs\", opt_res, self.max_iter)\n"
     ]
    },
    {
     "name": "stdout",
     "output_type": "stream",
     "text": [
      "[CV 5/5] END ........alpha=0.01, hidden_layer_sizes=(75, 25); total time=  29.1s\n"
     ]
    },
    {
     "name": "stderr",
     "output_type": "stream",
     "text": [
      "/Users/felipeveiga/opt/anaconda3/lib/python3.8/site-packages/sklearn/neural_network/_multilayer_perceptron.py:500: ConvergenceWarning: lbfgs failed to converge (status=1):\n",
      "STOP: TOTAL NO. of ITERATIONS REACHED LIMIT.\n",
      "\n",
      "Increase the number of iterations (max_iter) or scale the data as shown in:\n",
      "    https://scikit-learn.org/stable/modules/preprocessing.html\n",
      "  self.n_iter_ = _check_optimize_result(\"lbfgs\", opt_res, self.max_iter)\n"
     ]
    },
    {
     "name": "stdout",
     "output_type": "stream",
     "text": [
      "[CV 1/5] END .......alpha=0.01, hidden_layer_sizes=(100, 50); total time=  51.7s\n"
     ]
    },
    {
     "name": "stderr",
     "output_type": "stream",
     "text": [
      "/Users/felipeveiga/opt/anaconda3/lib/python3.8/site-packages/sklearn/neural_network/_multilayer_perceptron.py:500: ConvergenceWarning: lbfgs failed to converge (status=1):\n",
      "STOP: TOTAL NO. of ITERATIONS REACHED LIMIT.\n",
      "\n",
      "Increase the number of iterations (max_iter) or scale the data as shown in:\n",
      "    https://scikit-learn.org/stable/modules/preprocessing.html\n",
      "  self.n_iter_ = _check_optimize_result(\"lbfgs\", opt_res, self.max_iter)\n"
     ]
    },
    {
     "name": "stdout",
     "output_type": "stream",
     "text": [
      "[CV 2/5] END .......alpha=0.01, hidden_layer_sizes=(100, 50); total time=  53.9s\n"
     ]
    },
    {
     "name": "stderr",
     "output_type": "stream",
     "text": [
      "/Users/felipeveiga/opt/anaconda3/lib/python3.8/site-packages/sklearn/neural_network/_multilayer_perceptron.py:500: ConvergenceWarning: lbfgs failed to converge (status=1):\n",
      "STOP: TOTAL NO. of ITERATIONS REACHED LIMIT.\n",
      "\n",
      "Increase the number of iterations (max_iter) or scale the data as shown in:\n",
      "    https://scikit-learn.org/stable/modules/preprocessing.html\n",
      "  self.n_iter_ = _check_optimize_result(\"lbfgs\", opt_res, self.max_iter)\n"
     ]
    },
    {
     "name": "stdout",
     "output_type": "stream",
     "text": [
      "[CV 3/5] END .......alpha=0.01, hidden_layer_sizes=(100, 50); total time=  50.5s\n"
     ]
    },
    {
     "name": "stderr",
     "output_type": "stream",
     "text": [
      "/Users/felipeveiga/opt/anaconda3/lib/python3.8/site-packages/sklearn/neural_network/_multilayer_perceptron.py:500: ConvergenceWarning: lbfgs failed to converge (status=1):\n",
      "STOP: TOTAL NO. of ITERATIONS REACHED LIMIT.\n",
      "\n",
      "Increase the number of iterations (max_iter) or scale the data as shown in:\n",
      "    https://scikit-learn.org/stable/modules/preprocessing.html\n",
      "  self.n_iter_ = _check_optimize_result(\"lbfgs\", opt_res, self.max_iter)\n"
     ]
    },
    {
     "name": "stdout",
     "output_type": "stream",
     "text": [
      "[CV 4/5] END .......alpha=0.01, hidden_layer_sizes=(100, 50); total time=  52.1s\n"
     ]
    },
    {
     "name": "stderr",
     "output_type": "stream",
     "text": [
      "/Users/felipeveiga/opt/anaconda3/lib/python3.8/site-packages/sklearn/neural_network/_multilayer_perceptron.py:500: ConvergenceWarning: lbfgs failed to converge (status=1):\n",
      "STOP: TOTAL NO. of ITERATIONS REACHED LIMIT.\n",
      "\n",
      "Increase the number of iterations (max_iter) or scale the data as shown in:\n",
      "    https://scikit-learn.org/stable/modules/preprocessing.html\n",
      "  self.n_iter_ = _check_optimize_result(\"lbfgs\", opt_res, self.max_iter)\n"
     ]
    },
    {
     "name": "stdout",
     "output_type": "stream",
     "text": [
      "[CV 5/5] END .......alpha=0.01, hidden_layer_sizes=(100, 50); total time=  52.8s\n"
     ]
    },
    {
     "name": "stderr",
     "output_type": "stream",
     "text": [
      "/Users/felipeveiga/opt/anaconda3/lib/python3.8/site-packages/sklearn/neural_network/_multilayer_perceptron.py:500: ConvergenceWarning: lbfgs failed to converge (status=1):\n",
      "STOP: TOTAL NO. of ITERATIONS REACHED LIMIT.\n",
      "\n",
      "Increase the number of iterations (max_iter) or scale the data as shown in:\n",
      "    https://scikit-learn.org/stable/modules/preprocessing.html\n",
      "  self.n_iter_ = _check_optimize_result(\"lbfgs\", opt_res, self.max_iter)\n"
     ]
    },
    {
     "name": "stdout",
     "output_type": "stream",
     "text": [
      "[CV 1/5] END ........alpha=0.05, hidden_layer_sizes=(75, 25); total time=  29.9s\n"
     ]
    },
    {
     "name": "stderr",
     "output_type": "stream",
     "text": [
      "/Users/felipeveiga/opt/anaconda3/lib/python3.8/site-packages/sklearn/neural_network/_multilayer_perceptron.py:500: ConvergenceWarning: lbfgs failed to converge (status=1):\n",
      "STOP: TOTAL NO. of ITERATIONS REACHED LIMIT.\n",
      "\n",
      "Increase the number of iterations (max_iter) or scale the data as shown in:\n",
      "    https://scikit-learn.org/stable/modules/preprocessing.html\n",
      "  self.n_iter_ = _check_optimize_result(\"lbfgs\", opt_res, self.max_iter)\n"
     ]
    },
    {
     "name": "stdout",
     "output_type": "stream",
     "text": [
      "[CV 2/5] END ........alpha=0.05, hidden_layer_sizes=(75, 25); total time=  30.0s\n"
     ]
    },
    {
     "name": "stderr",
     "output_type": "stream",
     "text": [
      "/Users/felipeveiga/opt/anaconda3/lib/python3.8/site-packages/sklearn/neural_network/_multilayer_perceptron.py:500: ConvergenceWarning: lbfgs failed to converge (status=1):\n",
      "STOP: TOTAL NO. of ITERATIONS REACHED LIMIT.\n",
      "\n",
      "Increase the number of iterations (max_iter) or scale the data as shown in:\n",
      "    https://scikit-learn.org/stable/modules/preprocessing.html\n",
      "  self.n_iter_ = _check_optimize_result(\"lbfgs\", opt_res, self.max_iter)\n"
     ]
    },
    {
     "name": "stdout",
     "output_type": "stream",
     "text": [
      "[CV 3/5] END ........alpha=0.05, hidden_layer_sizes=(75, 25); total time=  30.0s\n"
     ]
    },
    {
     "name": "stderr",
     "output_type": "stream",
     "text": [
      "/Users/felipeveiga/opt/anaconda3/lib/python3.8/site-packages/sklearn/neural_network/_multilayer_perceptron.py:500: ConvergenceWarning: lbfgs failed to converge (status=1):\n",
      "STOP: TOTAL NO. of ITERATIONS REACHED LIMIT.\n",
      "\n",
      "Increase the number of iterations (max_iter) or scale the data as shown in:\n",
      "    https://scikit-learn.org/stable/modules/preprocessing.html\n",
      "  self.n_iter_ = _check_optimize_result(\"lbfgs\", opt_res, self.max_iter)\n"
     ]
    },
    {
     "name": "stdout",
     "output_type": "stream",
     "text": [
      "[CV 4/5] END ........alpha=0.05, hidden_layer_sizes=(75, 25); total time=  30.3s\n"
     ]
    },
    {
     "name": "stderr",
     "output_type": "stream",
     "text": [
      "/Users/felipeveiga/opt/anaconda3/lib/python3.8/site-packages/sklearn/neural_network/_multilayer_perceptron.py:500: ConvergenceWarning: lbfgs failed to converge (status=1):\n",
      "STOP: TOTAL NO. of ITERATIONS REACHED LIMIT.\n",
      "\n",
      "Increase the number of iterations (max_iter) or scale the data as shown in:\n",
      "    https://scikit-learn.org/stable/modules/preprocessing.html\n",
      "  self.n_iter_ = _check_optimize_result(\"lbfgs\", opt_res, self.max_iter)\n"
     ]
    },
    {
     "name": "stdout",
     "output_type": "stream",
     "text": [
      "[CV 5/5] END ........alpha=0.05, hidden_layer_sizes=(75, 25); total time=  30.6s\n"
     ]
    },
    {
     "name": "stderr",
     "output_type": "stream",
     "text": [
      "/Users/felipeveiga/opt/anaconda3/lib/python3.8/site-packages/sklearn/neural_network/_multilayer_perceptron.py:500: ConvergenceWarning: lbfgs failed to converge (status=1):\n",
      "STOP: TOTAL NO. of ITERATIONS REACHED LIMIT.\n",
      "\n",
      "Increase the number of iterations (max_iter) or scale the data as shown in:\n",
      "    https://scikit-learn.org/stable/modules/preprocessing.html\n",
      "  self.n_iter_ = _check_optimize_result(\"lbfgs\", opt_res, self.max_iter)\n"
     ]
    },
    {
     "name": "stdout",
     "output_type": "stream",
     "text": [
      "[CV 1/5] END .......alpha=0.05, hidden_layer_sizes=(100, 50); total time=  51.7s\n"
     ]
    },
    {
     "name": "stderr",
     "output_type": "stream",
     "text": [
      "/Users/felipeveiga/opt/anaconda3/lib/python3.8/site-packages/sklearn/neural_network/_multilayer_perceptron.py:500: ConvergenceWarning: lbfgs failed to converge (status=1):\n",
      "STOP: TOTAL NO. of ITERATIONS REACHED LIMIT.\n",
      "\n",
      "Increase the number of iterations (max_iter) or scale the data as shown in:\n",
      "    https://scikit-learn.org/stable/modules/preprocessing.html\n",
      "  self.n_iter_ = _check_optimize_result(\"lbfgs\", opt_res, self.max_iter)\n"
     ]
    },
    {
     "name": "stdout",
     "output_type": "stream",
     "text": [
      "[CV 2/5] END .......alpha=0.05, hidden_layer_sizes=(100, 50); total time=  51.9s\n"
     ]
    },
    {
     "name": "stderr",
     "output_type": "stream",
     "text": [
      "/Users/felipeveiga/opt/anaconda3/lib/python3.8/site-packages/sklearn/neural_network/_multilayer_perceptron.py:500: ConvergenceWarning: lbfgs failed to converge (status=1):\n",
      "STOP: TOTAL NO. of ITERATIONS REACHED LIMIT.\n",
      "\n",
      "Increase the number of iterations (max_iter) or scale the data as shown in:\n",
      "    https://scikit-learn.org/stable/modules/preprocessing.html\n",
      "  self.n_iter_ = _check_optimize_result(\"lbfgs\", opt_res, self.max_iter)\n"
     ]
    },
    {
     "name": "stdout",
     "output_type": "stream",
     "text": [
      "[CV 3/5] END .......alpha=0.05, hidden_layer_sizes=(100, 50); total time=  51.9s\n"
     ]
    },
    {
     "name": "stderr",
     "output_type": "stream",
     "text": [
      "/Users/felipeveiga/opt/anaconda3/lib/python3.8/site-packages/sklearn/neural_network/_multilayer_perceptron.py:500: ConvergenceWarning: lbfgs failed to converge (status=1):\n",
      "STOP: TOTAL NO. of ITERATIONS REACHED LIMIT.\n",
      "\n",
      "Increase the number of iterations (max_iter) or scale the data as shown in:\n",
      "    https://scikit-learn.org/stable/modules/preprocessing.html\n",
      "  self.n_iter_ = _check_optimize_result(\"lbfgs\", opt_res, self.max_iter)\n"
     ]
    },
    {
     "name": "stdout",
     "output_type": "stream",
     "text": [
      "[CV 4/5] END .......alpha=0.05, hidden_layer_sizes=(100, 50); total time=  52.3s\n"
     ]
    },
    {
     "name": "stderr",
     "output_type": "stream",
     "text": [
      "/Users/felipeveiga/opt/anaconda3/lib/python3.8/site-packages/sklearn/neural_network/_multilayer_perceptron.py:500: ConvergenceWarning: lbfgs failed to converge (status=1):\n",
      "STOP: TOTAL NO. of ITERATIONS REACHED LIMIT.\n",
      "\n",
      "Increase the number of iterations (max_iter) or scale the data as shown in:\n",
      "    https://scikit-learn.org/stable/modules/preprocessing.html\n",
      "  self.n_iter_ = _check_optimize_result(\"lbfgs\", opt_res, self.max_iter)\n"
     ]
    },
    {
     "name": "stdout",
     "output_type": "stream",
     "text": [
      "[CV 5/5] END .......alpha=0.05, hidden_layer_sizes=(100, 50); total time=  52.6s\n"
     ]
    },
    {
     "name": "stderr",
     "output_type": "stream",
     "text": [
      "/Users/felipeveiga/opt/anaconda3/lib/python3.8/site-packages/sklearn/neural_network/_multilayer_perceptron.py:500: ConvergenceWarning: lbfgs failed to converge (status=1):\n",
      "STOP: TOTAL NO. of ITERATIONS REACHED LIMIT.\n",
      "\n",
      "Increase the number of iterations (max_iter) or scale the data as shown in:\n",
      "    https://scikit-learn.org/stable/modules/preprocessing.html\n",
      "  self.n_iter_ = _check_optimize_result(\"lbfgs\", opt_res, self.max_iter)\n"
     ]
    }
   ],
   "source": [
    "from sklearn.neural_network import MLPRegressor\n",
    "param_grid = dict(hidden_layer_sizes=[(75,25), (100,50)],\n",
    "                 alpha=[.01, .05])\n",
    "business_mlp = MLPRegressor(solver='lbfgs',random_state=42)\n",
    "\n",
    "business_mlp_gscv = GridSearchCV(business_mlp, param_grid, scoring='neg_root_mean_squared_error', \n",
    "                                  cv=5, verbose=3).fit(X_train_business, y_train_business)"
   ]
  },
  {
   "cell_type": "code",
   "execution_count": 752,
   "id": "d7e1cd5f-1f01-4d75-b9b4-3716caa82397",
   "metadata": {},
   "outputs": [
    {
     "data": {
      "text/plain": [
       "(-5031.1418218513045, {'alpha': 0.05, 'hidden_layer_sizes': (100, 50)})"
      ]
     },
     "execution_count": 752,
     "metadata": {},
     "output_type": "execute_result"
    }
   ],
   "source": [
    "# The Neural Network did not have a satisfactory RMSE in this case...\n",
    "business_mlp_gscv.best_score_, business_mlp_gscv.best_params_"
   ]
  },
  {
   "cell_type": "markdown",
   "id": "14ca3e00-6ef8-4901-929b-8eabfad1eefa",
   "metadata": {},
   "source": [
    "<h2 style='font-size:30px'> Bundling the best estimators</h2>\n",
    "<div> \n",
    "    <ul style='font-size:20px'> \n",
    "        <li>\n",
    "            From the validations performed, for both seat classes, the XGBoostRegressor achieved the lowest RMSE. Thus, it will be used in the Python class to be created for deployment use. \n",
    "        </li>\n",
    "    </ul>\n",
    "</div>"
   ]
  },
  {
   "cell_type": "code",
   "execution_count": 1001,
   "id": "10ce84a9-4192-4f59-88b7-a790a6829735",
   "metadata": {},
   "outputs": [],
   "source": [
    "from sklearn.base import RegressorMixin\n",
    "from operator import itemgetter\n",
    "\n",
    "# A transformation pipeline has been built and fitted for both kinds of seat classes.\n",
    "business_pipeline = Pipeline([\n",
    "                    ('meaning_from_text', MeaningFromText(train)),\n",
    "                    ('imputer', KNNImputer()),\n",
    "                    ('std_scaler', StandardScaler())]).fit(business_train.iloc[:, :-1], y_train_business)\n",
    "    \n",
    "economy_pipeline = Pipeline([\n",
    "                ('meaning_from_text', MeaningFromText(train)),\n",
    "                ('imputer', KNNImputer()),\n",
    "                ('std_scaler', StandardScaler())]).fit(economy_train.iloc[:, :-1], y_train_economy)\n",
    "\n",
    "class FinalPredictor(RegressorMixin):\n",
    "    \n",
    "    def __init__(self, business_pipeline, business_model, economy_pipeline, economy_model):\n",
    "        # Two transformation pipelines need to be informed along a pair of models.\n",
    "        self.business_pipeline = business_pipeline\n",
    "        self.business_model = business_model\n",
    "        self.economy_pipeline = economy_pipeline\n",
    "        self.economy_model = economy_model\n",
    "        \n",
    "    def fit(self, X, y=None):\n",
    "        return self\n",
    "    \n",
    "    def predict(self, X):\n",
    "        # In order preserve the instances order in the class' output, we are going to redefine the dataset index.\n",
    "        X.index = range(X.shape[0]) \n",
    "        \n",
    "        # Segregating the data according to the instances' seat class.\n",
    "        business_dataset = X[X['class']=='Business']\n",
    "        economy_dataset = X[X['class']=='Economy']\n",
    "        \n",
    "        # As the predictions for both sort of tickets will be appended, there is going to occur a mismatch between the estimations and\n",
    "        # their respective instances. Hence, we'll need to generate a relationship between the data indices in the append product\n",
    "        # and their original positions in 'X'.\n",
    "        appended_business_economy = business_dataset.append(economy_dataset)\n",
    "        keep_track_real_order = sorted(zip(range(appended_business_economy.shape[0]),appended_business_economy.index), key=itemgetter(1))\n",
    "        \n",
    "        # 'output_order' mentions the exact order the estimations need to be presented. For instance, if the 14th and 58th predictions \n",
    "        # from the append procedure actually refer to the 1st and 2nd 'X' instances, the list will exhibit [14, 58, ...].\n",
    "        output_order = list(map(itemgetter(0), keep_track_real_order))\n",
    "        \n",
    "        # Performing the predictions for both of the datasets.\n",
    "        transformed_business = self.business_pipeline.transform(business_dataset)\n",
    "        business_predictions = self.business_model.predict(transformed_business)\n",
    "        \n",
    "        transformed_economy = self.economy_pipeline.transform(economy_dataset)\n",
    "        economy_predictions = self.economy_model.predict(transformed_economy)\n",
    "        \n",
    "        # Appending both prediction arrays. Note that the position of the estimations is not matching the one from their respective \n",
    "        # data from 'X'.\n",
    "        prediction_append = np.hstack((business_predictions, economy_predictions))\n",
    "        \n",
    "        # Now, displaying the predictions in the correct order using 'output_order'.\n",
    "        return prediction_append[output_order]"
   ]
  },
  {
   "cell_type": "code",
   "execution_count": 1006,
   "id": "f3e23201-5475-4c18-a79c-a2f877533130",
   "metadata": {},
   "outputs": [],
   "source": [
    "# Finally, segregating the independent and dependent variables from the test set.\n",
    "X_test = test.iloc[:, :-1]\n",
    "y_test = test.iloc[:,-1]\n",
    "X_test.index = range(X_test.shape[0])\n",
    "\n",
    "# Let's see how our predictions turn out to be.\n",
    "test_predictions = FinalPredictor(business_pipeline, business_xgb_gscv.best_estimator_, \n",
    "                   economy_pipeline, economy_xgb_gscv.best_estimator_).predict(X_test)"
   ]
  },
  {
   "cell_type": "code",
   "execution_count": 1011,
   "id": "22089c52-05a2-4fe5-92e6-d1a5c777d54d",
   "metadata": {},
   "outputs": [
    {
     "data": {
      "text/plain": [
       "4171.848223323689"
      ]
     },
     "execution_count": 1011,
     "metadata": {},
     "output_type": "execute_result"
    }
   ],
   "source": [
    "# We've achieved a great RMSE for the test set! \n",
    "test_rmse = np.sqrt(mean_squared_error(y_test,test_predictions))\n",
    "test_rmse"
   ]
  }
 ],
 "metadata": {
  "kernelspec": {
   "display_name": "Python 3",
   "language": "python",
   "name": "python3"
  },
  "language_info": {
   "codemirror_mode": {
    "name": "ipython",
    "version": 3
   },
   "file_extension": ".py",
   "mimetype": "text/x-python",
   "name": "python",
   "nbconvert_exporter": "python",
   "pygments_lexer": "ipython3",
   "version": "3.8.8"
  }
 },
 "nbformat": 4,
 "nbformat_minor": 5
}
